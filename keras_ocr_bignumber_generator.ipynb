{
  "cells": [
    {
      "cell_type": "markdown",
      "metadata": {
        "id": "view-in-github",
        "colab_type": "text"
      },
      "source": [
        "<a href=\"https://colab.research.google.com/github/danyentezari/bn-ocr/blob/main/keras_ocr_bignumber_generator.ipynb\" target=\"_parent\"><img src=\"https://colab.research.google.com/assets/colab-badge.svg\" alt=\"Open In Colab\"/></a>"
      ]
    },
    {
      "cell_type": "code",
      "execution_count": null,
      "metadata": {
        "id": "obI7x309JZl7"
      },
      "outputs": [],
      "source": [
        "!pip install keras==2.2.5\n",
        "!pip install tensorflow==1.13.1\n",
        "# !unzip kaggle.json.zip\n",
        "# !mkdir ~/.kaggle \n",
        "# !cp kaggle.json ~/.kaggle/\n",
        "# !chmod 600 ~/.kaggle/kaggle.json\n",
        "# !kaggle datasets download scolianni/mnistasjpg\n",
        "# !unzip mnistasjpg.zip\n",
        "!pip install 'h5py==2.10.0' --force-reinstall\n",
        "!pip install cairocffi\n",
        "!pip install gdown\n",
        "!pip install synthtiger"
      ]
    },
    {
      "cell_type": "code",
      "execution_count": null,
      "metadata": {
        "colab": {
          "base_uri": "https://localhost:8080/"
        },
        "id": "ySjCR1kKQyuw",
        "outputId": "9a68065e-fc5f-42ac-9a11-28a7e2e567f6"
      },
      "outputs": [
        {
          "name": "stdout",
          "output_type": "stream",
          "text": [
            "fatal: destination path 'synthtiger' already exists and is not an empty directory.\n"
          ]
        }
      ],
      "source": [
        "!pip install synthtiger\n",
        "!git clone https://github.com/clovaai/synthtiger.git\n",
        "!cp -r synthtiger/* .\n",
        "!synthtiger -o results -w 4 -c 2000 -v examples/synthtiger/template.py SynthTiger examples/synthtiger/config_horizontal.yaml"
      ]
    },
    {
      "cell_type": "code",
      "execution_count": 144,
      "metadata": {
        "colab": {
          "base_uri": "https://localhost:8080/"
        },
        "id": "jsIR42VJ8Rfr",
        "outputId": "c6db60f4-dabe-40f7-f3bb-583f78878c3f"
      },
      "outputs": [
        {
          "output_type": "stream",
          "name": "stdout",
          "text": [
            "  % Total    % Received % Xferd  Average Speed   Time    Time     Time  Current\n",
            "                                 Dload  Upload   Total   Spent    Left  Speed\n",
            "  9  9.9G    9  950M    0     0    99k      0 29:00:16  2:42:30 26:17:46   99k^C\n"
          ]
        }
      ],
      "source": [
        "!curl https://thor.robots.ox.ac.uk/~vgg/data/text/mjsynth.tar.gz --output mjsynth.tar.gz"
      ]
    },
    {
      "cell_type": "code",
      "source": [
        "!tar -xvf ./mjsynth.tar.gz"
      ],
      "metadata": {
        "id": "CpZGf6hIigVa"
      },
      "execution_count": null,
      "outputs": []
    },
    {
      "cell_type": "code",
      "execution_count": null,
      "metadata": {
        "colab": {
          "base_uri": "https://localhost:8080/"
        },
        "id": "dq_h85uJ60oR",
        "outputId": "b6a49fc5-37bc-4b4b-e636-bdbe7c210edc"
      },
      "outputs": [
        {
          "name": "stderr",
          "output_type": "stream",
          "text": [
            "/usr/local/lib/python3.7/dist-packages/tensorflow/python/framework/dtypes.py:526: FutureWarning: Passing (type, 1) or '1type' as a synonym of type is deprecated; in a future version of numpy, it will be understood as (type, (1,)) / '(1,)type'.\n",
            "  _np_qint8 = np.dtype([(\"qint8\", np.int8, 1)])\n",
            "/usr/local/lib/python3.7/dist-packages/tensorflow/python/framework/dtypes.py:527: FutureWarning: Passing (type, 1) or '1type' as a synonym of type is deprecated; in a future version of numpy, it will be understood as (type, (1,)) / '(1,)type'.\n",
            "  _np_quint8 = np.dtype([(\"quint8\", np.uint8, 1)])\n",
            "/usr/local/lib/python3.7/dist-packages/tensorflow/python/framework/dtypes.py:528: FutureWarning: Passing (type, 1) or '1type' as a synonym of type is deprecated; in a future version of numpy, it will be understood as (type, (1,)) / '(1,)type'.\n",
            "  _np_qint16 = np.dtype([(\"qint16\", np.int16, 1)])\n",
            "/usr/local/lib/python3.7/dist-packages/tensorflow/python/framework/dtypes.py:529: FutureWarning: Passing (type, 1) or '1type' as a synonym of type is deprecated; in a future version of numpy, it will be understood as (type, (1,)) / '(1,)type'.\n",
            "  _np_quint16 = np.dtype([(\"quint16\", np.uint16, 1)])\n",
            "/usr/local/lib/python3.7/dist-packages/tensorflow/python/framework/dtypes.py:530: FutureWarning: Passing (type, 1) or '1type' as a synonym of type is deprecated; in a future version of numpy, it will be understood as (type, (1,)) / '(1,)type'.\n",
            "  _np_qint32 = np.dtype([(\"qint32\", np.int32, 1)])\n",
            "/usr/local/lib/python3.7/dist-packages/tensorflow/python/framework/dtypes.py:535: FutureWarning: Passing (type, 1) or '1type' as a synonym of type is deprecated; in a future version of numpy, it will be understood as (type, (1,)) / '(1,)type'.\n",
            "  np_resource = np.dtype([(\"resource\", np.ubyte, 1)])\n",
            "Using TensorFlow backend.\n"
          ]
        }
      ],
      "source": [
        "import matplotlib.pyplot as plt\n",
        "import numpy as np\n",
        "from os import listdir\n",
        "from os.path import isfile, join\n",
        "import re\n",
        "from scipy.sparse import csr_matrix\n",
        "import cv2\n",
        "import string\n",
        "from PIL import Image\n",
        "\n",
        "import itertools\n",
        "from sklearn.model_selection import train_test_split\n",
        "from sklearn.feature_extraction.text import HashingVectorizer\n",
        "\n",
        "import tensorflow as tf\n",
        "from tensorflow.keras import datasets, layers, models\n",
        "\n",
        "import keras\n",
        "from keras.utils.np_utils import to_categorical\n",
        "from keras.preprocessing.image import ImageDataGenerator\n",
        "from keras.models import Sequential\n",
        "from keras.layers import * #Conv2D, Lambda, MaxPooling2D # convolution layers\n",
        "#from keras.layers import Dense, Dropout, Flatten # core layers\n",
        "# from keras.layers.normalization import BatchNormalization\n",
        "from keras.preprocessing.image import load_img\n",
        "from keras.preprocessing.image import img_to_array\n",
        "\n",
        "\n",
        "from keras import backend as K\n",
        "from keras.layers.convolutional import Conv2D, MaxPooling2D\n",
        "# from keras.layers import Input, Dense, Activation, Add\n",
        "# from keras.layers import Reshape, Lambda\n",
        "from keras.layers.merge import add, concatenate\n",
        "from keras.models import Model\n",
        "from keras.layers.recurrent import GRU\n",
        "from keras.utils.data_utils import get_file\n",
        "from keras.preprocessing import image\n",
        "import keras.callbacks\n",
        "#from keras.metrics import Metric\n",
        "from tensorflow.python.keras.metrics import Metric\n",
        "\n",
        "import matplotlib.pyplot as plt\n",
        "%matplotlib inline\n"
      ]
    },
    {
      "cell_type": "markdown",
      "metadata": {
        "id": "jXCR8ROH7ep6"
      },
      "source": [
        "### Features and Labels"
      ]
    },
    {
      "cell_type": "code",
      "execution_count": null,
      "metadata": {
        "colab": {
          "base_uri": "https://localhost:8080/"
        },
        "id": "XHEX6GYfOJvY",
        "outputId": "b42b2e50-0533-4ccb-9d5b-b96c4643ee75"
      },
      "outputs": [
        {
          "data": {
            "text/plain": [
              "array([[ 1,  2,  3],\n",
              "       [ 4,  5,  6],\n",
              "       [ 7,  8,  9],\n",
              "       [10, 11, 12]], dtype=int32)"
            ]
          },
          "execution_count": 3,
          "metadata": {},
          "output_type": "execute_result"
        }
      ],
      "source": [
        "t1 = [[1, 2, 3], [4, 5, 6]]\n",
        "t2 = [[7, 8, 9], [10, 11, 12]]\n",
        "x = tf.concat([t1, t2], 0)\n",
        "x.eval(session=tf.compat.v1.Session())"
      ]
    },
    {
      "cell_type": "code",
      "execution_count": null,
      "metadata": {
        "id": "FDwUvArMSHeP"
      },
      "outputs": [],
      "source": [
        "cw = 200\n",
        "ch = 80"
      ]
    },
    {
      "cell_type": "code",
      "execution_count": null,
      "metadata": {
        "colab": {
          "base_uri": "https://localhost:8080/",
          "height": 203
        },
        "id": "LYdzLKEPcsyV",
        "outputId": "2471dd00-60ae-4f79-da93-13b6a7facc8e"
      },
      "outputs": [
        {
          "data": {
            "text/plain": [
              "<matplotlib.image.AxesImage at 0x7f091566d6d0>"
            ]
          },
          "execution_count": 47,
          "metadata": {},
          "output_type": "execute_result"
        },
        {
          "data": {
            "image/png": "[encoded data removed]",
            "text/plain": [
              "<Figure size 432x288 with 1 Axes>"
            ]
          },
          "metadata": {},
          "output_type": "display_data"
        }
      ],
      "source": [
        "def loadImage(filepath):\n",
        "  img = load_img(filepath, target_size=(ch, cw))\n",
        "  img = img_to_array(img)\n",
        "  #img = img.reshape(1, 42, 42, 3)\n",
        "  img = img.reshape(ch, cw, 3)\n",
        "  img = img.astype('float32')\n",
        "  img = img / 255.0\n",
        "  return img\n",
        "\n",
        "plt.imshow(loadImage('./america.png'))"
      ]
    },
    {
      "cell_type": "code",
      "execution_count": null,
      "metadata": {
        "colab": {
          "base_uri": "https://localhost:8080/",
          "height": 203
        },
        "id": "I_86M97mSFgI",
        "outputId": "c2585170-4f2d-45b8-8f80-4345b8467825"
      },
      "outputs": [
        {
          "data": {
            "text/plain": [
              "<matplotlib.image.AxesImage at 0x7f091fa57e90>"
            ]
          },
          "execution_count": 5,
          "metadata": {},
          "output_type": "execute_result"
        },
        {
          "data": {
            "image/png": "[encoded data removed]",
            "text/plain": [
              "<Figure size 432x288 with 1 Axes>"
            ]
          },
          "metadata": {},
          "output_type": "display_data"
        }
      ],
      "source": [
        "def scale_resize_image(image):\n",
        "    image = tf.image.convert_image_dtype(image, tf.float32) # equivalent to dividing image pixels by 255\n",
        "    image = tf.image.resize(image, (ch, cw))\n",
        "    return image\n",
        "\n",
        "\n",
        "someimg = load_img('./america.png')\n",
        "\n",
        "someimg = scale_resize_image( someimg )\n",
        "# someimg = someimg.astype('float32')\n",
        "\n",
        "plt.imshow( someimg.eval(session=tf.compat.v1.Session()) )"
      ]
    },
    {
      "cell_type": "code",
      "execution_count": null,
      "metadata": {
        "id": "oY3bH7oEpKH9"
      },
      "outputs": [],
      "source": [
        "def create_canvas(canvas_h=300, canvas_w=300):\n",
        "  # Create canvas\n",
        "  canvas_color = 255\n",
        "\n",
        "  pixel_rows = []\n",
        "  row = [canvas_color for x in range(0,canvas_w)]\n",
        "  for i in range(0,canvas_h):\n",
        "    pixel_rows.append(row)\n",
        "  r = pixel_rows\n",
        "  g = pixel_rows\n",
        "  b = pixel_rows\n",
        "\n",
        "  canvas = np.dstack((r,g,b))\n",
        "  return canvas\n",
        "\n",
        "# cw = 950\n",
        "# ch = 200\n",
        "canvas = create_canvas(ch, cw)\n",
        "\n",
        "def center_pad_image(img, canvas_h=300, canvas_w=300):\n",
        "  # Image positions\n",
        "  img2_width = img.shape[1]\n",
        "  img2_height = img.shape[0]\n",
        "  black_row = np.array([[0 for x in range(0,img2_width)]])\n",
        "  img2 = np.dstack((black_row,black_row,black_row))\n",
        "\n",
        "\n",
        "  startx = int((canvas_w-img2_width)/2)\n",
        "  starty = int((canvas_h-img2_height)/2)\n",
        "  endx = startx + img2_width\n",
        "  endy = starty + img2_height\n",
        "\n",
        "  # Superimpose image\n",
        "  to_superimpose = Image.fromarray(np.uint8(img)).convert('RGB')\n",
        "  # Reset global canvas\n",
        "  canvas[:, :] = 255\n",
        "  canvas[starty:endy, startx:endx] = to_superimpose\n",
        "\n",
        "\n",
        "  return Image.fromarray(np.uint8(canvas)).convert('RGB')\n",
        "\n",
        "\n",
        "# center_pad_image(sample_image, ch, cw)"
      ]
    },
    {
      "cell_type": "code",
      "execution_count": null,
      "metadata": {
        "id": "0JPKc9lt3YwD"
      },
      "outputs": [],
      "source": [
        "def create_canvas(canvas_h=300, canvas_w=300):\n",
        "  # Create canvas\n",
        "  canvas_color = 0\n",
        "\n",
        "  pixel_rows = []\n",
        "  row = [canvas_color for x in range(0,canvas_w)]\n",
        "  for i in range(0,canvas_h):\n",
        "    pixel_rows.append(row)\n",
        "  r = pixel_rows\n",
        "  g = pixel_rows\n",
        "  b = pixel_rows\n",
        "\n",
        "  canvas = np.dstack((r,g,b))\n",
        "  return canvas\n",
        "\n",
        "# cw = 300\n",
        "# ch = 100\n",
        "canvas = create_canvas(ch, cw)\n",
        "\n",
        "def negative_pad_image(img, canvas_h=300, canvas_w=300):\n",
        "  # Image positions\n",
        "  img2_width = img.shape[1]\n",
        "  img2_height = img.shape[0]\n",
        "  black_row = np.array([[0 for x in range(0,img2_width)]])\n",
        "  img2 = np.dstack((black_row,black_row,black_row))\n",
        "\n",
        "\n",
        "  startx = 0#int((canvas_w-img2_width)/2)\n",
        "  starty = 0#int((canvas_h-img2_height)/2)\n",
        "  endx = startx + img2_width\n",
        "  endy = starty + img2_height\n",
        "\n",
        "  # Superimpose image\n",
        "  to_superimpose = img # Image.fromarray(np.uint8(img)).convert('RGB')\n",
        "  # Reset global canvas\n",
        "  canvas[:, :] = 0 #255\n",
        "  canvas[starty:endy, startx:endx] = to_superimpose\n",
        "\n",
        "\n",
        "  return canvas #Image.fromarray(np.uint8(canvas)).convert('RGB')"
      ]
    },
    {
      "cell_type": "code",
      "execution_count": null,
      "metadata": {
        "id": "F4w5uyHePfl5"
      },
      "outputs": [],
      "source": [
        "a = tf.constant([[[0], [0], [0]]])\n",
        "b = tf.constant([[[0], [0], [0]]])\n",
        "\n",
        "x = tf.concat([a, b], 0)\n",
        "print(x.eval(session=tf.compat.v1.Session()))\n",
        "print(x.shape)"
      ]
    },
    {
      "cell_type": "code",
      "execution_count": null,
      "metadata": {
        "colab": {
          "base_uri": "https://localhost:8080/"
        },
        "id": "D4lpiHflPvVy",
        "outputId": "c1351342-b753-4113-fca2-5e631c2f91f5"
      },
      "outputs": [
        {
          "name": "stdout",
          "output_type": "stream",
          "text": [
            "(2, 80, 200, 3)\n"
          ]
        }
      ],
      "source": [
        "a = tf.constant( np.empty((1, ch, cw, 3)), dtype='float32')\n",
        "b = tf.constant([[0, 0, 0]])\n",
        "c = tf.constant( np.empty((1, ch, cw, 3)), dtype='float32')\n",
        "\n",
        "\n",
        "x = tf.concat([a, c], 0)\n",
        "# print(x.eval(session=tf.compat.v1.Session()))\n",
        "print(x.shape)"
      ]
    },
    {
      "cell_type": "code",
      "execution_count": null,
      "metadata": {
        "colab": {
          "base_uri": "https://localhost:8080/",
          "height": 222
        },
        "id": "N-nD7bwuS6XM",
        "outputId": "868f6842-3bf1-4477-82e0-74558ce52773"
      },
      "outputs": [
        {
          "name": "stdout",
          "output_type": "stream",
          "text": [
            "(2000, 80, 200, 3)\n"
          ]
        },
        {
          "data": {
            "text/plain": [
              "<matplotlib.image.AxesImage at 0x7f08fcdb03d0>"
            ]
          },
          "execution_count": 116,
          "metadata": {},
          "output_type": "execute_result"
        },
        {
          "data": {
            "image/png": "[encoded data removed]",
            "text/plain": [
              "<Figure size 432x288 with 1 Axes>"
            ]
          },
          "metadata": {},
          "output_type": "display_data"
        }
      ],
      "source": [
        "import re\n",
        "file1 = open('./results/gt.txt', 'r')\n",
        "Lines = file1.readlines()\n",
        "\n",
        "\n",
        "data_F = [] # np.array([])#np.empty((n, ch, cw, 3))\n",
        "data_L = [] # np.array([])\n",
        "\n",
        "n = 0\n",
        "count = 0\n",
        "# Strips the newline character\n",
        "for i,line in enumerate(Lines[0:2000]):\n",
        "    d = re.split('\\t', line)\n",
        "    d[1] = d[1].replace('\\n','')\n",
        "\n",
        "    img = loadImage(f'results/{d[0]}')\n",
        "    #img = load_img(f'results/{d[0]}')\n",
        "\n",
        "    # if( img.shape[0] <= ch and img.shape[0] >= 20 and img.shape[1] <= cw and img.shape[1] >= 80):\n",
        "\n",
        "    n += 1\n",
        "    # loaded_image = img.astype(np.uint8)\n",
        "    # loaded_image = np.array(negative_pad_image(img, ch, cw))\n",
        "\n",
        "    # data_F[i] = loaded_image\n",
        "    # data_L = np.append(data_L, d[1])\n",
        "\n",
        "    # loaded_image = scale_resize_image(img)\n",
        "    # loaded_image = loaded_image / 255\n",
        "    data_F.append(img)\n",
        "    data_L.append(d[1])\n",
        "\n",
        "\n",
        "data_F = np.array(data_F)\n",
        "data_L = np.array(data_L)\n",
        "data_F.reshape(2000, 80, 200, 3)\n",
        "print(data_F.shape)\n",
        "# Image.fromarray(np.uint8(data_F[0])).convert('RGB')\n",
        "#plt.imshow( data_F[0].eval(session=tf.compat.v1.Session()) )\n",
        "\n",
        "\n",
        "# img = sample_image.astype(np.uint8) \n",
        "# img = np.array(negative_pad_image(img, ch, cw))\n",
        "# plt.imshow(img)\n",
        "\n",
        "plt.imshow(data_F[0])"
      ]
    },
    {
      "cell_type": "code",
      "execution_count": null,
      "metadata": {
        "colab": {
          "base_uri": "https://localhost:8080/"
        },
        "id": "-8BUkDmHsVhx",
        "outputId": "3e203534-1edd-4e0f-e1a1-f37e75163d03"
      },
      "outputs": [
        {
          "name": "stdout",
          "output_type": "stream",
          "text": [
            "(2000, 80, 200, 3)\n",
            "2000\n",
            "2000\n"
          ]
        }
      ],
      "source": [
        "# data_F[0].eval(session=tf.compat.v1.Session())\n",
        "print(data_F.shape)\n",
        "print(n)\n",
        "print(len(Lines))"
      ]
    },
    {
      "cell_type": "code",
      "execution_count": null,
      "metadata": {
        "id": "EiSWPt8rgYBT"
      },
      "outputs": [],
      "source": [
        "# plt.imshow(data_F[0])\n",
        "\n",
        "# # print(data_F[10])\n",
        "# print(data_L[10])\n",
        "# print(x.shape)\n",
        "# print(img.shape)"
      ]
    },
    {
      "cell_type": "code",
      "execution_count": null,
      "metadata": {
        "id": "jF7IUwQ4tq5e"
      },
      "outputs": [],
      "source": [
        "alphabet = 'abcdefghijklmnopqrstuvwxyzABCDEFGHIJKLMNOPQRSTUVWXYZ./:;,\\'\"-_1234567890?!)(][}{><=*@#$%^&|~+`'\n",
        "alph_num = re.split('', alphabet)\n",
        "alph_dict = dict({})\n",
        "\n",
        "# alph_num.pop(0)\n",
        "for j, c in enumerate(alph_num):\n",
        "  alph_dict[c] = j"
      ]
    },
    {
      "cell_type": "code",
      "execution_count": null,
      "metadata": {
        "colab": {
          "base_uri": "https://localhost:8080/"
        },
        "id": "7-zdBwXRvZCX",
        "outputId": "23a6abd9-be6c-4ce6-ae27-21fae5021365"
      },
      "outputs": [
        {
          "data": {
            "text/plain": [
              "[28, 5, 20, 20, 5, 18]"
            ]
          },
          "execution_count": 120,
          "metadata": {},
          "output_type": "execute_result"
        }
      ],
      "source": [
        "s = 'Better'\n",
        "alph_dict\n",
        "_id = list(map(lambda c: alph_dict[c], s))\n",
        "_id\n",
        "# data_L_dist = to_categorical(data_L[0])"
      ]
    },
    {
      "cell_type": "code",
      "execution_count": null,
      "metadata": {
        "colab": {
          "base_uri": "https://localhost:8080/"
        },
        "id": "wtqgbz_zeYd1",
        "outputId": "f66848f7-36fd-46e2-f5c7-cddc1fe9742e"
      },
      "outputs": [
        {
          "data": {
            "text/plain": [
              "94"
            ]
          },
          "execution_count": 121,
          "metadata": {},
          "output_type": "execute_result"
        }
      ],
      "source": [
        "len(alph_dict)"
      ]
    },
    {
      "cell_type": "code",
      "execution_count": null,
      "metadata": {
        "id": "pUNOAafDwDRa"
      },
      "outputs": [],
      "source": [
        "m = lambda x: [alph_dict[c] for c in x]\n",
        "\n",
        "data_L_id = np.zeros((n,50))\n",
        "for k,data in enumerate(data_L):\n",
        "  # data = data.lower()\n",
        "  ids = m(data)\n",
        "  # data_L_id = np.append(data_L_id, [ids], axis=0)\n",
        "  data_L_id[k][0:len(ids)] = ids[:]\n",
        "  # data_L_id = np.append(data_L_id, m(data), axis=0)"
      ]
    },
    {
      "cell_type": "code",
      "execution_count": null,
      "metadata": {
        "id": "buO-b82007pM"
      },
      "outputs": [],
      "source": [
        "data_L_dist = to_categorical(data_L_id)"
      ]
    },
    {
      "cell_type": "code",
      "execution_count": null,
      "metadata": {
        "colab": {
          "base_uri": "https://localhost:8080/"
        },
        "id": "pO_Z5df91C5U",
        "outputId": "6c3e5aad-0357-4b59-9404-09bdb7fa2927"
      },
      "outputs": [
        {
          "data": {
            "text/plain": [
              "(2000, 50, 94)"
            ]
          },
          "execution_count": 124,
          "metadata": {},
          "output_type": "execute_result"
        }
      ],
      "source": [
        "data_L_dist.shape"
      ]
    },
    {
      "cell_type": "code",
      "execution_count": null,
      "metadata": {
        "colab": {
          "base_uri": "https://localhost:8080/"
        },
        "id": "DoQzXJsSoHmP",
        "outputId": "8bba59f1-4356-4bda-fa6f-8182277273c9"
      },
      "outputs": [
        {
          "data": {
            "text/plain": [
              "(2000, 80, 200, 3)"
            ]
          },
          "execution_count": 125,
          "metadata": {},
          "output_type": "execute_result"
        }
      ],
      "source": [
        "data_F.shape"
      ]
    },
    {
      "cell_type": "code",
      "execution_count": null,
      "metadata": {
        "colab": {
          "base_uri": "https://localhost:8080/"
        },
        "id": "mvu24rQg1G2a",
        "outputId": "bfdbf455-b63a-428d-dbab-bbdf52bbe26f"
      },
      "outputs": [
        {
          "data": {
            "text/plain": [
              "93"
            ]
          },
          "execution_count": 126,
          "metadata": {},
          "output_type": "execute_result"
        }
      ],
      "source": [
        "len(alphabet)"
      ]
    },
    {
      "cell_type": "markdown",
      "metadata": {
        "id": "y3mlAF8Q7ocC"
      },
      "source": [
        "### Model"
      ]
    },
    {
      "cell_type": "code",
      "execution_count": null,
      "metadata": {
        "id": "KfOMTtB1hcdF"
      },
      "outputs": [],
      "source": [
        "train_F, test_F, train_L_dist, test_L_dist = train_test_split(data_F, data_L_dist, test_size=0.2, random_state=0)"
      ]
    },
    {
      "cell_type": "code",
      "execution_count": null,
      "metadata": {
        "colab": {
          "base_uri": "https://localhost:8080/"
        },
        "id": "17RoiGw_hsWY",
        "outputId": "895ddb2d-c8c5-4dfe-b13f-3298bdcf5a5a"
      },
      "outputs": [
        {
          "data": {
            "text/plain": [
              "((1600, 80, 200, 3), (400, 80, 200, 3), (1600, 50, 94), (400, 50, 94))"
            ]
          },
          "execution_count": 128,
          "metadata": {},
          "output_type": "execute_result"
        }
      ],
      "source": [
        "train_F.shape, test_F.shape, train_L_dist.shape, test_L_dist.shape"
      ]
    },
    {
      "cell_type": "code",
      "execution_count": null,
      "metadata": {
        "id": "uSttdlwhg4Nx"
      },
      "outputs": [],
      "source": [
        "# With data augmentation to prevent overfitting\n",
        "\n",
        "datagen = ImageDataGenerator(\n",
        "        featurewise_center=False,  # set input mean to 0 over the dataset\n",
        "        samplewise_center=False,  # set each sample mean to 0\n",
        "        featurewise_std_normalization=False,  # divide inputs by std of the dataset\n",
        "        samplewise_std_normalization=False,  # divide each input by its std\n",
        "        zca_whitening=False,  # apply ZCA whitening\n",
        "        rotation_range=5,  # randomly rotate images in the range (degrees, 0 to 180)\n",
        "        zoom_range = 0.01, # Randomly zoom image \n",
        "        width_shift_range=0.1,  # randomly shift images horizontally (fraction of total width)\n",
        "        height_shift_range=0.1,  # randomly shift images vertically (fraction of total height)\n",
        "        horizontal_flip=False,  # randomly flip images\n",
        "        vertical_flip=False)  # randomly flip images\n",
        "\n",
        "\n",
        "#datagen.fit(X_train)\n",
        "train_gen = datagen.flow(train_F, train_L_dist, batch_size=10)\n",
        "test_gen = datagen.flow(test_F, test_L_dist, batch_size=10)"
      ]
    },
    {
      "cell_type": "code",
      "execution_count": null,
      "metadata": {
        "id": "map673iJhIgl"
      },
      "outputs": [],
      "source": [
        "epochs = 100\n",
        "batch_size = 10\n",
        "train_steps = train_F.shape[0] // batch_size\n",
        "valid_steps = test_F.shape[0] // batch_size\n",
        "\n",
        "es = keras.callbacks.EarlyStopping(\n",
        "        monitor=\"val_acc\", # metrics to monitor\n",
        "        patience=10, # how many epochs before stop\n",
        "        verbose=1,\n",
        "        mode=\"max\", # we need the maximum accuracy.\n",
        "        restore_best_weights=True, # \n",
        "     )\n",
        "\n",
        "rp = keras.callbacks.ReduceLROnPlateau(\n",
        "        monitor=\"val_acc\",\n",
        "        factor=0.2,\n",
        "        patience=3,\n",
        "        verbose=1,\n",
        "        mode=\"max\",\n",
        "        min_lr=0.00001,\n",
        "     )"
      ]
    },
    {
      "cell_type": "code",
      "execution_count": null,
      "metadata": {
        "colab": {
          "base_uri": "https://localhost:8080/"
        },
        "id": "qmORo5YJdqLH",
        "outputId": "65249a89-7f66-4071-b684-8fd01a1acb58"
      },
      "outputs": [
        {
          "name": "stdout",
          "output_type": "stream",
          "text": [
            "Model: \"model_10\"\n",
            "__________________________________________________________________________________________________\n",
            "Layer (type)                    Output Shape         Param #     Connected to                     \n",
            "==================================================================================================\n",
            "the_input (InputLayer)          (None, 80, 200, 3)   0                                            \n",
            "__________________________________________________________________________________________________\n",
            "conv1 (Conv2D)                  (None, 80, 200, 16)  448         the_input[0][0]                  \n",
            "__________________________________________________________________________________________________\n",
            "max1 (MaxPooling2D)             (None, 40, 100, 16)  0           conv1[0][0]                      \n",
            "__________________________________________________________________________________________________\n",
            "conv2 (Conv2D)                  (None, 40, 100, 16)  2320        max1[0][0]                       \n",
            "__________________________________________________________________________________________________\n",
            "max2 (MaxPooling2D)             (None, 20, 50, 16)   0           conv2[0][0]                      \n",
            "__________________________________________________________________________________________________\n",
            "reshape (Reshape)               (None, 50, 320)      0           max2[0][0]                       \n",
            "__________________________________________________________________________________________________\n",
            "dense1 (Dense)                  (None, 50, 64)       20544       reshape[0][0]                    \n",
            "__________________________________________________________________________________________________\n",
            "gru1 (GRU)                      (None, 50, 512)      886272      dense1[0][0]                     \n",
            "__________________________________________________________________________________________________\n",
            "gru1_b (GRU)                    (None, 50, 512)      886272      dense1[0][0]                     \n",
            "__________________________________________________________________________________________________\n",
            "add_10 (Add)                    (None, 50, 512)      0           gru1[0][0]                       \n",
            "                                                                 gru1_b[0][0]                     \n",
            "__________________________________________________________________________________________________\n",
            "gru2 (GRU)                      (None, 50, 512)      1574400     add_10[0][0]                     \n",
            "__________________________________________________________________________________________________\n",
            "gru2_b (GRU)                    (None, 50, 512)      1574400     add_10[0][0]                     \n",
            "__________________________________________________________________________________________________\n",
            "concatenate_10 (Concatenate)    (None, 50, 1024)     0           gru2[0][0]                       \n",
            "                                                                 gru2_b[0][0]                     \n",
            "__________________________________________________________________________________________________\n",
            "dense2 (Dense)                  (None, 50, 94)       96350       concatenate_10[0][0]             \n",
            "__________________________________________________________________________________________________\n",
            "softmax (Activation)            (None, 50, 94)       0           dense2[0][0]                     \n",
            "==================================================================================================\n",
            "Total params: 5,041,006\n",
            "Trainable params: 5,041,006\n",
            "Non-trainable params: 0\n",
            "__________________________________________________________________________________________________\n"
          ]
        }
      ],
      "source": [
        "img_w = cw\n",
        "img_h = ch\n",
        "words_per_epoch = 16000\n",
        "val_split = 0.2\n",
        "val_words = int(words_per_epoch * (val_split))\n",
        "\n",
        "# Network parameters\n",
        "conv_filters = 16\n",
        "kernel_size = (3, 3)\n",
        "pool_size = 2\n",
        "time_dense_size = 64\n",
        "rnn_size = 512\n",
        "\n",
        "input_shape = (ch, cw, 3)\n",
        "\n",
        "act = 'relu'\n",
        "input_data = Input(name='the_input', shape=input_shape, dtype='float32')\n",
        "inner = Conv2D(conv_filters, kernel_size, padding='same',\n",
        "                activation=act, kernel_initializer='he_normal',\n",
        "                name='conv1')(input_data)\n",
        "inner = MaxPooling2D(pool_size=(pool_size, pool_size), name='max1')(inner)\n",
        "inner = Conv2D(conv_filters, kernel_size, padding='same',\n",
        "                activation=act, kernel_initializer='he_normal',\n",
        "                name='conv2')(inner)\n",
        "inner = MaxPooling2D(pool_size=(pool_size, pool_size), name='max2')(inner)\n",
        "\n",
        "conv_to_rnn_dims = (img_w // (pool_size ** 2),\n",
        "                    (img_h // (pool_size ** 2)) * conv_filters)\n",
        "inner = Reshape(target_shape=conv_to_rnn_dims, name='reshape')(inner)\n",
        "\n",
        "# cuts down input size going into RNN:\n",
        "inner = Dense(time_dense_size, activation=act, name='dense1')(inner)\n",
        "\n",
        "# Two layers of bidirectional GRUs\n",
        "# GRU seems to work as well, if not better than LSTM:\n",
        "gru_1 = GRU(rnn_size, return_sequences=True,\n",
        "            kernel_initializer='he_normal', name='gru1')(inner)\n",
        "gru_1b = GRU(rnn_size, return_sequences=True,\n",
        "              go_backwards=True, kernel_initializer='he_normal',\n",
        "              name='gru1_b')(inner)\n",
        "gru1_merged = add([gru_1, gru_1b])\n",
        "gru_2 = GRU(rnn_size, return_sequences=True,\n",
        "            kernel_initializer='he_normal', name='gru2')(gru1_merged)\n",
        "gru_2b = GRU(rnn_size, return_sequences=True, go_backwards=True,\n",
        "              kernel_initializer='he_normal', name='gru2_b')(gru1_merged)\n",
        "\n",
        "# transforms RNN output to character activations:\n",
        "inner = Dense(\n",
        "              len(alphabet) + 1, \n",
        "              kernel_initializer='he_normal',\n",
        "              name='dense2')(concatenate([gru_2, gru_2b])\n",
        "            )\n",
        "y_pred = Activation('softmax', name='softmax')(inner)\n",
        "\n",
        "prediction_model = Model(inputs=input_data, outputs=y_pred)\n",
        "prediction_model.compile(loss=\"categorical_crossentropy\", optimizer=\"adam\", metrics=[\"accuracy\"])\n",
        "\n",
        "prediction_model.summary()"
      ]
    },
    {
      "cell_type": "code",
      "execution_count": null,
      "metadata": {
        "colab": {
          "base_uri": "https://localhost:8080/"
        },
        "id": "Iz8dwy5zsixD",
        "outputId": "182c2f5e-13b9-42fe-86c0-1144d54658ad"
      },
      "outputs": [
        {
          "name": "stdout",
          "output_type": "stream",
          "text": [
            "Train on 1600 samples, validate on 400 samples\n",
            "Epoch 1/10\n",
            "1600/1600 [==============================] - 93s 58ms/step - loss: 0.8879 - acc: 0.8358 - val_loss: 0.7149 - val_acc: 0.8563\n",
            "Epoch 2/10\n",
            "1600/1600 [==============================] - 84s 52ms/step - loss: 0.7065 - acc: 0.8542 - val_loss: 0.7119 - val_acc: 0.8560\n",
            "Epoch 3/10\n",
            "1600/1600 [==============================] - 83s 52ms/step - loss: 0.6959 - acc: 0.8543 - val_loss: 0.7273 - val_acc: 0.8563\n",
            "Epoch 4/10\n",
            "1600/1600 [==============================] - 83s 52ms/step - loss: 0.6885 - acc: 0.8549 - val_loss: 0.6757 - val_acc: 0.8580\n",
            "Epoch 5/10\n",
            "1600/1600 [==============================] - 83s 52ms/step - loss: 0.6680 - acc: 0.8554 - val_loss: 0.6619 - val_acc: 0.8577\n",
            "Epoch 6/10\n",
            "1600/1600 [==============================] - 83s 52ms/step - loss: 0.6441 - acc: 0.8566 - val_loss: 0.6670 - val_acc: 0.8574\n",
            "Epoch 7/10\n",
            "1600/1600 [==============================] - 82s 51ms/step - loss: 0.6349 - acc: 0.8569 - val_loss: 0.6517 - val_acc: 0.8581\n",
            "Epoch 8/10\n",
            "1600/1600 [==============================] - 83s 52ms/step - loss: 0.6274 - acc: 0.8576 - val_loss: 0.6329 - val_acc: 0.8589\n",
            "Epoch 9/10\n",
            "1600/1600 [==============================] - 83s 52ms/step - loss: 0.6088 - acc: 0.8586 - val_loss: 0.6472 - val_acc: 0.8568\n",
            "Epoch 10/10\n",
            "1600/1600 [==============================] - 83s 52ms/step - loss: 0.6006 - acc: 0.8591 - val_loss: 0.6367 - val_acc: 0.8600\n"
          ]
        },
        {
          "data": {
            "text/plain": [
              "<keras.callbacks.History at 0x7f08f9264fd0>"
            ]
          },
          "execution_count": 134,
          "metadata": {},
          "output_type": "execute_result"
        }
      ],
      "source": [
        "prediction_model.fit(\n",
        "    data_F, \n",
        "    data_L_dist, \n",
        "    validation_split=0.2,\n",
        "    shuffle=True,\n",
        "    epochs=10\n",
        "  )"
      ]
    },
    {
      "cell_type": "code",
      "execution_count": null,
      "metadata": {
        "colab": {
          "base_uri": "https://localhost:8080/",
          "height": 415
        },
        "id": "tKYW4qqlI6yt",
        "outputId": "b82fc86b-a230-4c24-c7e1-e1cb07604a19"
      },
      "outputs": [
        {
          "name": "stdout",
          "output_type": "stream",
          "text": [
            "Epoch 1/100\n",
            " 11/160 [=>............................] - ETA: 2:24 - loss: 0.6524 - acc: 0.8575"
          ]
        },
        {
          "ename": "KeyboardInterrupt",
          "evalue": "ignored",
          "output_type": "error",
          "traceback": [
            "\u001b[0;31m---------------------------------------------------------------------------\u001b[0m",
            "\u001b[0;31mKeyboardInterrupt\u001b[0m                         Traceback (most recent call last)",
            "\u001b[0;32m<ipython-input-135-9ededb8be0d0>\u001b[0m in \u001b[0;36m<module>\u001b[0;34m()\u001b[0m\n\u001b[1;32m      5\u001b[0m                               \u001b[0mvalidation_data\u001b[0m \u001b[0;34m=\u001b[0m \u001b[0mtest_gen\u001b[0m\u001b[0;34m,\u001b[0m\u001b[0;34m\u001b[0m\u001b[0;34m\u001b[0m\u001b[0m\n\u001b[1;32m      6\u001b[0m                               \u001b[0mvalidation_steps\u001b[0m \u001b[0;34m=\u001b[0m \u001b[0mvalid_steps\u001b[0m\u001b[0;34m,\u001b[0m\u001b[0;34m\u001b[0m\u001b[0;34m\u001b[0m\u001b[0m\n\u001b[0;32m----> 7\u001b[0;31m                               \u001b[0mcallbacks\u001b[0m\u001b[0;34m=\u001b[0m\u001b[0;34m[\u001b[0m\u001b[0mes\u001b[0m\u001b[0;34m,\u001b[0m \u001b[0mrp\u001b[0m\u001b[0;34m]\u001b[0m\u001b[0;34m\u001b[0m\u001b[0;34m\u001b[0m\u001b[0m\n\u001b[0m\u001b[1;32m      8\u001b[0m                               )\n",
            "\u001b[0;32m/usr/local/lib/python3.7/dist-packages/keras/legacy/interfaces.py\u001b[0m in \u001b[0;36mwrapper\u001b[0;34m(*args, **kwargs)\u001b[0m\n\u001b[1;32m     89\u001b[0m                 warnings.warn('Update your `' + object_name + '` call to the ' +\n\u001b[1;32m     90\u001b[0m                               'Keras 2 API: ' + signature, stacklevel=2)\n\u001b[0;32m---> 91\u001b[0;31m             \u001b[0;32mreturn\u001b[0m \u001b[0mfunc\u001b[0m\u001b[0;34m(\u001b[0m\u001b[0;34m*\u001b[0m\u001b[0margs\u001b[0m\u001b[0;34m,\u001b[0m \u001b[0;34m**\u001b[0m\u001b[0mkwargs\u001b[0m\u001b[0;34m)\u001b[0m\u001b[0;34m\u001b[0m\u001b[0;34m\u001b[0m\u001b[0m\n\u001b[0m\u001b[1;32m     92\u001b[0m         \u001b[0mwrapper\u001b[0m\u001b[0;34m.\u001b[0m\u001b[0m_original_function\u001b[0m \u001b[0;34m=\u001b[0m \u001b[0mfunc\u001b[0m\u001b[0;34m\u001b[0m\u001b[0;34m\u001b[0m\u001b[0m\n\u001b[1;32m     93\u001b[0m         \u001b[0;32mreturn\u001b[0m \u001b[0mwrapper\u001b[0m\u001b[0;34m\u001b[0m\u001b[0;34m\u001b[0m\u001b[0m\n",
            "\u001b[0;32m/usr/local/lib/python3.7/dist-packages/keras/engine/training.py\u001b[0m in \u001b[0;36mfit_generator\u001b[0;34m(self, generator, steps_per_epoch, epochs, verbose, callbacks, validation_data, validation_steps, validation_freq, class_weight, max_queue_size, workers, use_multiprocessing, shuffle, initial_epoch)\u001b[0m\n\u001b[1;32m   1656\u001b[0m             \u001b[0muse_multiprocessing\u001b[0m\u001b[0;34m=\u001b[0m\u001b[0muse_multiprocessing\u001b[0m\u001b[0;34m,\u001b[0m\u001b[0;34m\u001b[0m\u001b[0;34m\u001b[0m\u001b[0m\n\u001b[1;32m   1657\u001b[0m             \u001b[0mshuffle\u001b[0m\u001b[0;34m=\u001b[0m\u001b[0mshuffle\u001b[0m\u001b[0;34m,\u001b[0m\u001b[0;34m\u001b[0m\u001b[0;34m\u001b[0m\u001b[0m\n\u001b[0;32m-> 1658\u001b[0;31m             initial_epoch=initial_epoch)\n\u001b[0m\u001b[1;32m   1659\u001b[0m \u001b[0;34m\u001b[0m\u001b[0m\n\u001b[1;32m   1660\u001b[0m     \u001b[0;34m@\u001b[0m\u001b[0minterfaces\u001b[0m\u001b[0;34m.\u001b[0m\u001b[0mlegacy_generator_methods_support\u001b[0m\u001b[0;34m\u001b[0m\u001b[0;34m\u001b[0m\u001b[0m\n",
            "\u001b[0;32m/usr/local/lib/python3.7/dist-packages/keras/engine/training_generator.py\u001b[0m in \u001b[0;36mfit_generator\u001b[0;34m(model, generator, steps_per_epoch, epochs, verbose, callbacks, validation_data, validation_steps, validation_freq, class_weight, max_queue_size, workers, use_multiprocessing, shuffle, initial_epoch)\u001b[0m\n\u001b[1;32m    213\u001b[0m                 outs = model.train_on_batch(x, y,\n\u001b[1;32m    214\u001b[0m                                             \u001b[0msample_weight\u001b[0m\u001b[0;34m=\u001b[0m\u001b[0msample_weight\u001b[0m\u001b[0;34m,\u001b[0m\u001b[0;34m\u001b[0m\u001b[0;34m\u001b[0m\u001b[0m\n\u001b[0;32m--> 215\u001b[0;31m                                             class_weight=class_weight)\n\u001b[0m\u001b[1;32m    216\u001b[0m \u001b[0;34m\u001b[0m\u001b[0m\n\u001b[1;32m    217\u001b[0m                 \u001b[0mouts\u001b[0m \u001b[0;34m=\u001b[0m \u001b[0mto_list\u001b[0m\u001b[0;34m(\u001b[0m\u001b[0mouts\u001b[0m\u001b[0;34m)\u001b[0m\u001b[0;34m\u001b[0m\u001b[0;34m\u001b[0m\u001b[0m\n",
            "\u001b[0;32m/usr/local/lib/python3.7/dist-packages/keras/engine/training.py\u001b[0m in \u001b[0;36mtrain_on_batch\u001b[0;34m(self, x, y, sample_weight, class_weight)\u001b[0m\n\u001b[1;32m   1447\u001b[0m             \u001b[0mins\u001b[0m \u001b[0;34m=\u001b[0m \u001b[0mx\u001b[0m \u001b[0;34m+\u001b[0m \u001b[0my\u001b[0m \u001b[0;34m+\u001b[0m \u001b[0msample_weights\u001b[0m\u001b[0;34m\u001b[0m\u001b[0;34m\u001b[0m\u001b[0m\n\u001b[1;32m   1448\u001b[0m         \u001b[0mself\u001b[0m\u001b[0;34m.\u001b[0m\u001b[0m_make_train_function\u001b[0m\u001b[0;34m(\u001b[0m\u001b[0;34m)\u001b[0m\u001b[0;34m\u001b[0m\u001b[0;34m\u001b[0m\u001b[0m\n\u001b[0;32m-> 1449\u001b[0;31m         \u001b[0moutputs\u001b[0m \u001b[0;34m=\u001b[0m \u001b[0mself\u001b[0m\u001b[0;34m.\u001b[0m\u001b[0mtrain_function\u001b[0m\u001b[0;34m(\u001b[0m\u001b[0mins\u001b[0m\u001b[0;34m)\u001b[0m\u001b[0;34m\u001b[0m\u001b[0;34m\u001b[0m\u001b[0m\n\u001b[0m\u001b[1;32m   1450\u001b[0m         \u001b[0;32mreturn\u001b[0m \u001b[0munpack_singleton\u001b[0m\u001b[0;34m(\u001b[0m\u001b[0moutputs\u001b[0m\u001b[0;34m)\u001b[0m\u001b[0;34m\u001b[0m\u001b[0;34m\u001b[0m\u001b[0m\n\u001b[1;32m   1451\u001b[0m \u001b[0;34m\u001b[0m\u001b[0m\n",
            "\u001b[0;32m/usr/local/lib/python3.7/dist-packages/keras/backend/tensorflow_backend.py\u001b[0m in \u001b[0;36m__call__\u001b[0;34m(self, inputs)\u001b[0m\n\u001b[1;32m   2977\u001b[0m                     \u001b[0;32mreturn\u001b[0m \u001b[0mself\u001b[0m\u001b[0;34m.\u001b[0m\u001b[0m_legacy_call\u001b[0m\u001b[0;34m(\u001b[0m\u001b[0minputs\u001b[0m\u001b[0;34m)\u001b[0m\u001b[0;34m\u001b[0m\u001b[0;34m\u001b[0m\u001b[0m\n\u001b[1;32m   2978\u001b[0m \u001b[0;34m\u001b[0m\u001b[0m\n\u001b[0;32m-> 2979\u001b[0;31m             \u001b[0;32mreturn\u001b[0m \u001b[0mself\u001b[0m\u001b[0;34m.\u001b[0m\u001b[0m_call\u001b[0m\u001b[0;34m(\u001b[0m\u001b[0minputs\u001b[0m\u001b[0;34m)\u001b[0m\u001b[0;34m\u001b[0m\u001b[0;34m\u001b[0m\u001b[0m\n\u001b[0m\u001b[1;32m   2980\u001b[0m         \u001b[0;32melse\u001b[0m\u001b[0;34m:\u001b[0m\u001b[0;34m\u001b[0m\u001b[0;34m\u001b[0m\u001b[0m\n\u001b[1;32m   2981\u001b[0m             \u001b[0;32mif\u001b[0m \u001b[0mpy_any\u001b[0m\u001b[0;34m(\u001b[0m\u001b[0mis_tensor\u001b[0m\u001b[0;34m(\u001b[0m\u001b[0mx\u001b[0m\u001b[0;34m)\u001b[0m \u001b[0;32mfor\u001b[0m \u001b[0mx\u001b[0m \u001b[0;32min\u001b[0m \u001b[0minputs\u001b[0m\u001b[0;34m)\u001b[0m\u001b[0;34m:\u001b[0m\u001b[0;34m\u001b[0m\u001b[0;34m\u001b[0m\u001b[0m\n",
            "\u001b[0;32m/usr/local/lib/python3.7/dist-packages/keras/backend/tensorflow_backend.py\u001b[0m in \u001b[0;36m_call\u001b[0;34m(self, inputs)\u001b[0m\n\u001b[1;32m   2935\u001b[0m             \u001b[0mfetched\u001b[0m \u001b[0;34m=\u001b[0m \u001b[0mself\u001b[0m\u001b[0;34m.\u001b[0m\u001b[0m_callable_fn\u001b[0m\u001b[0;34m(\u001b[0m\u001b[0;34m*\u001b[0m\u001b[0marray_vals\u001b[0m\u001b[0;34m,\u001b[0m \u001b[0mrun_metadata\u001b[0m\u001b[0;34m=\u001b[0m\u001b[0mself\u001b[0m\u001b[0;34m.\u001b[0m\u001b[0mrun_metadata\u001b[0m\u001b[0;34m)\u001b[0m\u001b[0;34m\u001b[0m\u001b[0;34m\u001b[0m\u001b[0m\n\u001b[1;32m   2936\u001b[0m         \u001b[0;32melse\u001b[0m\u001b[0;34m:\u001b[0m\u001b[0;34m\u001b[0m\u001b[0;34m\u001b[0m\u001b[0m\n\u001b[0;32m-> 2937\u001b[0;31m             \u001b[0mfetched\u001b[0m \u001b[0;34m=\u001b[0m \u001b[0mself\u001b[0m\u001b[0;34m.\u001b[0m\u001b[0m_callable_fn\u001b[0m\u001b[0;34m(\u001b[0m\u001b[0;34m*\u001b[0m\u001b[0marray_vals\u001b[0m\u001b[0;34m)\u001b[0m\u001b[0;34m\u001b[0m\u001b[0;34m\u001b[0m\u001b[0m\n\u001b[0m\u001b[1;32m   2938\u001b[0m         \u001b[0;32mreturn\u001b[0m \u001b[0mfetched\u001b[0m\u001b[0;34m[\u001b[0m\u001b[0;34m:\u001b[0m\u001b[0mlen\u001b[0m\u001b[0;34m(\u001b[0m\u001b[0mself\u001b[0m\u001b[0;34m.\u001b[0m\u001b[0moutputs\u001b[0m\u001b[0;34m)\u001b[0m\u001b[0;34m]\u001b[0m\u001b[0;34m\u001b[0m\u001b[0;34m\u001b[0m\u001b[0m\n\u001b[1;32m   2939\u001b[0m \u001b[0;34m\u001b[0m\u001b[0m\n",
            "\u001b[0;32m/usr/local/lib/python3.7/dist-packages/tensorflow/python/client/session.py\u001b[0m in \u001b[0;36m__call__\u001b[0;34m(self, *args, **kwargs)\u001b[0m\n\u001b[1;32m   1437\u001b[0m           ret = tf_session.TF_SessionRunCallable(\n\u001b[1;32m   1438\u001b[0m               \u001b[0mself\u001b[0m\u001b[0;34m.\u001b[0m\u001b[0m_session\u001b[0m\u001b[0;34m.\u001b[0m\u001b[0m_session\u001b[0m\u001b[0;34m,\u001b[0m \u001b[0mself\u001b[0m\u001b[0;34m.\u001b[0m\u001b[0m_handle\u001b[0m\u001b[0;34m,\u001b[0m \u001b[0margs\u001b[0m\u001b[0;34m,\u001b[0m \u001b[0mstatus\u001b[0m\u001b[0;34m,\u001b[0m\u001b[0;34m\u001b[0m\u001b[0;34m\u001b[0m\u001b[0m\n\u001b[0;32m-> 1439\u001b[0;31m               run_metadata_ptr)\n\u001b[0m\u001b[1;32m   1440\u001b[0m         \u001b[0;32mif\u001b[0m \u001b[0mrun_metadata\u001b[0m\u001b[0;34m:\u001b[0m\u001b[0;34m\u001b[0m\u001b[0;34m\u001b[0m\u001b[0m\n\u001b[1;32m   1441\u001b[0m           \u001b[0mproto_data\u001b[0m \u001b[0;34m=\u001b[0m \u001b[0mtf_session\u001b[0m\u001b[0;34m.\u001b[0m\u001b[0mTF_GetBuffer\u001b[0m\u001b[0;34m(\u001b[0m\u001b[0mrun_metadata_ptr\u001b[0m\u001b[0;34m)\u001b[0m\u001b[0;34m\u001b[0m\u001b[0;34m\u001b[0m\u001b[0m\n",
            "\u001b[0;31mKeyboardInterrupt\u001b[0m: "
          ]
        }
      ],
      "source": [
        "# Fit the model\n",
        "metrics1 = prediction_model.fit_generator(train_gen, \n",
        "                              epochs = epochs, \n",
        "                              steps_per_epoch = train_steps,\n",
        "                              validation_data = test_gen,\n",
        "                              validation_steps = valid_steps, \n",
        "                              callbacks=[es, rp]\n",
        "                              )"
      ]
    },
    {
      "cell_type": "code",
      "execution_count": null,
      "metadata": {
        "colab": {
          "base_uri": "https://localhost:8080/"
        },
        "id": "3T6UPFtS2r5T",
        "outputId": "c3f02774-df4f-4aa9-e617-50e7501a763d"
      },
      "outputs": [
        {
          "name": "stdout",
          "output_type": "stream",
          "text": [
            "93\n",
            "(1600, 50, 94)\n"
          ]
        }
      ],
      "source": [
        "print(len(alphabet))\n",
        "print(train_L_dist.shape)"
      ]
    },
    {
      "cell_type": "markdown",
      "metadata": {
        "id": "h6Zu6CyARjYj"
      },
      "source": [
        "### Predict"
      ]
    },
    {
      "cell_type": "code",
      "execution_count": null,
      "metadata": {
        "colab": {
          "base_uri": "https://localhost:8080/",
          "height": 204
        },
        "id": "5eYHh5xT6Ot8",
        "outputId": "d93b047d-883e-4f86-cdfe-dc84510e7a7d"
      },
      "outputs": [
        {
          "data": {
            "application/vnd.google.colaboratory.intrinsic+json": {
              "type": "string"
            },
            "text/plain": [
              "'s'"
            ]
          },
          "execution_count": 143,
          "metadata": {},
          "output_type": "execute_result"
        },
        {
          "data": {
            "image/png": "[encoded data removed]",
            "text/plain": [
              "<Figure size 432x288 with 1 Axes>"
            ]
          },
          "metadata": {},
          "output_type": "display_data"
        }
      ],
      "source": [
        "plt.imshow(data_F[0])\n",
        "\n",
        "yhat2 = prediction_model.predict(data_F[0].reshape(1,ch,cw,3))\n",
        "\n",
        "r = ''\n",
        "for i in range(15):\n",
        "  r += alph_num[yhat2[0][i].argmax()]\n",
        "\n",
        "r"
      ]
    },
    {
      "cell_type": "code",
      "execution_count": null,
      "metadata": {
        "colab": {
          "base_uri": "https://localhost:8080/",
          "height": 36
        },
        "id": "6-Zp11ct0A62",
        "outputId": "8cb874a8-a27c-4a35-9d2e-af04209aada2"
      },
      "outputs": [
        {
          "data": {
            "application/vnd.google.colaboratory.intrinsic+json": {
              "type": "string"
            },
            "text/plain": [
              "'ooeooo'"
            ]
          },
          "execution_count": 139,
          "metadata": {},
          "output_type": "execute_result"
        }
      ],
      "source": [
        "sample_image = loadImage('./america.png')\n",
        "loaded_image = np.array(negative_pad_image(img, ch, cw))\n",
        "#loaded_image = loaded_image / 255\n",
        "\n",
        "yhat2 = prediction_model.predict(loaded_image.reshape(1,ch,cw,3))\n",
        "\n",
        "r = ''\n",
        "for i in range(15):\n",
        "  r += alph_num[yhat2[0][i].argmax()]\n",
        "\n",
        "r"
      ]
    },
    {
      "cell_type": "code",
      "execution_count": null,
      "metadata": {
        "colab": {
          "base_uri": "https://localhost:8080/",
          "height": 461
        },
        "id": "QZ3WPrlJEASE",
        "outputId": "f5e8c0aa-96a6-471f-c13d-1cd9fced779f"
      },
      "outputs": [
        {
          "name": "stdout",
          "output_type": "stream",
          "text": [
            "(1, 50, 94)\n",
            "[[[1.4386188e-02 4.3898098e-02 1.0663173e-02 ... 1.4969257e-03\n",
            "   1.2991867e-03 3.0051994e-03]\n",
            "  [2.0307252e-02 9.3277529e-02 7.8688040e-03 ... 3.6628539e-04\n",
            "   3.5369210e-04 1.0066942e-03]\n",
            "  [5.2898545e-02 7.6880783e-02 9.3234628e-03 ... 6.5083288e-05\n",
            "   9.1517315e-05 2.5397341e-04]\n",
            "  ...\n",
            "  [9.9998474e-01 5.5093881e-07 1.7014722e-08 ... 5.8581190e-10\n",
            "   3.2823502e-09 8.1529028e-10]\n",
            "  [9.9995804e-01 1.3911575e-06 4.4490339e-08 ... 4.1028243e-09\n",
            "   1.8040227e-08 4.5206625e-09]\n",
            "  [9.9992669e-01 2.1154156e-06 8.0219287e-08 ... 1.1371831e-08\n",
            "   4.1939149e-08 1.1233773e-08]]]\n",
            "0\n"
          ]
        },
        {
          "data": {
            "image/png": "[encoded data removed]",
            "text/plain": [
              "<Figure size 432x288 with 1 Axes>"
            ]
          },
          "metadata": {},
          "output_type": "display_data"
        }
      ],
      "source": [
        "# View sample image and predicted label together\n",
        "\n",
        "sample_image = loadImage('./results/images/0/0.jpg')\n",
        "# Image.fromarray(np.uint8(sample_image*255)).convert('RGB')\n",
        "img = sample_image.astype(np.uint8) \n",
        "img = np.array(negative_pad_image(img, ch, cw))\n",
        "\n",
        "plt.imshow(sample_image)\n",
        "\n",
        "yhat = prediction_model.predict(img.reshape(1, ch, cw, 3))\n",
        "yhat.shape\n",
        "\n",
        "print(yhat.shape)\n",
        "print(yhat)\n",
        "print(yhat[0][3].argmax())"
      ]
    },
    {
      "cell_type": "code",
      "execution_count": null,
      "metadata": {
        "id": "aFAhnBC0QFQu"
      },
      "outputs": [],
      "source": [
        "x = img.astype(np.uint8)\n",
        "plt.imshow(x)"
      ]
    }
  ],
  "metadata": {
    "colab": {
      "collapsed_sections": [],
      "machine_shape": "hm",
      "name": "keras-ocr-bignumber-generator.ipynb",
      "provenance": [],
      "authorship_tag": "ABX9TyPQlU9YXXZwo0j/5d5C/DDl",
      "include_colab_link": true
    },
    "gpuClass": "standard",
    "kernelspec": {
      "display_name": "Python 3",
      "name": "python3"
    },
    "language_info": {
      "name": "python"
    }
  },
  "nbformat": 4,
  "nbformat_minor": 0
}