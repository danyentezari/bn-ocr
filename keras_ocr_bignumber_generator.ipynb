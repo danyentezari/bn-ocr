{
  "cells": [
    {
      "cell_type": "markdown",
      "metadata": {
        "id": "view-in-github",
        "colab_type": "text"
      },
      "source": [
        "<a href=\"https://colab.research.google.com/github/danyentezari/bn-ocr/blob/main/keras_ocr_bignumber_generator.ipynb\" target=\"_parent\"><img src=\"https://colab.research.google.com/assets/colab-badge.svg\" alt=\"Open In Colab\"/></a>"
      ]
    },
    {
      "cell_type": "code",
      "execution_count": 1,
      "metadata": {
        "id": "obI7x309JZl7",
        "colab": {
          "base_uri": "https://localhost:8080/",
          "height": 1000
        },
        "outputId": "59526318-b7b8-4c62-a563-5cf21496adc4"
      },
      "outputs": [
        {
          "output_type": "stream",
          "name": "stdout",
          "text": [
            "Looking in indexes: https://pypi.org/simple, https://us-python.pkg.dev/colab-wheels/public/simple/\n",
            "Requirement already satisfied: keras==2.2.5 in /usr/local/lib/python3.7/dist-packages (2.2.5)\n",
            "Requirement already satisfied: numpy>=1.9.1 in /usr/local/lib/python3.7/dist-packages (from keras==2.2.5) (1.21.6)\n",
            "Requirement already satisfied: h5py in /usr/local/lib/python3.7/dist-packages (from keras==2.2.5) (2.10.0)\n",
            "Requirement already satisfied: scipy>=0.14 in /usr/local/lib/python3.7/dist-packages (from keras==2.2.5) (1.7.3)\n",
            "Requirement already satisfied: keras-preprocessing>=1.1.0 in /usr/local/lib/python3.7/dist-packages (from keras==2.2.5) (1.1.2)\n",
            "Requirement already satisfied: six>=1.9.0 in /usr/local/lib/python3.7/dist-packages (from keras==2.2.5) (1.16.0)\n",
            "Requirement already satisfied: keras-applications>=1.0.8 in /usr/local/lib/python3.7/dist-packages (from keras==2.2.5) (1.0.8)\n",
            "Requirement already satisfied: pyyaml in /usr/local/lib/python3.7/dist-packages (from keras==2.2.5) (3.13)\n",
            "Looking in indexes: https://pypi.org/simple, https://us-python.pkg.dev/colab-wheels/public/simple/\n",
            "Requirement already satisfied: tensorflow==1.13.1 in /usr/local/lib/python3.7/dist-packages (1.13.1)\n",
            "Requirement already satisfied: gast>=0.2.0 in /usr/local/lib/python3.7/dist-packages (from tensorflow==1.13.1) (0.5.3)\n",
            "Requirement already satisfied: grpcio>=1.8.6 in /usr/local/lib/python3.7/dist-packages (from tensorflow==1.13.1) (1.47.0)\n",
            "Requirement already satisfied: keras-preprocessing>=1.0.5 in /usr/local/lib/python3.7/dist-packages (from tensorflow==1.13.1) (1.1.2)\n",
            "Requirement already satisfied: tensorboard<1.14.0,>=1.13.0 in /usr/local/lib/python3.7/dist-packages (from tensorflow==1.13.1) (1.13.1)\n",
            "Requirement already satisfied: protobuf>=3.6.1 in /usr/local/lib/python3.7/dist-packages (from tensorflow==1.13.1) (3.17.3)\n",
            "Requirement already satisfied: tensorflow-estimator<1.14.0rc0,>=1.13.0 in /usr/local/lib/python3.7/dist-packages (from tensorflow==1.13.1) (1.13.0)\n",
            "Requirement already satisfied: six>=1.10.0 in /usr/local/lib/python3.7/dist-packages (from tensorflow==1.13.1) (1.16.0)\n",
            "Requirement already satisfied: absl-py>=0.1.6 in /usr/local/lib/python3.7/dist-packages (from tensorflow==1.13.1) (1.2.0)\n",
            "Requirement already satisfied: termcolor>=1.1.0 in /usr/local/lib/python3.7/dist-packages (from tensorflow==1.13.1) (1.1.0)\n",
            "Requirement already satisfied: keras-applications>=1.0.6 in /usr/local/lib/python3.7/dist-packages (from tensorflow==1.13.1) (1.0.8)\n",
            "Requirement already satisfied: wheel>=0.26 in /usr/local/lib/python3.7/dist-packages (from tensorflow==1.13.1) (0.37.1)\n",
            "Requirement already satisfied: astor>=0.6.0 in /usr/local/lib/python3.7/dist-packages (from tensorflow==1.13.1) (0.8.1)\n",
            "Requirement already satisfied: numpy>=1.13.3 in /usr/local/lib/python3.7/dist-packages (from tensorflow==1.13.1) (1.21.6)\n",
            "Requirement already satisfied: h5py in /usr/local/lib/python3.7/dist-packages (from keras-applications>=1.0.6->tensorflow==1.13.1) (2.10.0)\n",
            "Requirement already satisfied: werkzeug>=0.11.15 in /usr/local/lib/python3.7/dist-packages (from tensorboard<1.14.0,>=1.13.0->tensorflow==1.13.1) (1.0.1)\n",
            "Requirement already satisfied: markdown>=2.6.8 in /usr/local/lib/python3.7/dist-packages (from tensorboard<1.14.0,>=1.13.0->tensorflow==1.13.1) (3.4.1)\n",
            "Requirement already satisfied: importlib-metadata>=4.4 in /usr/local/lib/python3.7/dist-packages (from markdown>=2.6.8->tensorboard<1.14.0,>=1.13.0->tensorflow==1.13.1) (4.12.0)\n",
            "Requirement already satisfied: zipp>=0.5 in /usr/local/lib/python3.7/dist-packages (from importlib-metadata>=4.4->markdown>=2.6.8->tensorboard<1.14.0,>=1.13.0->tensorflow==1.13.1) (3.8.1)\n",
            "Requirement already satisfied: typing-extensions>=3.6.4 in /usr/local/lib/python3.7/dist-packages (from importlib-metadata>=4.4->markdown>=2.6.8->tensorboard<1.14.0,>=1.13.0->tensorflow==1.13.1) (4.1.1)\n",
            "Requirement already satisfied: mock>=2.0.0 in /usr/local/lib/python3.7/dist-packages (from tensorflow-estimator<1.14.0rc0,>=1.13.0->tensorflow==1.13.1) (4.0.3)\n",
            "Looking in indexes: https://pypi.org/simple, https://us-python.pkg.dev/colab-wheels/public/simple/\n",
            "Collecting h5py==2.10.0\n",
            "  Using cached h5py-2.10.0-cp37-cp37m-manylinux1_x86_64.whl (2.9 MB)\n",
            "Collecting six\n",
            "  Using cached six-1.16.0-py2.py3-none-any.whl (11 kB)\n",
            "Collecting numpy>=1.7\n",
            "  Using cached numpy-1.21.6-cp37-cp37m-manylinux_2_12_x86_64.manylinux2010_x86_64.whl (15.7 MB)\n",
            "Installing collected packages: six, numpy, h5py\n",
            "  Attempting uninstall: six\n",
            "    Found existing installation: six 1.16.0\n",
            "    Uninstalling six-1.16.0:\n",
            "      Successfully uninstalled six-1.16.0\n",
            "  Attempting uninstall: numpy\n",
            "    Found existing installation: numpy 1.21.6\n",
            "    Uninstalling numpy-1.21.6:\n",
            "      Successfully uninstalled numpy-1.21.6\n",
            "  Attempting uninstall: h5py\n",
            "    Found existing installation: h5py 2.10.0\n",
            "    Uninstalling h5py-2.10.0:\n",
            "      Successfully uninstalled h5py-2.10.0\n",
            "\u001b[31mERROR: pip's dependency resolver does not currently take into account all the packages that are installed. This behaviour is the source of the following dependency conflicts.\n",
            "kapre 0.3.7 requires tensorflow>=2.0.0, but you have tensorflow 1.13.1 which is incompatible.\u001b[0m\n",
            "Successfully installed h5py-2.10.0 numpy-1.21.6 six-1.16.0\n"
          ]
        },
        {
          "output_type": "display_data",
          "data": {
            "application/vnd.colab-display-data+json": {
              "pip_warning": {
                "packages": [
                  "numpy",
                  "six"
                ]
              }
            }
          },
          "metadata": {}
        },
        {
          "output_type": "stream",
          "name": "stdout",
          "text": [
            "Looking in indexes: https://pypi.org/simple, https://us-python.pkg.dev/colab-wheels/public/simple/\n",
            "Requirement already satisfied: cairocffi in /usr/local/lib/python3.7/dist-packages (1.3.0)\n",
            "Requirement already satisfied: cffi>=1.1.0 in /usr/local/lib/python3.7/dist-packages (from cairocffi) (1.15.1)\n",
            "Requirement already satisfied: pycparser in /usr/local/lib/python3.7/dist-packages (from cffi>=1.1.0->cairocffi) (2.21)\n",
            "Looking in indexes: https://pypi.org/simple, https://us-python.pkg.dev/colab-wheels/public/simple/\n",
            "Requirement already satisfied: gdown in /usr/local/lib/python3.7/dist-packages (4.4.0)\n",
            "Requirement already satisfied: filelock in /usr/local/lib/python3.7/dist-packages (from gdown) (3.7.1)\n",
            "Requirement already satisfied: six in /usr/local/lib/python3.7/dist-packages (from gdown) (1.16.0)\n",
            "Requirement already satisfied: requests[socks] in /usr/local/lib/python3.7/dist-packages (from gdown) (2.23.0)\n",
            "Requirement already satisfied: beautifulsoup4 in /usr/local/lib/python3.7/dist-packages (from gdown) (4.6.3)\n",
            "Requirement already satisfied: tqdm in /usr/local/lib/python3.7/dist-packages (from gdown) (4.64.0)\n",
            "Requirement already satisfied: urllib3!=1.25.0,!=1.25.1,<1.26,>=1.21.1 in /usr/local/lib/python3.7/dist-packages (from requests[socks]->gdown) (1.24.3)\n",
            "Requirement already satisfied: chardet<4,>=3.0.2 in /usr/local/lib/python3.7/dist-packages (from requests[socks]->gdown) (3.0.4)\n",
            "Requirement already satisfied: certifi>=2017.4.17 in /usr/local/lib/python3.7/dist-packages (from requests[socks]->gdown) (2022.6.15)\n",
            "Requirement already satisfied: idna<3,>=2.5 in /usr/local/lib/python3.7/dist-packages (from requests[socks]->gdown) (2.10)\n",
            "Requirement already satisfied: PySocks!=1.5.7,>=1.5.6 in /usr/local/lib/python3.7/dist-packages (from requests[socks]->gdown) (1.7.1)\n",
            "Looking in indexes: https://pypi.org/simple, https://us-python.pkg.dev/colab-wheels/public/simple/\n",
            "Requirement already satisfied: synthtiger in /usr/local/lib/python3.7/dist-packages (1.0.2)\n",
            "Requirement already satisfied: arabic-reshaper in /usr/local/lib/python3.7/dist-packages (from synthtiger) (2.1.3)\n",
            "Requirement already satisfied: pyyaml in /usr/local/lib/python3.7/dist-packages (from synthtiger) (3.13)\n",
            "Requirement already satisfied: opencv-python in /usr/local/lib/python3.7/dist-packages (from synthtiger) (4.6.0.66)\n",
            "Requirement already satisfied: scipy in /usr/local/lib/python3.7/dist-packages (from synthtiger) (1.7.3)\n",
            "Requirement already satisfied: pygame in /usr/local/lib/python3.7/dist-packages (from synthtiger) (2.1.2)\n",
            "Requirement already satisfied: python-bidi in /usr/local/lib/python3.7/dist-packages (from synthtiger) (0.4.2)\n",
            "Requirement already satisfied: blend-modes in /usr/local/lib/python3.7/dist-packages (from synthtiger) (2.1.0)\n",
            "Requirement already satisfied: numpy in /usr/local/lib/python3.7/dist-packages (from synthtiger) (1.21.6)\n",
            "Requirement already satisfied: pillow>=8.2.0 in /usr/local/lib/python3.7/dist-packages (from synthtiger) (9.2.0)\n",
            "Requirement already satisfied: imgaug in /usr/local/lib/python3.7/dist-packages (from synthtiger) (0.4.0)\n",
            "Requirement already satisfied: regex in /usr/local/lib/python3.7/dist-packages (from synthtiger) (2022.6.2)\n",
            "Requirement already satisfied: fonttools in /usr/local/lib/python3.7/dist-packages (from synthtiger) (4.34.4)\n",
            "Requirement already satisfied: pytweening in /usr/local/lib/python3.7/dist-packages (from synthtiger) (1.0.4)\n",
            "Requirement already satisfied: future in /usr/local/lib/python3.7/dist-packages (from arabic-reshaper->synthtiger) (0.16.0)\n",
            "Requirement already satisfied: setuptools in /usr/local/lib/python3.7/dist-packages (from arabic-reshaper->synthtiger) (57.4.0)\n",
            "Requirement already satisfied: imageio in /usr/local/lib/python3.7/dist-packages (from imgaug->synthtiger) (2.9.0)\n",
            "Requirement already satisfied: scikit-image>=0.14.2 in /usr/local/lib/python3.7/dist-packages (from imgaug->synthtiger) (0.18.3)\n",
            "Requirement already satisfied: Shapely in /usr/local/lib/python3.7/dist-packages (from imgaug->synthtiger) (1.8.2)\n",
            "Requirement already satisfied: matplotlib in /usr/local/lib/python3.7/dist-packages (from imgaug->synthtiger) (3.2.2)\n",
            "Requirement already satisfied: six in /usr/local/lib/python3.7/dist-packages (from imgaug->synthtiger) (1.16.0)\n",
            "Requirement already satisfied: PyWavelets>=1.1.1 in /usr/local/lib/python3.7/dist-packages (from scikit-image>=0.14.2->imgaug->synthtiger) (1.3.0)\n",
            "Requirement already satisfied: tifffile>=2019.7.26 in /usr/local/lib/python3.7/dist-packages (from scikit-image>=0.14.2->imgaug->synthtiger) (2021.11.2)\n",
            "Requirement already satisfied: networkx>=2.0 in /usr/local/lib/python3.7/dist-packages (from scikit-image>=0.14.2->imgaug->synthtiger) (2.6.3)\n",
            "Requirement already satisfied: pyparsing!=2.0.4,!=2.1.2,!=2.1.6,>=2.0.1 in /usr/local/lib/python3.7/dist-packages (from matplotlib->imgaug->synthtiger) (3.0.9)\n",
            "Requirement already satisfied: kiwisolver>=1.0.1 in /usr/local/lib/python3.7/dist-packages (from matplotlib->imgaug->synthtiger) (1.4.4)\n",
            "Requirement already satisfied: cycler>=0.10 in /usr/local/lib/python3.7/dist-packages (from matplotlib->imgaug->synthtiger) (0.11.0)\n",
            "Requirement already satisfied: python-dateutil>=2.1 in /usr/local/lib/python3.7/dist-packages (from matplotlib->imgaug->synthtiger) (2.8.2)\n",
            "Requirement already satisfied: typing-extensions in /usr/local/lib/python3.7/dist-packages (from kiwisolver>=1.0.1->matplotlib->imgaug->synthtiger) (4.1.1)\n"
          ]
        }
      ],
      "source": [
        "!pip install keras==2.2.5\n",
        "!pip install tensorflow==1.13.1\n",
        "# !unzip kaggle.json.zip\n",
        "# !mkdir ~/.kaggle \n",
        "# !cp kaggle.json ~/.kaggle/\n",
        "# !chmod 600 ~/.kaggle/kaggle.json\n",
        "# !kaggle datasets download scolianni/mnistasjpg\n",
        "# !unzip mnistasjpg.zip\n",
        "!pip install 'h5py==2.10.0' --force-reinstall\n",
        "!pip install cairocffi\n",
        "!pip install gdown\n",
        "!pip install synthtiger"
      ]
    },
    {
      "cell_type": "code",
      "source": [
        "!git clone https://github.com/clovaai/synthtiger.git"
      ],
      "metadata": {
        "colab": {
          "base_uri": "https://localhost:8080/"
        },
        "id": "ySjCR1kKQyuw",
        "outputId": "011c9d77-a095-4993-8fed-df2d58e2451f"
      },
      "execution_count": 2,
      "outputs": [
        {
          "output_type": "stream",
          "name": "stdout",
          "text": [
            "fatal: destination path 'synthtiger' already exists and is not an empty directory.\n"
          ]
        }
      ]
    },
    {
      "cell_type": "code",
      "source": [
        "!cp -r synthtiger/* ."
      ],
      "metadata": {
        "id": "PNhp_OsURUvI"
      },
      "execution_count": 3,
      "outputs": []
    },
    {
      "cell_type": "code",
      "source": [
        "!synthtiger -o results -w 4 -v examples/synthtiger/template.py SynthTiger examples/synthtiger/config_horizontal.yaml"
      ],
      "metadata": {
        "id": "9y-nYN53QKss"
      },
      "execution_count": null,
      "outputs": []
    },
    {
      "cell_type": "code",
      "execution_count": 88,
      "metadata": {
        "id": "dq_h85uJ60oR"
      },
      "outputs": [],
      "source": [
        "import matplotlib.pyplot as plt\n",
        "import numpy as np\n",
        "from os import listdir\n",
        "from os.path import isfile, join\n",
        "import re\n",
        "from scipy.sparse import csr_matrix\n",
        "import cv2\n",
        "import string\n",
        "from PIL import Image\n",
        "\n",
        "import itertools\n",
        "from sklearn.model_selection import train_test_split\n",
        "from sklearn.feature_extraction.text import HashingVectorizer\n",
        "\n",
        "import tensorflow as tf\n",
        "from tensorflow.keras import datasets, layers, models\n",
        "\n",
        "import keras\n",
        "from keras.utils.np_utils import to_categorical\n",
        "from keras.preprocessing.image import ImageDataGenerator\n",
        "from keras.models import Sequential\n",
        "from keras.layers import Conv2D, Lambda, MaxPooling2D # convolution layers\n",
        "from keras.layers import Dense, Dropout, Flatten # core layers\n",
        "# from keras.layers.normalization import BatchNormalization\n",
        "from keras.preprocessing.image import load_img\n",
        "from keras.preprocessing.image import img_to_array\n",
        "\n",
        "\n",
        "from keras import backend as K\n",
        "from keras.layers.convolutional import Conv2D, MaxPooling2D\n",
        "from keras.layers import Input, Dense, Activation, Add\n",
        "from keras.layers import Reshape, Lambda\n",
        "from keras.layers.merge import add, concatenate\n",
        "from keras.models import Model\n",
        "from keras.layers.recurrent import GRU\n",
        "from keras.utils.data_utils import get_file\n",
        "from keras.preprocessing import image\n",
        "import keras.callbacks\n",
        "#from keras.metrics import Metric\n",
        "from tensorflow.python.keras.metrics import Metric\n",
        "\n",
        "import matplotlib.pyplot as plt\n",
        "%matplotlib inline\n"
      ]
    },
    {
      "cell_type": "code",
      "execution_count": 171,
      "metadata": {
        "id": "x1HL-lIrl_3J"
      },
      "outputs": [],
      "source": [
        "def loadImage(filepath):\n",
        "  img = load_img(filepath)\n",
        "  img = img_to_array(img)\n",
        "  #img = img.reshape(1, 42, 42, 3)\n",
        "  # img = img.reshape(64, 192, 3)\n",
        "  img = img.astype('float32')\n",
        "  # img = img / 255.0\n",
        "  return img"
      ]
    },
    {
      "cell_type": "markdown",
      "metadata": {
        "id": "jXCR8ROH7ep6"
      },
      "source": [
        "### Features and Labels"
      ]
    },
    {
      "cell_type": "code",
      "source": [
        "def create_canvas(canvas_h=300, canvas_w=300):\n",
        "  # Create canvas\n",
        "  canvas_color = 255\n",
        "\n",
        "  pixel_rows = []\n",
        "  row = [canvas_color for x in range(0,canvas_w)]\n",
        "  for i in range(0,canvas_h):\n",
        "    pixel_rows.append(row)\n",
        "  r = pixel_rows\n",
        "  g = pixel_rows\n",
        "  b = pixel_rows\n",
        "\n",
        "  canvas = np.dstack((r,g,b))\n",
        "  return canvas\n",
        "\n",
        "cw = 950\n",
        "ch = 200\n",
        "canvas = create_canvas(ch, cw)\n",
        "\n",
        "def center_pad_image(img, canvas_h=300, canvas_w=300):\n",
        "  # Image positions\n",
        "  img2_width = img.shape[1]\n",
        "  img2_height = img.shape[0]\n",
        "  black_row = np.array([[0 for x in range(0,img2_width)]])\n",
        "  img2 = np.dstack((black_row,black_row,black_row))\n",
        "\n",
        "\n",
        "  startx = int((canvas_w-img2_width)/2)\n",
        "  starty = int((canvas_h-img2_height)/2)\n",
        "  endx = startx + img2_width\n",
        "  endy = starty + img2_height\n",
        "\n",
        "  # Superimpose image\n",
        "  to_superimpose = Image.fromarray(np.uint8(img)).convert('RGB')\n",
        "  # Reset global canvas\n",
        "  canvas[:, :] = 255\n",
        "  canvas[starty:endy, startx:endx] = to_superimpose\n",
        "\n",
        "\n",
        "  return Image.fromarray(np.uint8(canvas)).convert('RGB')\n",
        "\n",
        "\n",
        "# center_pad_image(sample_image, ch, cw)"
      ],
      "metadata": {
        "id": "oY3bH7oEpKH9"
      },
      "execution_count": 206,
      "outputs": []
    },
    {
      "cell_type": "code",
      "source": [
        "import re\n",
        "file1 = open('./results/gt.txt', 'r')\n",
        "Lines = file1.readlines()\n",
        "  \n",
        "print(len(Lines))\n",
        "\n",
        "data_F = np.empty((100, ch, cw, 3))\n",
        "data_L = np.array([])\n",
        "\n",
        "count = 0\n",
        "# Strips the newline character\n",
        "for i,line in enumerate(Lines):\n",
        "    d = re.split('\\t', line)\n",
        "    d[1] = d[1].replace('\\n','')\n",
        "\n",
        "    img = loadImage(f'results/{d[0]}')\n",
        "    loaded_image = np.array(center_pad_image(img, ch, cw))\n",
        "    data_F[i] = loaded_image\n",
        "    data_L = np.append(data_L, d[1])\n",
        "\n",
        "print(img.shape)\n",
        "data_F.shape\n",
        "Image.fromarray(np.uint8(data_F[0])).convert('RGB')"
      ],
      "metadata": {
        "colab": {
          "base_uri": "https://localhost:8080/",
          "height": 254
        },
        "id": "N-nD7bwuS6XM",
        "outputId": "daac5a45-e9df-4980-90c6-4820405b38c0"
      },
      "execution_count": 210,
      "outputs": [
        {
          "output_type": "stream",
          "name": "stdout",
          "text": [
            "100\n",
            "(90, 462, 3)\n"
          ]
        },
        {
          "output_type": "execute_result",
          "data": {
            "text/plain": [
              "<PIL.Image.Image image mode=RGB size=950x200>"
            ],
            "image/png": "[encoded data removed]"
          },
          "metadata": {},
          "execution_count": 210
        }
      ]
    },
    {
      "cell_type": "code",
      "source": [
        "# img = data_F[0]\n",
        "# img = img.astype(np.uint8) \n",
        "# plt.title(data_L[0])\n",
        "x = data_F[90].astype(np.uint8)\n",
        "plt.imshow(x)\n",
        "\n",
        "print(data_L[90])\n",
        "print(x.shape)\n",
        "print(img.shape)"
      ],
      "metadata": {
        "colab": {
          "base_uri": "https://localhost:8080/",
          "height": 177
        },
        "id": "EiSWPt8rgYBT",
        "outputId": "3a6ecc58-8a3c-4927-ff19-da8da62d3605"
      },
      "execution_count": 211,
      "outputs": [
        {
          "output_type": "stream",
          "name": "stdout",
          "text": [
            "THE\n",
            "(200, 950, 3)\n",
            "(90, 462, 3)\n"
          ]
        },
        {
          "output_type": "display_data",
          "data": {
            "text/plain": [
              "<Figure size 432x288 with 1 Axes>"
            ],
            "image/png": "[encoded data removed]"
          },
          "metadata": {
            "needs_background": "light"
          }
        }
      ]
    },
    {
      "cell_type": "code",
      "source": [
        "alphabet = 'abcdefghijklmnopqrstuvwxyz./:;,\\'\"-_1234567890?!)(][}{><'\n",
        "alph_num = re.split('', alphabet)\n",
        "alph_dict = dict({})\n",
        "\n",
        "for j, c in enumerate(alph_num):\n",
        "  alph_dict[c] = j"
      ],
      "metadata": {
        "id": "jF7IUwQ4tq5e"
      },
      "execution_count": 258,
      "outputs": []
    },
    {
      "cell_type": "code",
      "source": [
        "s = 'better'\n",
        "alph_dict\n",
        "_id = list(map(lambda c: alph_dict[c], s))\n",
        "_id\n",
        "# data_L_dist = to_categorical(data_L[0])"
      ],
      "metadata": {
        "colab": {
          "base_uri": "https://localhost:8080/"
        },
        "id": "7-zdBwXRvZCX",
        "outputId": "da61fe0f-dd2e-4f1a-dfa5-b03b40fdae57"
      },
      "execution_count": 224,
      "outputs": [
        {
          "output_type": "execute_result",
          "data": {
            "text/plain": [
              "[2, 5, 20, 20, 5, 18]"
            ]
          },
          "metadata": {},
          "execution_count": 224
        }
      ]
    },
    {
      "cell_type": "code",
      "source": [
        "m = lambda x: [alph_dict[c] for c in x]\n",
        "\n",
        "data_L_id = np.zeros((100,50))\n",
        "for k,data in enumerate(data_L):\n",
        "  data = data.lower()\n",
        "  ids = m(data)\n",
        "  # data_L_id = np.append(data_L_id, [ids], axis=0)\n",
        "  data_L_id[k][0:len(ids)] = ids[:]\n",
        "  # data_L_id = np.append(data_L_id, m(data), axis=0)"
      ],
      "metadata": {
        "id": "pUNOAafDwDRa"
      },
      "execution_count": 286,
      "outputs": []
    },
    {
      "cell_type": "code",
      "source": [
        "data_L_dist = to_categorical(data_L_id)"
      ],
      "metadata": {
        "id": "buO-b82007pM"
      },
      "execution_count": 289,
      "outputs": []
    },
    {
      "cell_type": "code",
      "source": [
        "data_L_dist.shape"
      ],
      "metadata": {
        "colab": {
          "base_uri": "https://localhost:8080/"
        },
        "id": "pO_Z5df91C5U",
        "outputId": "facbbfea-6d70-490d-a5fc-6d4ddc47ca6f"
      },
      "execution_count": 291,
      "outputs": [
        {
          "output_type": "execute_result",
          "data": {
            "text/plain": [
              "(100, 50, 55)"
            ]
          },
          "metadata": {},
          "execution_count": 291
        }
      ]
    },
    {
      "cell_type": "code",
      "source": [
        "len(alphabet)"
      ],
      "metadata": {
        "colab": {
          "base_uri": "https://localhost:8080/"
        },
        "id": "mvu24rQg1G2a",
        "outputId": "36f98c0a-70d7-48cd-faf0-4d537c753da4"
      },
      "execution_count": 292,
      "outputs": [
        {
          "output_type": "execute_result",
          "data": {
            "text/plain": [
              "55"
            ]
          },
          "metadata": {},
          "execution_count": 292
        }
      ]
    },
    {
      "cell_type": "markdown",
      "metadata": {
        "id": "y3mlAF8Q7ocC"
      },
      "source": [
        "### Model"
      ]
    },
    {
      "cell_type": "code",
      "execution_count": null,
      "metadata": {
        "id": "KfOMTtB1hcdF"
      },
      "outputs": [],
      "source": [
        "train_F, test_F, train_L_dist, test_L_dist = train_test_split(data_F, data_L_dist, test_size=0.1, random_state=0)"
      ]
    },
    {
      "cell_type": "code",
      "execution_count": null,
      "metadata": {
        "id": "17RoiGw_hsWY"
      },
      "outputs": [],
      "source": [
        "train_F.shape, test_F.shape, train_L_dist.shape, test_L_dist.shape"
      ]
    },
    {
      "cell_type": "code",
      "execution_count": null,
      "metadata": {
        "id": "uSttdlwhg4Nx"
      },
      "outputs": [],
      "source": [
        "# With data augmentation to prevent overfitting\n",
        "\n",
        "datagen = ImageDataGenerator(\n",
        "        featurewise_center=False,  # set input mean to 0 over the dataset\n",
        "        samplewise_center=False,  # set each sample mean to 0\n",
        "        featurewise_std_normalization=False,  # divide inputs by std of the dataset\n",
        "        samplewise_std_normalization=False,  # divide each input by its std\n",
        "        zca_whitening=False,  # apply ZCA whitening\n",
        "        rotation_range=15,  # randomly rotate images in the range (degrees, 0 to 180)\n",
        "        zoom_range = 0.01, # Randomly zoom image \n",
        "        width_shift_range=0.1,  # randomly shift images horizontally (fraction of total width)\n",
        "        height_shift_range=0.1,  # randomly shift images vertically (fraction of total height)\n",
        "        horizontal_flip=False,  # randomly flip images\n",
        "        vertical_flip=False)  # randomly flip images\n",
        "\n",
        "\n",
        "#datagen.fit(X_train)\n",
        "train_gen = datagen.flow(train_F, train_L_dist, batch_size=128)\n",
        "test_gen = datagen.flow(test_F, test_L_dist, batch_size=128)"
      ]
    },
    {
      "cell_type": "code",
      "execution_count": null,
      "metadata": {
        "id": "map673iJhIgl"
      },
      "outputs": [],
      "source": [
        "epochs = 5\n",
        "batch_size = 128\n",
        "train_steps = train_F.shape[0] // batch_size\n",
        "valid_steps = train_L_dist.shape[0] // batch_size\n",
        "\n",
        "es = keras.callbacks.EarlyStopping(\n",
        "        monitor=\"val_acc\", # metrics to monitor\n",
        "        patience=10, # how many epochs before stop\n",
        "        verbose=1,\n",
        "        mode=\"max\", # we need the maximum accuracy.\n",
        "        restore_best_weights=True, # \n",
        "     )\n",
        "\n",
        "rp = keras.callbacks.ReduceLROnPlateau(\n",
        "        monitor=\"val_acc\",\n",
        "        factor=0.2,\n",
        "        patience=3,\n",
        "        verbose=1,\n",
        "        mode=\"max\",\n",
        "        min_lr=0.00001,\n",
        "     )"
      ]
    },
    {
      "cell_type": "code",
      "execution_count": null,
      "metadata": {
        "id": "qmORo5YJdqLH"
      },
      "outputs": [],
      "source": [
        "img_w = 512\n",
        "img_h = 64\n",
        "words_per_epoch = 16000\n",
        "val_split = 0.2\n",
        "val_words = int(words_per_epoch * (val_split))\n",
        "\n",
        "# Network parameters\n",
        "conv_filters = 16\n",
        "kernel_size = (3, 3)\n",
        "pool_size = 2\n",
        "time_dense_size = 32\n",
        "rnn_size = 512\n",
        "minibatch_size = 32\n",
        "\n",
        "# model1=Sequential()\n",
        "\n",
        "# #model1.add(Lambda(standardize,input_shape=(28,28,1)))    \n",
        "# model1.add(Conv2D(filters=conv_filters, kernel_size = (3,3), activation=\"relu\", kernel_initializer='he_normal', input_shape=(28,28,3)))\n",
        "\n",
        "# model1.add(MaxPooling2D(pool_size=(2,2)))\n",
        "\n",
        "# model1.add(Conv2D(filters=conv_filters, kernel_size = (3,3), activation=\"relu\", kernel_initializer='he_normal'))\n",
        "\n",
        "# model1.add(MaxPooling2D(pool_size=(2,2)))\n",
        "\n",
        "\n",
        "# # conv_to_rnn_dims = (img_w // (pool_size ** 2),\n",
        "# #                     (img_h // (pool_size ** 2)) * conv_filters)\n",
        "\n",
        "\n",
        "# # model1.add(Reshape(target_shape=conv_to_rnn_dims))\n",
        "\n",
        "# model1.add(Flatten())\n",
        "\n",
        "# model1.add(Dense(time_dense_size, activation='relu'))\n",
        "\n",
        "\n",
        "# gru1 = GRU(rnn_size, return_sequences=True, kernel_initializer='he_normal')\n",
        "# gru2 = GRU(rnn_size, return_sequences=True, kernel_initializer='he_normal', go_backwards=True)\n",
        "# gru_merged = Add()([gru1, gru2]) #add([gru1, gru2])\n",
        "# model1.add(gru_merged)\n",
        "\n",
        "# gru1b = GRU(rnn_size, return_sequences=True, kernel_initializer='he_normal')\n",
        "# gru2b = GRU(rnn_size, return_sequences=True, kernel_initializer='he_normal', go_backwards=True)\n",
        "# gru2b_concat = concatenate(gru1b, gru2b)\n",
        "# model1.add(gru2b_concat)\n",
        "\n",
        "# model1.add(Dense(20, activation='softmax', kernel_initializer='he_normal'))\n",
        "# model1.add()\n",
        "\n",
        "input_shape = (None, None, 3)\n",
        "\n",
        "act = 'relu'\n",
        "input_data = Input(name='the_input', shape=input_shape, dtype='float32')\n",
        "inner = Conv2D(conv_filters, kernel_size, padding='same',\n",
        "                activation=act, kernel_initializer='he_normal',\n",
        "                name='conv1')(input_data)\n",
        "inner = MaxPooling2D(pool_size=(pool_size, pool_size), name='max1')(inner)\n",
        "inner = Conv2D(conv_filters, kernel_size, padding='same',\n",
        "                activation=act, kernel_initializer='he_normal',\n",
        "                name='conv2')(inner)\n",
        "inner = MaxPooling2D(pool_size=(pool_size, pool_size), name='max2')(inner)\n",
        "\n",
        "conv_to_rnn_dims = (img_w // (pool_size ** 2),\n",
        "                    (img_h // (pool_size ** 2)) * conv_filters)\n",
        "inner = Reshape(target_shape=conv_to_rnn_dims, name='reshape')(inner)\n",
        "\n",
        "# cuts down input size going into RNN:\n",
        "inner = Dense(time_dense_size, activation=act, name='dense1')(inner)\n",
        "\n",
        "# Two layers of bidirectional GRUs\n",
        "# GRU seems to work as well, if not better than LSTM:\n",
        "gru_1 = GRU(rnn_size, return_sequences=True,\n",
        "            kernel_initializer='he_normal', name='gru1')(inner)\n",
        "gru_1b = GRU(rnn_size, return_sequences=True,\n",
        "              go_backwards=True, kernel_initializer='he_normal',\n",
        "              name='gru1_b')(inner)\n",
        "gru1_merged = add([gru_1, gru_1b])\n",
        "gru_2 = GRU(rnn_size, return_sequences=True,\n",
        "            kernel_initializer='he_normal', name='gru2')(gru1_merged)\n",
        "gru_2b = GRU(rnn_size, return_sequences=True, go_backwards=True,\n",
        "              kernel_initializer='he_normal', name='gru2_b')(gru1_merged)\n",
        "\n",
        "# transforms RNN output to character activations:\n",
        "inner = Dense(20, kernel_initializer='he_normal', name='dense2')(concatenate([gru_2, gru_2b]))\n",
        "y_pred = inner#Activation('softmax', name='softmax')(inner)\n",
        "\n",
        "prediction_model = Model(inputs=input_data, outputs=y_pred)\n",
        "prediction_model.compile(loss=\"categorical_crossentropy\", optimizer=\"adam\", metrics=[\"accuracy\"])"
      ]
    },
    {
      "cell_type": "code",
      "source": [
        "prediction_model.summary()"
      ],
      "metadata": {
        "id": "gVa1TNKZIA8U"
      },
      "execution_count": null,
      "outputs": []
    },
    {
      "cell_type": "code",
      "source": [
        "import os\n",
        "import itertools\n",
        "import codecs\n",
        "import re\n",
        "import datetime\n",
        "import cairocffi as cairo\n",
        "import editdistance\n",
        "import numpy as np\n",
        "from scipy import ndimage\n",
        "import pylab\n",
        "import tensorflow\n",
        "from keras import backend as K\n",
        "from keras.layers.convolutional import Conv2D, MaxPooling2D\n",
        "from keras.layers import Input, Dense, Activation\n",
        "from keras.layers import Reshape, Lambda\n",
        "from keras.layers.merge import add, concatenate\n",
        "from keras.models import Model\n",
        "from keras.layers.recurrent import GRU\n",
        "from keras.optimizers import SGD\n",
        "from keras.utils.data_utils import get_file\n",
        "from keras.preprocessing import image\n",
        "import keras.callbacks\n",
        "#from keras.metrics import Metric\n",
        "from tensorflow.python.keras.metrics import Metric\n",
        "\n",
        "OUTPUT_DIR = 'image_ocr'\n",
        "\n",
        "# character classes and matching regex filter\n",
        "regex = r'^[a-z ]+$'\n",
        "alphabet = u'abcdefghijklmnopqrstuvwxyz '\n",
        "\n",
        "np.random.seed(55)\n",
        "\n",
        "\n",
        "# this creates larger \"blotches\" of noise which look\n",
        "# more realistic than just adding gaussian noise\n",
        "# assumes greyscale with pixels ranging from 0 to 1\n",
        "\n",
        "def speckle(img):\n",
        "  severity = np.random.uniform(0, 0.6)\n",
        "  blur = ndimage.gaussian_filter(np.random.randn(*img.shape) * severity, 1)\n",
        "  img_speck = (img + blur)\n",
        "  img_speck[img_speck > 1] = 1\n",
        "  img_speck[img_speck <= 0] = 0\n",
        "  return img_speck\n",
        "\n",
        "\n",
        "# paints the string in a random location the bounding box\n",
        "# also uses a random font, a slight random rotation,\n",
        "# and a random amount of speckle noise\n",
        "\n",
        "def paint_text(text, w, h, rotate=False, ud=False, multi_fonts=False):\n",
        "  surface = cairo.ImageSurface(cairo.FORMAT_RGB24, w, h)\n",
        "  with cairo.Context(surface) as context:\n",
        "      context.set_source_rgb(1, 1, 1)  # White\n",
        "      context.paint()\n",
        "      # this font list works in CentOS 7\n",
        "      if multi_fonts:\n",
        "          fonts = [\n",
        "              'Century Schoolbook', 'Courier', 'STIX',\n",
        "              'URW Chancery L', 'FreeMono']\n",
        "          context.select_font_face(\n",
        "              np.random.choice(fonts),\n",
        "              cairo.FONT_SLANT_NORMAL,\n",
        "              np.random.choice([cairo.FONT_WEIGHT_BOLD, cairo.FONT_WEIGHT_NORMAL]))\n",
        "      else:\n",
        "          context.select_font_face('Courier',\n",
        "                                    cairo.FONT_SLANT_NORMAL,\n",
        "                                    cairo.FONT_WEIGHT_BOLD)\n",
        "      context.set_font_size(25)\n",
        "      box = context.text_extents(text)\n",
        "      border_w_h = (4, 4)\n",
        "      if box[2] > (w - 2 * border_w_h[1]) or box[3] > (h - 2 * border_w_h[0]):\n",
        "          raise IOError(('Could not fit string into image.'\n",
        "                          'Max char count is too large for given image width.'))\n",
        "\n",
        "      # teach the RNN translational invariance by\n",
        "      # fitting text box randomly on canvas, with some room to rotate\n",
        "      max_shift_x = w - box[2] - border_w_h[0]\n",
        "      max_shift_y = h - box[3] - border_w_h[1]\n",
        "      top_left_x = np.random.randint(0, int(max_shift_x))\n",
        "      if ud:\n",
        "          top_left_y = np.random.randint(0, int(max_shift_y))\n",
        "      else:\n",
        "          top_left_y = h // 2\n",
        "      context.move_to(top_left_x - int(box[0]), top_left_y - int(box[1]))\n",
        "      context.set_source_rgb(0, 0, 0)\n",
        "      context.show_text(text)\n",
        "\n",
        "  buf = surface.get_data()\n",
        "  a = np.frombuffer(buf, np.uint8)\n",
        "  a.shape = (h, w, 4)\n",
        "  a = a[:, :, 0]  # grab single channel\n",
        "  a = a.astype(np.float32) / 255\n",
        "  a = np.expand_dims(a, 0)\n",
        "  if rotate:\n",
        "      a = image.random_rotation(a, 3 * (w - top_left_x) / w + 1)\n",
        "  a = speckle(a)\n",
        "\n",
        "  return a\n",
        "\n",
        "\n",
        "def shuffle_mats_or_lists(matrix_list, stop_ind=None):\n",
        "  ret = []\n",
        "  assert all([len(i) == len(matrix_list[0]) for i in matrix_list])\n",
        "  len_val = len(matrix_list[0])\n",
        "  if stop_ind is None:\n",
        "      stop_ind = len_val\n",
        "  assert stop_ind <= len_val\n",
        "\n",
        "  a = list(range(stop_ind))\n",
        "  np.random.shuffle(a)\n",
        "  a += list(range(stop_ind, len_val))\n",
        "  for mat in matrix_list:\n",
        "      if isinstance(mat, np.ndarray):\n",
        "          ret.append(mat[a])\n",
        "      elif isinstance(mat, list):\n",
        "          ret.append([mat[i] for i in a])\n",
        "      else:\n",
        "          raise TypeError('`shuffle_mats_or_lists` only supports '\n",
        "                          'numpy.array and list objects.')\n",
        "  return ret\n",
        "\n",
        "\n",
        "# Translation of characters to unique integer values\n",
        "def text_to_labels(text):\n",
        "  ret = []\n",
        "  for char in text:\n",
        "      ret.append(alphabet.find(char))\n",
        "  return ret\n",
        "\n",
        "\n",
        "# Reverse translation of numerical classes back to characters\n",
        "def labels_to_text(labels):\n",
        "  ret = []\n",
        "  for c in labels:\n",
        "      if c == len(alphabet):  # CTC Blank\n",
        "          ret.append(\"\")\n",
        "      else:\n",
        "          ret.append(alphabet[c])\n",
        "  return \"\".join(ret)\n",
        "\n",
        "\n",
        "# only a-z and space..probably not to difficult\n",
        "# to expand to uppercase and symbols\n",
        "\n",
        "def is_valid_str(in_str):\n",
        "  search = re.compile(regex, re.UNICODE).search\n",
        "  return bool(search(in_str))\n",
        "\n",
        "\n",
        "# Uses generator functions to supply train/test with\n",
        "# data. Image renderings and text are created on the fly\n",
        "# each time with random perturbations\n",
        "\n",
        "class TextImageGenerator(keras.callbacks.Callback):\n",
        "\n",
        "  def __init__(self, monogram_file, bigram_file, minibatch_size,\n",
        "                img_w, img_h, downsample_factor, val_split,\n",
        "                absolute_max_string_len=16):\n",
        "\n",
        "      self.minibatch_size = minibatch_size\n",
        "      self.img_w = img_w\n",
        "      self.img_h = img_h\n",
        "      self.monogram_file = monogram_file\n",
        "      self.bigram_file = bigram_file\n",
        "      self.downsample_factor = downsample_factor\n",
        "      self.val_split = val_split\n",
        "      self.blank_label = self.get_output_size() - 1\n",
        "      self.absolute_max_string_len = absolute_max_string_len\n",
        "\n",
        "      # Dany\n",
        "      self.cur_val_index = 0\n",
        "      self.paint_func = lambda text: paint_text(\n",
        "          text, self.img_w, self.img_h,\n",
        "          rotate=False, ud=False, multi_fonts=False)\n",
        "      self.X_text = []\n",
        "      self.train_started = False\n",
        "\n",
        "  def get_output_size(self):\n",
        "      return len(alphabet) + 1\n",
        "\n",
        "  # num_words can be independent of the epoch size due to the use of generators\n",
        "  # as max_string_len grows, num_words can grow\n",
        "  def build_word_list(self, num_words, max_string_len=None, mono_fraction=0.5):\n",
        "      assert max_string_len <= self.absolute_max_string_len\n",
        "      assert num_words % self.minibatch_size == 0\n",
        "      assert (self.val_split * num_words) % self.minibatch_size == 0\n",
        "      self.num_words = num_words\n",
        "      self.string_list = [''] * self.num_words\n",
        "      tmp_string_list = []\n",
        "      self.max_string_len = max_string_len\n",
        "      self.Y_data = np.ones([self.num_words, self.absolute_max_string_len]) * -1\n",
        "      self.X_text = []\n",
        "      self.Y_len = [0] * self.num_words\n",
        "\n",
        "      def _is_length_of_word_valid(word):\n",
        "          return (max_string_len == -1 or\n",
        "                  max_string_len is None or\n",
        "                  len(word) <= max_string_len)\n",
        "\n",
        "      # monogram file is sorted by frequency in english speech\n",
        "      with codecs.open(self.monogram_file, mode='r', encoding='utf-8') as f:\n",
        "          for line in f:\n",
        "              if len(tmp_string_list) == int(self.num_words * mono_fraction):\n",
        "                  break\n",
        "              word = line.rstrip()\n",
        "              if _is_length_of_word_valid(word):\n",
        "                  tmp_string_list.append(word)\n",
        "\n",
        "      # bigram file contains common word pairings in english speech\n",
        "      with codecs.open(self.bigram_file, mode='r', encoding='utf-8') as f:\n",
        "          lines = f.readlines()\n",
        "          for line in lines:\n",
        "              if len(tmp_string_list) == self.num_words:\n",
        "                  break\n",
        "              columns = line.lower().split()\n",
        "              word = columns[0] + ' ' + columns[1]\n",
        "              if is_valid_str(word) and _is_length_of_word_valid(word):\n",
        "                  tmp_string_list.append(word)\n",
        "      if len(tmp_string_list) != self.num_words:\n",
        "          raise IOError('Could not pull enough words'\n",
        "                        'from supplied monogram and bigram files.')\n",
        "      # interlace to mix up the easy and hard words\n",
        "      self.string_list[::2] = tmp_string_list[:self.num_words // 2]\n",
        "      self.string_list[1::2] = tmp_string_list[self.num_words // 2:]\n",
        "\n",
        "      for i, word in enumerate(self.string_list):\n",
        "          self.Y_len[i] = len(word)\n",
        "          self.Y_data[i, 0:len(word)] = text_to_labels(word)\n",
        "\n",
        "          if(i == 5):\n",
        "            print(\"Y...\", self.Y_data[i, 0:len(word)])\n",
        "            \n",
        "            # for j in range(15):\n",
        "            #   print(self.Y_data[j])\n",
        "\n",
        "            # print('self.Y_data')\n",
        "            # print(self.Y_data)\n",
        "            print(len(self.Y_data))\n",
        "            # print(word)\n",
        "\n",
        "\n",
        "          self.X_text.append(word)\n",
        "      self.Y_len = np.expand_dims(np.array(self.Y_len), 1)\n",
        "\n",
        "      self.cur_val_index = self.val_split\n",
        "      self.cur_train_index = 0\n",
        "\n",
        "  # each time an image is requested from train/val/test, a new random\n",
        "  # painting of the text is performed\n",
        "  def get_batch(self, index, size, train):\n",
        "      # width and height are backwards from typical Keras convention\n",
        "      # because width is the time dimension when it gets fed into the RNN\n",
        "      if K.image_data_format() == 'channels_first':\n",
        "          X_data = np.ones([size, 1, self.img_w, self.img_h])\n",
        "      else:\n",
        "          X_data = np.ones([size, self.img_w, self.img_h, 1])\n",
        "\n",
        "      labels = np.ones([size, self.absolute_max_string_len])\n",
        "      input_length = np.zeros([size, 1])\n",
        "      label_length = np.zeros([size, 1])\n",
        "      source_str = []\n",
        "      for i in range(size):\n",
        "          # Mix in some blank inputs.  This seems to be important for\n",
        "          # achieving translational invariance\n",
        "          if train and i > size - 4:\n",
        "              if K.image_data_format() == 'channels_first':\n",
        "                  X_data[i, 0, 0:self.img_w, :] = self.paint_func('')[0, :, :].T\n",
        "              else:\n",
        "                  X_data[i, 0:self.img_w, :, 0] = self.paint_func('',)[0, :, :].T\n",
        "              labels[i, 0] = self.blank_label\n",
        "              input_length[i] = self.img_w // self.downsample_factor - 2\n",
        "              label_length[i] = 1\n",
        "              source_str.append('')\n",
        "          else:\n",
        "              if K.image_data_format() == 'channels_first':\n",
        "                  X_data[i, 0, 0:self.img_w, :] = (\n",
        "                      self.paint_func(self.X_text[index + i])[0, :, :].T)\n",
        "              else:\n",
        "                  X_data[i, 0:self.img_w, :, 0] = (\n",
        "                      self.paint_func(self.X_text[index + i])[0, :, :].T)\n",
        "              labels[i, :] = self.Y_data[index + i]\n",
        "              input_length[i] = self.img_w // self.downsample_factor - 2\n",
        "              label_length[i] = self.Y_len[index + i]\n",
        "              source_str.append(self.X_text[index + i])\n",
        "\n",
        "      inputs = {'the_input': X_data,\n",
        "                'the_labels': labels,\n",
        "                'input_length': input_length,\n",
        "                'label_length': label_length,\n",
        "                'source_str': source_str  # used for visualization only\n",
        "                }\n",
        "      outputs = {'ctc': np.zeros([size])}  # dummy data for dummy loss function\n",
        "      return (inputs, outputs)\n",
        "\n",
        "  def next_train(self):\n",
        "\n",
        "      # Dany\n",
        "      print('train_started')\n",
        "      while not self.train_started:\n",
        "        time.sleep(1)\n",
        "        print('train_started after')\n",
        "\n",
        "      while 1:\n",
        "          \n",
        "          ret = self.get_batch(self.cur_train_index,\n",
        "                                self.minibatch_size, train=True)\n",
        "          self.cur_train_index += self.minibatch_size\n",
        "\n",
        "          print( 'self.cur_train_index, self.val_split' )\n",
        "          print( self.cur_train_index, self.val_split )\n",
        "          if self.cur_train_index >= self.val_split:\n",
        "              self.cur_train_index = self.cur_train_index % 32\n",
        "              (self.X_text, self.Y_data, self.Y_len) = shuffle_mats_or_lists(\n",
        "                  [self.X_text, self.Y_data, self.Y_len], self.val_split)\n",
        "              \n",
        "              print('self.X_text', self.X_text)\n",
        "          yield ret\n",
        "\n",
        "  # def next_val(self):\n",
        "  #     while 1:\n",
        "  #         ret = self.get_batch(self.cur_val_index,\n",
        "  #                              self.minibatch_size, train=False)\n",
        "  #         self.cur_val_index += self.minibatch_size\n",
        "  #         if self.cur_val_index >= self.num_words:\n",
        "  #           self.cur_val_index = self.val_split + self.cur_val_index % 32\n",
        "  #         yield ret\n",
        "\n",
        "  def next_val(self):\n",
        "\n",
        "      print('val_started')\n",
        "      while not self.val_started:\n",
        "        time.sleep(1)\n",
        "        print('val_started after')\n",
        "\n",
        "      while 1:\n",
        "          ret = self.get_batch(self.cur_val_index,\n",
        "                                self.minibatch_size, train=False)\n",
        "          self.cur_val_index += self.minibatch_size\n",
        "          if 1 == 1:\n",
        "              self.cur_val_index = self.val_split + self.cur_val_index\n",
        "              # Dany\n",
        "              (self.X_text, self.Y_data, self.Y_len) = shuffle_mats_or_lists(\n",
        "                  [self.X_text, self.Y_data, self.Y_len], self.val_split)\n",
        "          yield ret\n",
        "\n",
        "  def on_train_begin(self, logs={}):\n",
        "      self.build_word_list(16000, 4, 1)\n",
        "      self.paint_func = lambda text: paint_text(\n",
        "          text, self.img_w, self.img_h,\n",
        "          rotate=False, ud=False, multi_fonts=False)\n",
        "      \n",
        "      # Dany\n",
        "      self.train_started = True\n",
        "\n",
        "  def on_epoch_begin(self, epoch, logs={}):\n",
        "      # rebind the paint function to implement curriculum learning\n",
        "      if 3 <= epoch < 6:\n",
        "          self.paint_func = lambda text: paint_text(\n",
        "              text, self.img_w, self.img_h,\n",
        "              rotate=False, ud=True, multi_fonts=False)\n",
        "      elif 6 <= epoch < 9:\n",
        "          self.paint_func = lambda text: paint_text(\n",
        "              text, self.img_w, self.img_h,\n",
        "              rotate=False, ud=True, multi_fonts=True)\n",
        "      elif epoch >= 9:\n",
        "          self.paint_func = lambda text: paint_text(\n",
        "              text, self.img_w, self.img_h,\n",
        "              rotate=True, ud=True, multi_fonts=True)\n",
        "      if epoch >= 21 and self.max_string_len < 12:\n",
        "          self.build_word_list(32000, 12, 0.5)\n",
        "\n",
        "\n",
        "# the actual loss calc occurs here despite it not being\n",
        "# an internal Keras loss function\n",
        "\n",
        "def ctc_lambda_func(args):\n",
        "  y_pred, labels, input_length, label_length = args\n",
        "  # the 2 is critical here since the first couple outputs of the RNN\n",
        "  # tend to be garbage:\n",
        "  y_pred = y_pred[:, 2:, :]\n",
        "  return K.ctc_batch_cost(labels, y_pred, input_length, label_length)\n",
        "\n",
        "\n",
        "# For a real OCR application, this should be beam search with a dictionary\n",
        "# and language model.  For this example, best path is sufficient.\n",
        "\n",
        "def decode_batch(test_func, word_batch):\n",
        "  out = test_func([word_batch])[0]\n",
        "  ret = []\n",
        "  for j in range(out.shape[0]):\n",
        "      out_best = list(np.argmax(out[j, 2:], 1))\n",
        "      out_best = [k for k, g in itertools.groupby(out_best)]\n",
        "      outstr = labels_to_text(out_best)\n",
        "      ret.append(outstr)\n",
        "  return ret\n",
        "\n",
        "\n",
        "class VizCallback(keras.callbacks.Callback):\n",
        "\n",
        "  def __init__(self, run_name, test_func, text_img_gen, num_display_words=6):\n",
        "      self.test_func = test_func\n",
        "      self.output_dir = os.path.join(\n",
        "          OUTPUT_DIR, run_name)\n",
        "      self.text_img_gen = text_img_gen\n",
        "      self.num_display_words = num_display_words\n",
        "      if not os.path.exists(self.output_dir):\n",
        "          os.makedirs(self.output_dir)\n",
        "\n",
        "  def show_edit_distance(self, num):\n",
        "      num_left = num\n",
        "      mean_norm_ed = 0.0\n",
        "      mean_ed = 0.0\n",
        "      while num_left > 0:\n",
        "          word_batch = next(self.text_img_gen)[0]\n",
        "          num_proc = min(word_batch['the_input'].shape[0], num_left)\n",
        "          decoded_res = decode_batch(self.test_func,\n",
        "                                      word_batch['the_input'][0:num_proc])\n",
        "          for j in range(num_proc):\n",
        "              edit_dist = editdistance.eval(decoded_res[j],\n",
        "                                            word_batch['source_str'][j])\n",
        "              mean_ed += float(edit_dist)\n",
        "              mean_norm_ed += float(edit_dist) / len(word_batch['source_str'][j])\n",
        "          num_left -= num_proc\n",
        "      mean_norm_ed = mean_norm_ed / num\n",
        "      mean_ed = mean_ed / num\n",
        "      print('\\nOut of %d samples:  Mean edit distance:'\n",
        "            '%.3f Mean normalized edit distance: %0.3f'\n",
        "            % (num, mean_ed, mean_norm_ed))\n",
        "\n",
        "  def on_epoch_end(self, epoch, logs={}):\n",
        "      self.model.save_weights(\n",
        "          os.path.join(self.output_dir, 'weights%02d.h5' % (epoch)))\n",
        "      self.show_edit_distance(256)\n",
        "      word_batch = next(self.text_img_gen)[0]\n",
        "      res = decode_batch(self.test_func,\n",
        "                          word_batch['the_input'][0:self.num_display_words])\n",
        "      if word_batch['the_input'][0].shape[0] < 256:\n",
        "          cols = 2\n",
        "      else:\n",
        "          cols = 1\n",
        "      for i in range(self.num_display_words):\n",
        "          pylab.subplot(self.num_display_words // cols, cols, i + 1)\n",
        "          if K.image_data_format() == 'channels_first':\n",
        "              the_input = word_batch['the_input'][i, 0, :, :]\n",
        "          else:\n",
        "              the_input = word_batch['the_input'][i, :, :, 0]\n",
        "          pylab.imshow(the_input.T, cmap='Greys_r')\n",
        "          pylab.xlabel(\n",
        "              'Truth = \\'%s\\'\\nDecoded = \\'%s\\'' %\n",
        "              (word_batch['source_str'][i], res[i]))\n",
        "      fig = pylab.gcf()\n",
        "      fig.set_size_inches(10, 13)\n",
        "      pylab.savefig(os.path.join(self.output_dir, 'e%02d.png' % (epoch)))\n",
        "      pylab.close()\n",
        "\n",
        "fdir = './'\n",
        "\n",
        "img_gen = TextImageGenerator(\n",
        "    monogram_file=os.path.join(fdir, 'wordlist_mono_clean.txt'),\n",
        "    bigram_file=os.path.join(fdir, 'wordlist_bi_clean.txt'),\n",
        "    minibatch_size=minibatch_size,\n",
        "    img_w=img_w,\n",
        "    img_h=img_h,\n",
        "    downsample_factor=(pool_size ** 2),\n",
        "    val_split=words_per_epoch - val_words)\n",
        "\n",
        "test_func = K.function([input_data], [y_pred])\n",
        "\n",
        "viz_cb = VizCallback('1', test_func, img_gen.next_val())"
      ],
      "metadata": {
        "id": "ycvjhG57JM7v"
      },
      "execution_count": null,
      "outputs": []
    },
    {
      "cell_type": "code",
      "source": [
        "prediction_model.fit_generator(\n",
        "    generator=img_gen.next_train(),\n",
        "    steps_per_epoch=(words_per_epoch - val_words) // minibatch_size,\n",
        "    epochs=2,\n",
        "    validation_data=img_gen.next_val(),\n",
        "    validation_steps=val_words // minibatch_size,\n",
        "    callbacks=[viz_cb, img_gen],\n",
        "    initial_epoch=0\n",
        ")\n"
      ],
      "metadata": {
        "id": "tKYW4qqlI6yt"
      },
      "execution_count": null,
      "outputs": []
    },
    {
      "cell_type": "code",
      "execution_count": null,
      "metadata": {
        "id": "f3m3usj0eA-I"
      },
      "outputs": [],
      "source": [
        "# metrics1 = model1.fit(x=train_F, y=train_L_dist, epochs=20, verbose=1)\n",
        "\n",
        "# Fit the model\n",
        "metrics1 = model1.fit_generator(train_gen, \n",
        "                              epochs = epochs, \n",
        "                              steps_per_epoch = train_steps,\n",
        "                              validation_data = test_gen,\n",
        "                              validation_steps = valid_steps, \n",
        "                              callbacks=[es, rp])"
      ]
    },
    {
      "cell_type": "markdown",
      "metadata": {
        "id": "h6Zu6CyARjYj"
      },
      "source": [
        "### Predict"
      ]
    }
  ],
  "metadata": {
    "colab": {
      "collapsed_sections": [],
      "name": "keras-ocr-bignumber-generator.ipynb",
      "provenance": [],
      "authorship_tag": "ABX9TyPYrAuENNF5E4C0iCr3tXjP",
      "include_colab_link": true
    },
    "kernelspec": {
      "display_name": "Python 3",
      "name": "python3"
    },
    "language_info": {
      "name": "python"
    }
  },
  "nbformat": 4,
  "nbformat_minor": 0
}