{
  "cells": [
    {
      "cell_type": "markdown",
      "metadata": {
        "id": "view-in-github",
        "colab_type": "text"
      },
      "source": [
        "<a href=\"https://colab.research.google.com/github/danyentezari/bn-ocr/blob/main/keras_ocr_bignumber_generator.ipynb\" target=\"_parent\"><img src=\"https://colab.research.google.com/assets/colab-badge.svg\" alt=\"Open In Colab\"/></a>"
      ]
    },
    {
      "cell_type": "code",
      "execution_count": null,
      "metadata": {
        "id": "obI7x309JZl7"
      },
      "outputs": [],
      "source": [
        "!pip install keras==2.2.5\n",
        "!pip install tensorflow==1.13.1\n",
        "# !unzip kaggle.json.zip\n",
        "# !mkdir ~/.kaggle \n",
        "# !cp kaggle.json ~/.kaggle/\n",
        "# !chmod 600 ~/.kaggle/kaggle.json\n",
        "# !kaggle datasets download scolianni/mnistasjpg\n",
        "# !unzip mnistasjpg.zip\n",
        "!pip install 'h5py==2.10.0' --force-reinstall\n",
        "# !pip install cairocffi\n",
        "# !pip install gdown\n",
        "# !pip install synthtiger"
      ]
    },
    {
      "cell_type": "code",
      "source": [
        "!rm -r ./out"
      ],
      "metadata": {
        "id": "btLVq2qNlfpk"
      },
      "execution_count": 10,
      "outputs": []
    },
    {
      "cell_type": "code",
      "source": [
        "!pip install trdg"
      ],
      "metadata": {
        "id": "9yC7VJrSjAUP"
      },
      "execution_count": null,
      "outputs": []
    },
    {
      "cell_type": "code",
      "source": [
        "!trdg -c 40000 -w 5 -f 64 --length 1"
      ],
      "metadata": {
        "id": "W_DQHVIMlHKR"
      },
      "execution_count": null,
      "outputs": []
    },
    {
      "cell_type": "code",
      "execution_count": 14,
      "metadata": {
        "id": "ySjCR1kKQyuw"
      },
      "outputs": [],
      "source": [
        "# !pip install synthtiger\n",
        "# !git clone https://github.com/clovaai/synthtiger.git\n",
        "# !cp -r synthtiger/* .\n",
        "# !synthtiger -o results -w 4 -c 500 -v examples/synthtiger/template.py SynthTiger examples/synthtiger/config_horizontal.yaml"
      ]
    },
    {
      "cell_type": "code",
      "execution_count": 2,
      "metadata": {
        "id": "jsIR42VJ8Rfr"
      },
      "outputs": [],
      "source": [
        "# !curl https://thor.robots.ox.ac.uk/~vgg/data/text/mjsynth.tar.gz --output mjsynth.tar.gz\n",
        "# !tar -xvf ./mjsynth.tar.gz"
      ]
    },
    {
      "cell_type": "code",
      "execution_count": 1,
      "metadata": {
        "colab": {
          "base_uri": "https://localhost:8080/"
        },
        "id": "dq_h85uJ60oR",
        "outputId": "5f8cec31-4da3-4ee0-f881-565da2d8c0bd"
      },
      "outputs": [
        {
          "output_type": "stream",
          "name": "stderr",
          "text": [
            "/usr/local/lib/python3.7/dist-packages/tensorflow/python/framework/dtypes.py:526: FutureWarning: Passing (type, 1) or '1type' as a synonym of type is deprecated; in a future version of numpy, it will be understood as (type, (1,)) / '(1,)type'.\n",
            "  _np_qint8 = np.dtype([(\"qint8\", np.int8, 1)])\n",
            "/usr/local/lib/python3.7/dist-packages/tensorflow/python/framework/dtypes.py:527: FutureWarning: Passing (type, 1) or '1type' as a synonym of type is deprecated; in a future version of numpy, it will be understood as (type, (1,)) / '(1,)type'.\n",
            "  _np_quint8 = np.dtype([(\"quint8\", np.uint8, 1)])\n",
            "/usr/local/lib/python3.7/dist-packages/tensorflow/python/framework/dtypes.py:528: FutureWarning: Passing (type, 1) or '1type' as a synonym of type is deprecated; in a future version of numpy, it will be understood as (type, (1,)) / '(1,)type'.\n",
            "  _np_qint16 = np.dtype([(\"qint16\", np.int16, 1)])\n",
            "/usr/local/lib/python3.7/dist-packages/tensorflow/python/framework/dtypes.py:529: FutureWarning: Passing (type, 1) or '1type' as a synonym of type is deprecated; in a future version of numpy, it will be understood as (type, (1,)) / '(1,)type'.\n",
            "  _np_quint16 = np.dtype([(\"quint16\", np.uint16, 1)])\n",
            "/usr/local/lib/python3.7/dist-packages/tensorflow/python/framework/dtypes.py:530: FutureWarning: Passing (type, 1) or '1type' as a synonym of type is deprecated; in a future version of numpy, it will be understood as (type, (1,)) / '(1,)type'.\n",
            "  _np_qint32 = np.dtype([(\"qint32\", np.int32, 1)])\n",
            "/usr/local/lib/python3.7/dist-packages/tensorflow/python/framework/dtypes.py:535: FutureWarning: Passing (type, 1) or '1type' as a synonym of type is deprecated; in a future version of numpy, it will be understood as (type, (1,)) / '(1,)type'.\n",
            "  np_resource = np.dtype([(\"resource\", np.ubyte, 1)])\n",
            "Using TensorFlow backend.\n"
          ]
        }
      ],
      "source": [
        "import matplotlib.pyplot as plt\n",
        "import numpy as np\n",
        "from os import listdir\n",
        "from os.path import isfile, join\n",
        "import re\n",
        "from scipy.sparse import csr_matrix\n",
        "import cv2\n",
        "import string\n",
        "from PIL import Image\n",
        "\n",
        "import itertools\n",
        "from sklearn.model_selection import train_test_split\n",
        "from sklearn.feature_extraction.text import HashingVectorizer\n",
        "\n",
        "import tensorflow as tf\n",
        "from tensorflow.keras import datasets, layers, models\n",
        "\n",
        "import keras\n",
        "from keras.utils.np_utils import to_categorical\n",
        "from keras.preprocessing.image import ImageDataGenerator\n",
        "from keras.models import Sequential\n",
        "from keras.layers import * #Conv2D, Lambda, MaxPooling2D # convolution layers\n",
        "#from keras.layers import Dense, Dropout, Flatten # core layers\n",
        "# from keras.layers.normalization import BatchNormalization\n",
        "\n",
        "\n",
        "from keras.preprocessing.image import load_img\n",
        "from keras.preprocessing.image import img_to_array\n",
        "# from tensorflow.keras.utils import load_img\n",
        "# from tensorflow.keras.utils import img_to_array\n",
        "\n",
        "from keras import backend as K\n",
        "from keras.layers.convolutional import Conv2D, MaxPooling2D\n",
        "# from keras.layers import Input, Dense, Activation, Add\n",
        "# from keras.layers import Reshape, Lambda\n",
        "from keras.layers.merge import add, concatenate\n",
        "from keras.models import Model\n",
        "from keras.layers.recurrent import GRU\n",
        "from keras.utils.data_utils import get_file\n",
        "from keras.preprocessing import image\n",
        "import keras.callbacks\n",
        "#from keras.metrics import Metric\n",
        "from tensorflow.python.keras.metrics import Metric\n",
        "\n",
        "import matplotlib.pyplot as plt\n",
        "%matplotlib inline\n"
      ]
    },
    {
      "cell_type": "markdown",
      "metadata": {
        "id": "jXCR8ROH7ep6"
      },
      "source": [
        "### Features and Labels"
      ]
    },
    {
      "cell_type": "code",
      "execution_count": 2,
      "metadata": {
        "colab": {
          "base_uri": "https://localhost:8080/"
        },
        "id": "XHEX6GYfOJvY",
        "outputId": "e359650b-e7e7-48d9-ce2f-4d246f5759c6"
      },
      "outputs": [
        {
          "output_type": "execute_result",
          "data": {
            "text/plain": [
              "array([[ 1,  2,  3],\n",
              "       [ 4,  5,  6],\n",
              "       [ 7,  8,  9],\n",
              "       [10, 11, 12]], dtype=int32)"
            ]
          },
          "metadata": {},
          "execution_count": 2
        }
      ],
      "source": [
        "t1 = [[1, 2, 3], [4, 5, 6]]\n",
        "t2 = [[7, 8, 9], [10, 11, 12]]\n",
        "x = tf.concat([t1, t2], 0)\n",
        "x.eval(session=tf.compat.v1.Session())"
      ]
    },
    {
      "cell_type": "code",
      "execution_count": 50,
      "metadata": {
        "id": "FDwUvArMSHeP"
      },
      "outputs": [],
      "source": [
        "cw = 100\n",
        "ch = 32"
      ]
    },
    {
      "cell_type": "code",
      "execution_count": 114,
      "metadata": {
        "colab": {
          "base_uri": "https://localhost:8080/",
          "height": 185
        },
        "id": "LYdzLKEPcsyV",
        "outputId": "59e334ad-0bc8-492d-db89-a9cb6fec256a"
      },
      "outputs": [
        {
          "output_type": "stream",
          "name": "stderr",
          "text": [
            "/usr/local/lib/python3.7/dist-packages/keras_preprocessing/image/utils.py:107: UserWarning: grayscale is deprecated. Please use color_mode = \"grayscale\"\n",
            "  warnings.warn('grayscale is deprecated. Please use '\n"
          ]
        },
        {
          "output_type": "execute_result",
          "data": {
            "text/plain": [
              "<matplotlib.image.AxesImage at 0x7f818277c150>"
            ]
          },
          "metadata": {},
          "execution_count": 114
        },
        {
          "output_type": "display_data",
          "data": {
            "text/plain": [
              "<Figure size 432x288 with 1 Axes>"
            ],
            "image/png": "[encoded data removed]"
          },
          "metadata": {
            "needs_background": "light"
          }
        }
      ],
      "source": [
        "def loadImage(filepath):\n",
        "  # img = load_img(filepath, target_size=(ch, cw), grayscale=True)\n",
        "  img = load_img(filepath, grayscale=True)\n",
        "  img = img_to_array(img)\n",
        "  #img = img.reshape(1, 42, 42, 3)\n",
        "  #img = img.reshape(32, 125, 3)\n",
        "  img = img.astype('float32')\n",
        "  # img = img / 255.0\n",
        "  return img\n",
        "\n",
        "plt.imshow(loadImage('./america.png')[:,:,0], cmap='gray')"
      ]
    },
    {
      "cell_type": "code",
      "execution_count": 5,
      "metadata": {
        "id": "I_86M97mSFgI"
      },
      "outputs": [],
      "source": [
        "# def scale_resize_image(image):\n",
        "#     image = tf.image.convert_image_dtype(image, tf.float32) # equivalent to dividing image pixels by 255\n",
        "#     image = tf.image.resize(image, (ch, cw))\n",
        "#     return image\n",
        "\n",
        "\n",
        "# someimg = load_img('./america.png')\n",
        "\n",
        "# someimg = scale_resize_image( someimg )\n",
        "# # someimg = someimg.astype('float32')\n",
        "\n",
        "# plt.imshow( someimg.eval(session=tf.compat.v1.Session()) )"
      ]
    },
    {
      "cell_type": "code",
      "execution_count": 161,
      "metadata": {
        "id": "oY3bH7oEpKH9",
        "colab": {
          "base_uri": "https://localhost:8080/",
          "height": 210
        },
        "outputId": "b0f97b25-f131-4151-aa7f-8498cd13d484"
      },
      "outputs": [
        {
          "output_type": "stream",
          "name": "stderr",
          "text": [
            "/usr/local/lib/python3.7/dist-packages/keras_preprocessing/image/utils.py:107: UserWarning: grayscale is deprecated. Please use color_mode = \"grayscale\"\n",
            "  warnings.warn('grayscale is deprecated. Please use '\n"
          ]
        },
        {
          "output_type": "execute_result",
          "data": {
            "text/plain": [
              "<matplotlib.image.AxesImage at 0x7f8181d8e8d0>"
            ]
          },
          "metadata": {},
          "execution_count": 161
        },
        {
          "output_type": "display_data",
          "data": {
            "text/plain": [
              "<Figure size 432x288 with 1 Axes>"
            ],
            "image/png": "[encoded data removed]"
          },
          "metadata": {
            "needs_background": "light"
          }
        }
      ],
      "source": [
        "def create_canvas(canvas_h=300, canvas_w=300):\n",
        "  # Create canvas\n",
        "  canvas_color = 255\n",
        "\n",
        "  pixel_rows = []\n",
        "  row = [canvas_color for x in range(0,canvas_w)]\n",
        "  for i in range(0,canvas_h):\n",
        "    pixel_rows.append(row)\n",
        "  r = pixel_rows\n",
        "  g = pixel_rows\n",
        "  b = pixel_rows\n",
        "\n",
        "  canvas = np.dstack((r,g,b))\n",
        "  return canvas\n",
        "\n",
        "# cw = 950\n",
        "# ch = 200\n",
        "canvas = create_canvas(ch, cw)\n",
        "\n",
        "def center_pad_image(img, canvas_h=300, canvas_w=300):\n",
        "\n",
        "  canvas = np.zeros((canvas_h, canvas_w, 1)) #create_canvas(canvas_h, canvas_w)\n",
        "  # Image positions\n",
        "  img2_width = img.shape[1]\n",
        "  img2_height = img.shape[0]\n",
        "  black_row = np.array([[0 for x in range(0,img2_width)]])\n",
        "  img2 = np.dstack((black_row,black_row,black_row))\n",
        "\n",
        "\n",
        "  startx = int((canvas_w-img2_width)/2)\n",
        "  starty = int((canvas_h-img2_height)/2)\n",
        "  endx = startx + img2_width\n",
        "  endy = starty + img2_height\n",
        "\n",
        "  # Superimpose image\n",
        "  to_superimpose = img #Image.fromarray(np.uint8(img)).convert('RGB')\n",
        "  # Reset global canvas\n",
        "  canvas[:, :] = 0\n",
        "  canvas[starty:endy, startx:endx] = to_superimpose\n",
        "\n",
        "\n",
        "  return canvas/255#Image.fromarray(np.uint8(canvas)).convert('RGB')\n",
        "\n",
        "\n",
        "# center_pad_image(sample_image, ch, cw)\n",
        "sample = center_pad_image(loadImage('./america.png'), 50, 200)\n",
        "plt.imshow(sample[:,:,0], cmap='gray')"
      ]
    },
    {
      "cell_type": "code",
      "source": [
        "# center_pad_image(loadImage('./america.png'), 100, 800)\n",
        "\n",
        "plt.imshow(center_pad_image(loadImage('./america.png'), 40, 300)[:,:,0], cmap='gray')"
      ],
      "metadata": {
        "colab": {
          "base_uri": "https://localhost:8080/",
          "height": 171
        },
        "id": "DzNKdY_LHLUL",
        "outputId": "ab6f010e-e8cf-443e-ac5b-038c4234d2b1"
      },
      "execution_count": 128,
      "outputs": [
        {
          "output_type": "stream",
          "name": "stderr",
          "text": [
            "/usr/local/lib/python3.7/dist-packages/keras_preprocessing/image/utils.py:107: UserWarning: grayscale is deprecated. Please use color_mode = \"grayscale\"\n",
            "  warnings.warn('grayscale is deprecated. Please use '\n"
          ]
        },
        {
          "output_type": "execute_result",
          "data": {
            "text/plain": [
              "<matplotlib.image.AxesImage at 0x7f81822d6590>"
            ]
          },
          "metadata": {},
          "execution_count": 128
        },
        {
          "output_type": "display_data",
          "data": {
            "text/plain": [
              "<Figure size 432x288 with 1 Axes>"
            ],
            "image/png": "[encoded data removed]"
          },
          "metadata": {
            "needs_background": "light"
          }
        }
      ]
    },
    {
      "cell_type": "code",
      "source": [
        "print(loadImage('./america.png').shape)\n",
        "center_pad_image(loadImage('./america.png'), 50, 200).shape"
      ],
      "metadata": {
        "colab": {
          "base_uri": "https://localhost:8080/"
        },
        "id": "Q4CsbKRYI-YO",
        "outputId": "a0024f57-3d33-4b85-fa92-289543facdc8"
      },
      "execution_count": 162,
      "outputs": [
        {
          "output_type": "stream",
          "name": "stdout",
          "text": [
            "(35, 200, 1)\n"
          ]
        },
        {
          "output_type": "stream",
          "name": "stderr",
          "text": [
            "/usr/local/lib/python3.7/dist-packages/keras_preprocessing/image/utils.py:107: UserWarning: grayscale is deprecated. Please use color_mode = \"grayscale\"\n",
            "  warnings.warn('grayscale is deprecated. Please use '\n"
          ]
        },
        {
          "output_type": "execute_result",
          "data": {
            "text/plain": [
              "(50, 200, 1)"
            ]
          },
          "metadata": {},
          "execution_count": 162
        }
      ]
    },
    {
      "cell_type": "code",
      "execution_count": 7,
      "metadata": {
        "id": "0JPKc9lt3YwD"
      },
      "outputs": [],
      "source": [
        "# def create_canvas(canvas_h=300, canvas_w=300):\n",
        "#   # Create canvas\n",
        "#   canvas_color = 0\n",
        "\n",
        "#   pixel_rows = []\n",
        "#   row = [canvas_color for x in range(0,canvas_w)]\n",
        "#   for i in range(0,canvas_h):\n",
        "#     pixel_rows.append(row)\n",
        "#   r = pixel_rows\n",
        "#   g = pixel_rows\n",
        "#   b = pixel_rows\n",
        "\n",
        "#   canvas = np.dstack((r,g,b))\n",
        "#   return canvas\n",
        "\n",
        "# # cw = 300\n",
        "# # ch = 100\n",
        "# canvas = create_canvas(ch, cw)\n",
        "\n",
        "# def negative_pad_image(img, canvas_h=300, canvas_w=300):\n",
        "#   # Image positions\n",
        "#   img2_width = img.shape[1]\n",
        "#   img2_height = img.shape[0]\n",
        "#   black_row = np.array([[0 for x in range(0,img2_width)]])\n",
        "#   img2 = np.dstack((black_row,black_row,black_row))\n",
        "\n",
        "\n",
        "#   startx = 0#int((canvas_w-img2_width)/2)\n",
        "#   starty = 0#int((canvas_h-img2_height)/2)\n",
        "#   endx = startx + img2_width\n",
        "#   endy = starty + img2_height\n",
        "\n",
        "#   # Superimpose image\n",
        "#   to_superimpose = img # Image.fromarray(np.uint8(img)).convert('RGB')\n",
        "#   # Reset global canvas\n",
        "#   canvas[:, :] = 0 #255\n",
        "#   canvas[starty:endy, startx:endx] = to_superimpose\n",
        "\n",
        "\n",
        "#   return canvas #Image.fromarray(np.uint8(canvas)).convert('RGB')"
      ]
    },
    {
      "cell_type": "code",
      "execution_count": 8,
      "metadata": {
        "id": "F4w5uyHePfl5"
      },
      "outputs": [],
      "source": [
        "# a = tf.constant([[[0], [0], [0]]])\n",
        "# b = tf.constant([[[0], [0], [0]]])\n",
        "\n",
        "# x = tf.concat([a, b], 0)\n",
        "# print(x.eval(session=tf.compat.v1.Session()))\n",
        "# print(x.shape)"
      ]
    },
    {
      "cell_type": "code",
      "execution_count": 9,
      "metadata": {
        "id": "D4lpiHflPvVy"
      },
      "outputs": [],
      "source": [
        "# a = tf.constant( np.empty((1, ch, cw, 3)), dtype='float32')\n",
        "# b = tf.constant([[0, 0, 0]])\n",
        "# c = tf.constant( np.empty((1, ch, cw, 3)), dtype='float32')\n",
        "\n",
        "\n",
        "# x = tf.concat([a, c], 0)\n",
        "# # print(x.eval(session=tf.compat.v1.Session()))\n",
        "# print(x.shape)"
      ]
    },
    {
      "cell_type": "code",
      "execution_count": 10,
      "metadata": {
        "id": "N-nD7bwuS6XM"
      },
      "outputs": [],
      "source": [
        "# import re\n",
        "# file1 = open('./results/gt.txt', 'r')\n",
        "# Lines = file1.readlines()\n",
        "\n",
        "\n",
        "# data_F = [] # np.array([])#np.empty((n, ch, cw, 3))\n",
        "# data_L = [] # np.array([])\n",
        "\n",
        "# n = 0\n",
        "# count = 0\n",
        "# # Strips the newline character\n",
        "# for i,line in enumerate(Lines[0:2000]):\n",
        "#     d = re.split('\\t', line)\n",
        "#     d[1] = d[1].replace('\\n','')\n",
        "\n",
        "#     img = loadImage(f'results/{d[0]}')\n",
        "#     #img = load_img(f'results/{d[0]}')\n",
        "\n",
        "#     # if( img.shape[0] <= ch and img.shape[0] >= 20 and img.shape[1] <= cw and img.shape[1] >= 80):\n",
        "\n",
        "#     n += 1\n",
        "#     # loaded_image = img.astype(np.uint8)\n",
        "#     # loaded_image = np.array(negative_pad_image(img, ch, cw))\n",
        "\n",
        "#     # data_F[i] = loaded_image\n",
        "#     # data_L = np.append(data_L, d[1])\n",
        "\n",
        "#     # loaded_image = scale_resize_image(img)\n",
        "#     # loaded_image = loaded_image / 255\n",
        "#     data_F.append(img)\n",
        "#     data_L.append(d[1])\n",
        "\n",
        "\n",
        "# data_F = np.array(data_F)\n",
        "# data_L = np.array(data_L)\n",
        "# data_F.reshape(2000, 80, 200, 3)\n",
        "# print(data_F.shape)\n",
        "# # Image.fromarray(np.uint8(data_F[0])).convert('RGB')\n",
        "# #plt.imshow( data_F[0].eval(session=tf.compat.v1.Session()) )\n",
        "\n",
        "\n",
        "# # img = sample_image.astype(np.uint8) \n",
        "# # img = np.array(negative_pad_image(img, ch, cw))\n",
        "# # plt.imshow(img)\n",
        "\n",
        "# plt.imshow(data_F[0])"
      ]
    },
    {
      "cell_type": "code",
      "source": [
        "ch = 64\n",
        "cw = 400"
      ],
      "metadata": {
        "id": "-NTSWS1-G36v"
      },
      "execution_count": 132,
      "outputs": []
    },
    {
      "cell_type": "code",
      "source": [
        "import os\n",
        "\n",
        "\n",
        "data_F = []\n",
        "data_L = []\n",
        "\n",
        "n_images = len( os.listdir(\"./out\"))\n",
        "n_images = 30000\n",
        "\n",
        "max_width = 0\n",
        "\n",
        "for fi in os.listdir(\"./out\")[0:n_images]:\n",
        "    d = re.split('_', fi)\n",
        "\n",
        "    img = loadImage(f'./out/{fi}')\n",
        "\n",
        "    if ( img.shape[1] <= 400 ):\n",
        "      if(img.shape[1] > max_width):\n",
        "        max_width = img.shape[1]\n",
        "      img = center_pad_image(img, ch, cw)\n",
        "\n",
        "      data_F.append(img)\n",
        "      data_L.append(d[0])\n",
        "\n",
        "n_images = len(data_F)\n",
        "print('max_width', max_width)\n",
        "data_F = np.array(data_F)\n",
        "data_L = np.array(data_L)\n",
        "data_F.reshape(n_images, ch, cw, 1)\n",
        "print(data_F.shape)\n",
        "plt.imshow(data_F[0][:,:,0], cmap='gray')"
      ],
      "metadata": {
        "colab": {
          "base_uri": "https://localhost:8080/",
          "height": 217
        },
        "id": "pchX48ZamnDR",
        "outputId": "1f9a494c-e146-43a4-de3b-47ea038ee601"
      },
      "execution_count": 316,
      "outputs": [
        {
          "output_type": "stream",
          "name": "stderr",
          "text": [
            "/usr/local/lib/python3.7/dist-packages/keras_preprocessing/image/utils.py:107: UserWarning: grayscale is deprecated. Please use color_mode = \"grayscale\"\n",
            "  warnings.warn('grayscale is deprecated. Please use '\n"
          ]
        },
        {
          "output_type": "stream",
          "name": "stdout",
          "text": [
            "max_width 400\n",
            "(29138, 64, 400, 1)\n"
          ]
        },
        {
          "output_type": "execute_result",
          "data": {
            "text/plain": [
              "<matplotlib.image.AxesImage at 0x7f8176659810>"
            ]
          },
          "metadata": {},
          "execution_count": 316
        },
        {
          "output_type": "display_data",
          "data": {
            "text/plain": [
              "<Figure size 432x288 with 1 Axes>"
            ],
            "image/png": "[encoded data removed]"
          },
          "metadata": {
            "needs_background": "light"
          }
        }
      ]
    },
    {
      "cell_type": "code",
      "source": [
        "n = n_images"
      ],
      "metadata": {
        "id": "oQvANXqhn91u"
      },
      "execution_count": 317,
      "outputs": []
    },
    {
      "cell_type": "code",
      "execution_count": 318,
      "metadata": {
        "id": "-8BUkDmHsVhx"
      },
      "outputs": [],
      "source": [
        "# # data_F[0].eval(session=tf.compat.v1.Session())\n",
        "# print(data_F.shape)\n",
        "# print(n)\n",
        "# print(len(Lines))"
      ]
    },
    {
      "cell_type": "code",
      "execution_count": 319,
      "metadata": {
        "id": "EiSWPt8rgYBT"
      },
      "outputs": [],
      "source": [
        "# plt.imshow(data_F[0])\n",
        "\n",
        "# # print(data_F[10])\n",
        "# print(data_L[10])\n",
        "# print(x.shape)\n",
        "# print(img.shape)"
      ]
    },
    {
      "cell_type": "code",
      "execution_count": 320,
      "metadata": {
        "id": "jF7IUwQ4tq5e"
      },
      "outputs": [],
      "source": [
        "#alphabet = 'abcdefghijklmnopqrstuvwxyzABCDEFGHIJKLMNOPQRSTUVWXYZ./:;,\\'\"-_1234567890?!)(][}{><=*@#$%^&|~+`'\n",
        "alphabet = 'abcdefghijklmnopqrstuvwxyzABCDEFGHIJKLMNOPQRSTUVWXYZ_-1234567890.'\n",
        "alph_num = re.split('', alphabet)\n",
        "alph_dict = dict({})\n",
        "\n",
        "# alph_num.pop(0)\n",
        "for j, c in enumerate(alph_num):\n",
        "  alph_dict[c] = j"
      ]
    },
    {
      "cell_type": "code",
      "execution_count": 321,
      "metadata": {
        "colab": {
          "base_uri": "https://localhost:8080/"
        },
        "id": "7-zdBwXRvZCX",
        "outputId": "12e153b7-a8a4-4b72-8eb3-cc7fe38f1288"
      },
      "outputs": [
        {
          "output_type": "execute_result",
          "data": {
            "text/plain": [
              "[2, 5, 20, 20, 5, 18]"
            ]
          },
          "metadata": {},
          "execution_count": 321
        }
      ],
      "source": [
        "s = 'better'\n",
        "alph_dict\n",
        "_id = list(map(lambda c: alph_dict[c], s))\n",
        "_id\n",
        "# data_L_dist = to_categorical(data_L[0])"
      ]
    },
    {
      "cell_type": "code",
      "execution_count": 322,
      "metadata": {
        "colab": {
          "base_uri": "https://localhost:8080/"
        },
        "id": "wtqgbz_zeYd1",
        "outputId": "2640d767-eea2-4166-9a07-271372c13828"
      },
      "outputs": [
        {
          "output_type": "execute_result",
          "data": {
            "text/plain": [
              "66"
            ]
          },
          "metadata": {},
          "execution_count": 322
        }
      ],
      "source": [
        "len(alph_dict)"
      ]
    },
    {
      "cell_type": "code",
      "execution_count": 355,
      "metadata": {
        "id": "pUNOAafDwDRa"
      },
      "outputs": [],
      "source": [
        "m = lambda x: [alph_dict[c] for c in x]\n",
        "\n",
        "data_L_id = np.zeros((n,100))\n",
        "data_L_id = data_L_id -1\n",
        "for k,data in enumerate(data_L):\n",
        "  # data = data.lower()\n",
        "  ids = m(data)\n",
        "  # data_L_id = np.append(data_L_id, [ids], axis=0)\n",
        "  data_L_id[k][0:len(ids)] = ids[:]\n",
        "  # data_L_id = np.append(data_L_id, m(data), axis=0)"
      ]
    },
    {
      "cell_type": "code",
      "source": [
        "plt.imshow(data_F[0][:,:,0], cmap='gray')"
      ],
      "metadata": {
        "colab": {
          "base_uri": "https://localhost:8080/",
          "height": 123
        },
        "id": "k6P6PEFzaBQc",
        "outputId": "88741591-92e0-4547-eb33-ce4d7a491a7d"
      },
      "execution_count": 324,
      "outputs": [
        {
          "output_type": "execute_result",
          "data": {
            "text/plain": [
              "<matplotlib.image.AxesImage at 0x7f8176631c10>"
            ]
          },
          "metadata": {},
          "execution_count": 324
        },
        {
          "output_type": "display_data",
          "data": {
            "text/plain": [
              "<Figure size 432x288 with 1 Axes>"
            ],
            "image/png": "[encoded data removed]"
          },
          "metadata": {
            "needs_background": "light"
          }
        }
      ]
    },
    {
      "cell_type": "code",
      "source": [
        "data_L_id[0]"
      ],
      "metadata": {
        "colab": {
          "base_uri": "https://localhost:8080/"
        },
        "id": "XPoWd9cmgSkd",
        "outputId": "f7e97067-dfc3-44d3-9396-f01520e37fdd"
      },
      "execution_count": 356,
      "outputs": [
        {
          "output_type": "execute_result",
          "data": {
            "text/plain": [
              "array([ 8.,  1.,  5., 13.,  1., 20., 15., 12., 15.,  7.,  9., 19., 20.,\n",
              "       -1., -1., -1., -1., -1., -1., -1., -1., -1., -1., -1., -1., -1.,\n",
              "       -1., -1., -1., -1., -1., -1., -1., -1., -1., -1., -1., -1., -1.,\n",
              "       -1., -1., -1., -1., -1., -1., -1., -1., -1., -1., -1., -1., -1.,\n",
              "       -1., -1., -1., -1., -1., -1., -1., -1., -1., -1., -1., -1., -1.,\n",
              "       -1., -1., -1., -1., -1., -1., -1., -1., -1., -1., -1., -1., -1.,\n",
              "       -1., -1., -1., -1., -1., -1., -1., -1., -1., -1., -1., -1., -1.,\n",
              "       -1., -1., -1., -1., -1., -1., -1., -1., -1.])"
            ]
          },
          "metadata": {},
          "execution_count": 356
        }
      ]
    },
    {
      "cell_type": "code",
      "source": [
        "data_L[0]"
      ],
      "metadata": {
        "colab": {
          "base_uri": "https://localhost:8080/",
          "height": 36
        },
        "id": "FA86sLDnSUE1",
        "outputId": "9126d9ea-69bb-47a2-f510-b68ccd884a90"
      },
      "execution_count": 325,
      "outputs": [
        {
          "output_type": "execute_result",
          "data": {
            "text/plain": [
              "'haematologist'"
            ],
            "application/vnd.google.colaboratory.intrinsic+json": {
              "type": "string"
            }
          },
          "metadata": {},
          "execution_count": 325
        }
      ]
    },
    {
      "cell_type": "code",
      "execution_count": 357,
      "metadata": {
        "id": "buO-b82007pM"
      },
      "outputs": [],
      "source": [
        "data_L_dist = to_categorical(data_L_id)"
      ]
    },
    {
      "cell_type": "code",
      "execution_count": 327,
      "metadata": {
        "colab": {
          "base_uri": "https://localhost:8080/"
        },
        "id": "pO_Z5df91C5U",
        "outputId": "4196b862-fd95-4ad9-d84a-ca5ec8c85aed"
      },
      "outputs": [
        {
          "output_type": "execute_result",
          "data": {
            "text/plain": [
              "(29138, 100, 64)"
            ]
          },
          "metadata": {},
          "execution_count": 327
        }
      ],
      "source": [
        "data_L_dist.shape"
      ]
    },
    {
      "cell_type": "code",
      "source": [
        "data_L_dist[0]"
      ],
      "metadata": {
        "colab": {
          "base_uri": "https://localhost:8080/"
        },
        "id": "Wq0xzzdNgegz",
        "outputId": "525d0ab3-a496-4852-ab3a-95da835ed775"
      },
      "execution_count": 358,
      "outputs": [
        {
          "output_type": "execute_result",
          "data": {
            "text/plain": [
              "array([[0., 0., 0., ..., 0., 0., 0.],\n",
              "       [0., 1., 0., ..., 0., 0., 0.],\n",
              "       [0., 0., 0., ..., 0., 0., 0.],\n",
              "       ...,\n",
              "       [0., 0., 0., ..., 0., 0., 1.],\n",
              "       [0., 0., 0., ..., 0., 0., 1.],\n",
              "       [0., 0., 0., ..., 0., 0., 1.]], dtype=float32)"
            ]
          },
          "metadata": {},
          "execution_count": 358
        }
      ]
    },
    {
      "cell_type": "code",
      "execution_count": 328,
      "metadata": {
        "colab": {
          "base_uri": "https://localhost:8080/"
        },
        "id": "DoQzXJsSoHmP",
        "outputId": "487c2122-beac-4534-9dcc-af4c9cd068cd"
      },
      "outputs": [
        {
          "output_type": "execute_result",
          "data": {
            "text/plain": [
              "(29138, 64, 400, 1)"
            ]
          },
          "metadata": {},
          "execution_count": 328
        }
      ],
      "source": [
        "data_F.shape"
      ]
    },
    {
      "cell_type": "code",
      "execution_count": 329,
      "metadata": {
        "colab": {
          "base_uri": "https://localhost:8080/"
        },
        "id": "mvu24rQg1G2a",
        "outputId": "5774929c-fba7-4607-c3c2-2fea5fddb6c8"
      },
      "outputs": [
        {
          "output_type": "execute_result",
          "data": {
            "text/plain": [
              "65"
            ]
          },
          "metadata": {},
          "execution_count": 329
        }
      ],
      "source": [
        "len(alphabet)"
      ]
    },
    {
      "cell_type": "code",
      "source": [
        "# from sklearn.preprocessing import StandardScaler\n",
        "# scaler = StandardScaler()\n",
        "# data_F_scaled = data_F.reshape(n_images, 40 * 100 * 3)\n",
        "# data_F_scaled = scaler.transform(data_F_scaled)"
      ],
      "metadata": {
        "id": "yfiHx71GnlsM"
      },
      "execution_count": 330,
      "outputs": []
    },
    {
      "cell_type": "code",
      "source": [
        "#data_F_scaled = data_F_scaled.reshape(n_images, 40, 100, 3)"
      ],
      "metadata": {
        "id": "AJLsX8cOogRm"
      },
      "execution_count": 331,
      "outputs": []
    },
    {
      "cell_type": "markdown",
      "metadata": {
        "id": "y3mlAF8Q7ocC"
      },
      "source": [
        "### Model"
      ]
    },
    {
      "cell_type": "code",
      "execution_count": 332,
      "metadata": {
        "id": "KfOMTtB1hcdF"
      },
      "outputs": [],
      "source": [
        "train_F, test_F, train_L_dist, test_L_dist = train_test_split(data_F, data_L_dist, test_size=0.2, random_state=0)"
      ]
    },
    {
      "cell_type": "code",
      "source": [
        "# train_F, test_F, train_L_dist, test_L_dist = train_test_split(data_F_scaled, data_L_dist, test_size=0.2, random_state=0)"
      ],
      "metadata": {
        "id": "TDIZ-yGjor5V"
      },
      "execution_count": 333,
      "outputs": []
    },
    {
      "cell_type": "markdown",
      "source": [
        ""
      ],
      "metadata": {
        "id": "f_-s_UKlos3t"
      }
    },
    {
      "cell_type": "code",
      "execution_count": 334,
      "metadata": {
        "colab": {
          "base_uri": "https://localhost:8080/"
        },
        "id": "17RoiGw_hsWY",
        "outputId": "35ff4bfa-26e1-47df-a4b3-fcb1ab29c37d"
      },
      "outputs": [
        {
          "output_type": "execute_result",
          "data": {
            "text/plain": [
              "((23310, 64, 400, 1), (5828, 64, 400, 1), (23310, 100, 64), (5828, 100, 64))"
            ]
          },
          "metadata": {},
          "execution_count": 334
        }
      ],
      "source": [
        "train_F.shape, test_F.shape, train_L_dist.shape, test_L_dist.shape"
      ]
    },
    {
      "cell_type": "code",
      "execution_count": 335,
      "metadata": {
        "id": "uSttdlwhg4Nx"
      },
      "outputs": [],
      "source": [
        "# With data augmentation to prevent overfitting\n",
        "\n",
        "datagen = ImageDataGenerator(\n",
        "        # featurewise_center=False,  # set input mean to 0 over the dataset\n",
        "        # samplewise_center=False,  # set each sample mean to 0\n",
        "        # featurewise_std_normalization=False,  # divide inputs by std of the dataset\n",
        "        # samplewise_std_normalization=False,  # divide each input by its std\n",
        "        # zca_whitening=False,  # apply ZCA whitening\n",
        "        # rotation_range=0,  # randomly rotate images in the range (degrees, 0 to 180)\n",
        "        # zoom_range = 0.01, # Randomly zoom image \n",
        "        # width_shift_range=0.1,  # randomly shift images horizontally (fraction of total width)\n",
        "        # height_shift_range=0.1,  # randomly shift images vertically (fraction of total height)\n",
        "        horizontal_flip=False,  # randomly flip images\n",
        "        vertical_flip=False)  # randomly flip images\n",
        "\n",
        "\n",
        "#datagen.fit(X_train)\n",
        "train_gen = datagen.flow(train_F, train_L_dist, batch_size=10)\n",
        "test_gen = datagen.flow(test_F, test_L_dist, batch_size=10)"
      ]
    },
    {
      "cell_type": "code",
      "execution_count": 336,
      "metadata": {
        "id": "map673iJhIgl"
      },
      "outputs": [],
      "source": [
        "epochs = 100\n",
        "batch_size = 128\n",
        "train_steps = train_F.shape[0] // batch_size\n",
        "valid_steps = test_F.shape[0] // batch_size\n",
        "\n",
        "es = keras.callbacks.EarlyStopping(\n",
        "        monitor=\"val_acc\", # metrics to monitor\n",
        "        patience=10, # how many epochs before stop\n",
        "        verbose=1,\n",
        "        mode=\"max\", # we need the maximum accuracy.\n",
        "        restore_best_weights=True, # \n",
        "     )\n",
        "\n",
        "rp = keras.callbacks.ReduceLROnPlateau(\n",
        "        monitor=\"val_acc\",\n",
        "        factor=0.2,\n",
        "        patience=3,\n",
        "        verbose=1,\n",
        "        mode=\"max\",\n",
        "        min_lr=0.00001,\n",
        "     )"
      ]
    },
    {
      "cell_type": "code",
      "execution_count": 346,
      "metadata": {
        "colab": {
          "base_uri": "https://localhost:8080/"
        },
        "id": "qmORo5YJdqLH",
        "outputId": "16667bcd-11f0-4a50-d0e7-54e8e0850b75"
      },
      "outputs": [
        {
          "output_type": "stream",
          "name": "stdout",
          "text": [
            "Model: \"model_11\"\n",
            "__________________________________________________________________________________________________\n",
            "Layer (type)                    Output Shape         Param #     Connected to                     \n",
            "==================================================================================================\n",
            "the_input (InputLayer)          (None, 64, 400, 1)   0                                            \n",
            "__________________________________________________________________________________________________\n",
            "conv1 (Conv2D)                  (None, 64, 400, 32)  320         the_input[0][0]                  \n",
            "__________________________________________________________________________________________________\n",
            "max1 (MaxPooling2D)             (None, 32, 200, 32)  0           conv1[0][0]                      \n",
            "__________________________________________________________________________________________________\n",
            "conv2 (Conv2D)                  (None, 32, 200, 32)  9248        max1[0][0]                       \n",
            "__________________________________________________________________________________________________\n",
            "max2 (MaxPooling2D)             (None, 16, 100, 32)  0           conv2[0][0]                      \n",
            "__________________________________________________________________________________________________\n",
            "reshape (Reshape)               (None, 100, 512)     0           max2[0][0]                       \n",
            "__________________________________________________________________________________________________\n",
            "dense1 (Dense)                  (None, 100, 16)      8208        reshape[0][0]                    \n",
            "__________________________________________________________________________________________________\n",
            "gru1 (GRU)                      (None, 100, 128)     55680       dense1[0][0]                     \n",
            "__________________________________________________________________________________________________\n",
            "gru1_b (GRU)                    (None, 100, 128)     55680       dense1[0][0]                     \n",
            "__________________________________________________________________________________________________\n",
            "add_11 (Add)                    (None, 100, 128)     0           gru1[0][0]                       \n",
            "                                                                 gru1_b[0][0]                     \n",
            "__________________________________________________________________________________________________\n",
            "gru2 (GRU)                      (None, 100, 128)     98688       add_11[0][0]                     \n",
            "__________________________________________________________________________________________________\n",
            "gru2_b (GRU)                    (None, 100, 128)     98688       add_11[0][0]                     \n",
            "__________________________________________________________________________________________________\n",
            "concatenate_11 (Concatenate)    (None, 100, 256)     0           gru2[0][0]                       \n",
            "                                                                 gru2_b[0][0]                     \n",
            "__________________________________________________________________________________________________\n",
            "dense2 (Dense)                  (None, 100, 64)      16448       concatenate_11[0][0]             \n",
            "__________________________________________________________________________________________________\n",
            "softmax (Activation)            (None, 100, 64)      0           dense2[0][0]                     \n",
            "==================================================================================================\n",
            "Total params: 342,960\n",
            "Trainable params: 342,960\n",
            "Non-trainable params: 0\n",
            "__________________________________________________________________________________________________\n"
          ]
        }
      ],
      "source": [
        "img_w = cw\n",
        "img_h = ch\n",
        "words_per_epoch = 16000\n",
        "val_split = 0.2\n",
        "val_words = int(words_per_epoch * (val_split))\n",
        "\n",
        "# Network parameters\n",
        "conv_filters = 32\n",
        "kernel_size = (3, 3)\n",
        "pool_size = 2\n",
        "time_dense_size = 16\n",
        "rnn_size = 128\n",
        "\n",
        "input_shape = (ch, cw, 1)\n",
        "\n",
        "act = 'relu'\n",
        "input_data = Input(name='the_input', shape=input_shape, dtype='float32')\n",
        "inner = Conv2D(conv_filters, kernel_size, padding='same',\n",
        "                activation=act, kernel_initializer='he_normal',\n",
        "                name='conv1')(input_data)\n",
        "inner = MaxPooling2D(pool_size=(pool_size, pool_size), name='max1')(inner)\n",
        "inner = Conv2D(conv_filters, kernel_size, padding='same',\n",
        "                activation=act, kernel_initializer='he_normal',\n",
        "                name='conv2')(inner)\n",
        "inner = MaxPooling2D(pool_size=(pool_size, pool_size), name='max2')(inner)\n",
        "\n",
        "conv_to_rnn_dims = (img_w // (pool_size ** 2),\n",
        "                    (img_h // (pool_size ** 2)) * conv_filters)\n",
        "inner = Reshape(target_shape=conv_to_rnn_dims, name='reshape')(inner)\n",
        "\n",
        "# cuts down input size going into RNN:\n",
        "inner = Dense(time_dense_size, activation=act, name='dense1')(inner)\n",
        "\n",
        "# Two layers of bidirectional GRUs\n",
        "# GRU seems to work as well, if not better than LSTM:\n",
        "gru_1 = GRU(rnn_size, return_sequences=True,\n",
        "            kernel_initializer='he_normal', name='gru1')(inner)\n",
        "gru_1b = GRU(rnn_size, return_sequences=True,\n",
        "              go_backwards=True, kernel_initializer='he_normal',\n",
        "              name='gru1_b')(inner)\n",
        "gru1_merged = add([gru_1, gru_1b])\n",
        "gru_2 = GRU(rnn_size, return_sequences=True,\n",
        "            kernel_initializer='he_normal', name='gru2')(gru1_merged)\n",
        "gru_2b = GRU(rnn_size, return_sequences=True, go_backwards=True,\n",
        "              kernel_initializer='he_normal', name='gru2_b')(gru1_merged)\n",
        "\n",
        "# transforms RNN output to character activations:\n",
        "inner = Dense(\n",
        "              64,# len(alphabet) + 1, \n",
        "              kernel_initializer='he_normal',\n",
        "              name='dense2')(concatenate([gru_2, gru_2b])\n",
        "            )\n",
        "y_pred = Activation('softmax', name='softmax')(inner)\n",
        "\n",
        "prediction_model = Model(inputs=input_data, outputs=y_pred)\n",
        "prediction_model.compile(loss=\"categorical_crossentropy\", optimizer=\"adam\", metrics=[\"accuracy\"])\n",
        "\n",
        "prediction_model.summary()"
      ]
    },
    {
      "cell_type": "code",
      "execution_count": 347,
      "metadata": {
        "id": "Iz8dwy5zsixD"
      },
      "outputs": [],
      "source": [
        "# prediction_model.fit(\n",
        "#     data_F, \n",
        "#     data_L_dist, \n",
        "#     validation_split=0.2,\n",
        "#     shuffle=True,\n",
        "#     epochs=10\n",
        "#   )"
      ]
    },
    {
      "cell_type": "code",
      "execution_count": 348,
      "metadata": {
        "colab": {
          "base_uri": "https://localhost:8080/"
        },
        "id": "tKYW4qqlI6yt",
        "outputId": "c5745bad-21cd-4dea-c7fa-d67b89de73d4"
      },
      "outputs": [
        {
          "output_type": "stream",
          "name": "stdout",
          "text": [
            "Epoch 1/5\n",
            "182/182 [==============================] - 83s 453ms/step - loss: 0.3732 - acc: 0.9086 - val_loss: 0.3092 - val_acc: 0.9126\n",
            "Epoch 2/5\n",
            "182/182 [==============================] - 75s 411ms/step - loss: 0.3017 - acc: 0.9149 - val_loss: 0.3005 - val_acc: 0.9144\n",
            "Epoch 3/5\n",
            "182/182 [==============================] - 75s 412ms/step - loss: 0.2982 - acc: 0.9158 - val_loss: 0.3005 - val_acc: 0.9149\n",
            "Epoch 4/5\n",
            "182/182 [==============================] - 74s 407ms/step - loss: 0.2984 - acc: 0.9156 - val_loss: 0.2951 - val_acc: 0.9160\n",
            "Epoch 5/5\n",
            "182/182 [==============================] - 76s 416ms/step - loss: 0.2995 - acc: 0.9146 - val_loss: 0.3033 - val_acc: 0.9141\n"
          ]
        }
      ],
      "source": [
        "# Fit the model\n",
        "metrics1 = prediction_model.fit_generator(train_gen, \n",
        "                              epochs = 5, \n",
        "                              steps_per_epoch = train_steps,\n",
        "                              validation_data = test_gen,\n",
        "                              validation_steps = valid_steps, \n",
        "                              callbacks=[es, rp]\n",
        "                              )"
      ]
    },
    {
      "cell_type": "code",
      "execution_count": 349,
      "metadata": {
        "colab": {
          "base_uri": "https://localhost:8080/"
        },
        "id": "3T6UPFtS2r5T",
        "outputId": "12e9eff9-2f39-4d8d-e64a-94cc4e7455c2"
      },
      "outputs": [
        {
          "output_type": "stream",
          "name": "stdout",
          "text": [
            "65\n",
            "(23310, 100, 64)\n"
          ]
        }
      ],
      "source": [
        "print(len(alphabet))\n",
        "print(train_L_dist.shape)"
      ]
    },
    {
      "cell_type": "markdown",
      "source": [
        "### Model 2"
      ],
      "metadata": {
        "id": "rfWFyMf_91Fn"
      }
    },
    {
      "cell_type": "code",
      "source": [
        "\n",
        "# class CTCLayer(keras.layers.Layer):\n",
        "#     def __init__(self, name=None):\n",
        "#         super().__init__(name=name)\n",
        "#         self.loss_fn = keras.backend.ctc_batch_cost\n",
        "\n",
        "#     def call(self, y_true, y_pred):\n",
        "#         batch_len = tf.cast(tf.shape(y_true)[0], dtype=\"int64\")\n",
        "#         input_length = tf.cast(tf.shape(y_pred)[1], dtype=\"int64\")\n",
        "#         label_length = tf.cast(tf.shape(y_true)[1], dtype=\"int64\")\n",
        "\n",
        "#         input_length = input_length * tf.ones(shape=(batch_len, 1), dtype=\"int64\")\n",
        "#         label_length = label_length * tf.ones(shape=(batch_len, 1), dtype=\"int64\")\n",
        "#         loss = self.loss_fn(y_true, y_pred, input_length, label_length)\n",
        "#         self.add_loss(loss)\n",
        "\n",
        "#         # At test time, just return the computed predictions.\n",
        "#         return y_pred\n",
        "\n",
        "\n",
        "# def build_model():\n",
        "#     # Inputs to the model\n",
        "#     input_img = keras.Input(shape=(cw, ch, 1), name=\"image\")\n",
        "#     labels = keras.layers.Input(name=\"label\", shape=(None,))\n",
        "\n",
        "#     # First conv block.\n",
        "#     x = keras.layers.Conv2D(\n",
        "#         32,\n",
        "#         (3, 3),\n",
        "#         activation=\"relu\",\n",
        "#         kernel_initializer=\"he_normal\",\n",
        "#         padding=\"same\",\n",
        "#         name=\"Conv1\",\n",
        "#     )(input_img)\n",
        "#     x = keras.layers.MaxPooling2D((2, 2), name=\"pool1\")(x)\n",
        "\n",
        "#     # Second conv block.\n",
        "#     x = keras.layers.Conv2D(\n",
        "#         64,\n",
        "#         (3, 3),\n",
        "#         activation=\"relu\",\n",
        "#         kernel_initializer=\"he_normal\",\n",
        "#         padding=\"same\",\n",
        "#         name=\"Conv2\",\n",
        "#     )(x)\n",
        "#     x = keras.layers.MaxPooling2D((2, 2), name=\"pool2\")(x)\n",
        "\n",
        "#     # We have used two max pool with pool size and strides 2.\n",
        "#     # Hence, downsampled feature maps are 4x smaller. The number of\n",
        "#     # filters in the last layer is 64. Reshape accordingly before\n",
        "#     # passing the output to the RNN part of the model.\n",
        "#     new_shape = ((cw // 4), (ch // 4) * 64)\n",
        "#     x = keras.layers.Reshape(target_shape=new_shape, name=\"reshape\")(x)\n",
        "#     x = keras.layers.Dense(64, activation=\"relu\", name=\"dense1\")(x)\n",
        "#     x = keras.layers.Dropout(0.2)(x)\n",
        "\n",
        "#     # RNNs.\n",
        "#     x = keras.layers.Bidirectional(\n",
        "#         keras.layers.LSTM(128, return_sequences=True, dropout=0.25)\n",
        "#     )(x)\n",
        "#     x = keras.layers.Bidirectional(\n",
        "#         keras.layers.LSTM(64, return_sequences=True, dropout=0.25)\n",
        "#     )(x)\n",
        "\n",
        "#     # +2 is to account for the two special tokens introduced by the CTC loss.\n",
        "#     # The recommendation comes here: https://git.io/J0eXP.\n",
        "#     x = keras.layers.Dense(\n",
        "#         len(alphabet) + 1, activation=\"softmax\", name=\"dense2\"\n",
        "#     )(x)\n",
        "\n",
        "#     # Add CTC layer for calculating CTC loss at each step.\n",
        "#     output = CTCLayer(name=\"ctc_loss\")(labels, x)\n",
        "\n",
        "#     # Define the model.\n",
        "#     model = keras.models.Model(\n",
        "#         inputs=[input_img, labels], outputs=output, name=\"handwriting_recognizer\"\n",
        "#     )\n",
        "#     # Optimizer.\n",
        "#     opt = keras.optimizers.Adam()\n",
        "#     # Compile the model and return.\n",
        "#     model.compile(optimizer=opt)\n",
        "#     return model\n",
        "\n",
        "\n",
        "# # Get the model.\n",
        "# model = build_model()\n",
        "# model.summary()"
      ],
      "metadata": {
        "id": "SaqZ7CHg93Na"
      },
      "execution_count": 350,
      "outputs": []
    },
    {
      "cell_type": "code",
      "source": [
        "\n",
        "# def calculate_edit_distance(labels, predictions):\n",
        "#     # Get a single batch and convert its labels to sparse tensors.\n",
        "#     saprse_labels = tf.cast(tf.sparse.from_dense(labels), dtype=tf.int64)\n",
        "\n",
        "#     # Make predictions and convert them to sparse tensors.\n",
        "#     input_len = np.ones(predictions.shape[0]) * predictions.shape[1]\n",
        "#     predictions_decoded = keras.backend.ctc_decode(\n",
        "#         predictions, input_length=input_len, greedy=True\n",
        "#     )[0][0][:, :max_len]\n",
        "#     sparse_predictions = tf.cast(\n",
        "#         tf.sparse.from_dense(predictions_decoded), dtype=tf.int64\n",
        "#     )\n",
        "\n",
        "#     # Compute individual edit distances and average them out.\n",
        "#     edit_distances = tf.edit_distance(\n",
        "#         sparse_predictions, saprse_labels, normalize=False\n",
        "#     )\n",
        "#     return tf.reduce_mean(edit_distances)\n",
        "\n",
        "\n",
        "# class EditDistanceCallback(keras.callbacks.Callback):\n",
        "#     def __init__(self, pred_model):\n",
        "#         super().__init__()\n",
        "#         self.prediction_model = pred_model\n",
        "\n",
        "#     def on_epoch_end(self, epoch, logs=None):\n",
        "#         edit_distances = []\n",
        "\n",
        "#         for i in range(len(validation_images)):\n",
        "#             labels = validation_labels[i]\n",
        "#             predictions = self.prediction_model.predict(validation_images[i])\n",
        "#             edit_distances.append(calculate_edit_distance(labels, predictions).numpy())\n",
        "\n",
        "#         print(\n",
        "#             f\"Mean edit distance for epoch {epoch + 1}: {np.mean(edit_distances):.4f}\"\n",
        "#         )\n"
      ],
      "metadata": {
        "id": "2-xVnUB4-E1Q"
      },
      "execution_count": 351,
      "outputs": []
    },
    {
      "cell_type": "markdown",
      "metadata": {
        "id": "h6Zu6CyARjYj"
      },
      "source": [
        "### Predict"
      ]
    },
    {
      "cell_type": "code",
      "execution_count": 352,
      "metadata": {
        "colab": {
          "base_uri": "https://localhost:8080/",
          "height": 124
        },
        "id": "5eYHh5xT6Ot8",
        "outputId": "19d33706-6dca-474a-8fd1-ea2c0f1cb2d6"
      },
      "outputs": [
        {
          "output_type": "execute_result",
          "data": {
            "text/plain": [
              "'seeeeeoneeee'"
            ],
            "application/vnd.google.colaboratory.intrinsic+json": {
              "type": "string"
            }
          },
          "metadata": {},
          "execution_count": 352
        },
        {
          "output_type": "display_data",
          "data": {
            "text/plain": [
              "<Figure size 432x288 with 1 Axes>"
            ],
            "image/png": "[encoded data removed]"
          },
          "metadata": {
            "needs_background": "light"
          }
        }
      ],
      "source": [
        "plt.imshow(data_F[0][:,:,0], cmap='gray')\n",
        "\n",
        "yhat2 = prediction_model.predict(data_F[0].reshape(1,ch,cw,1))\n",
        "\n",
        "r = ''\n",
        "for i in range(15):\n",
        "  r += alph_num[yhat2[0][i].argmax()]\n",
        "\n",
        "r"
      ]
    },
    {
      "cell_type": "code",
      "source": [
        "alph_num[data_L_dist[0][1].argmax()]"
      ],
      "metadata": {
        "colab": {
          "base_uri": "https://localhost:8080/",
          "height": 36
        },
        "id": "M1h0EJzqVsLp",
        "outputId": "1251244a-46b8-4e86-9d7a-ec7b49c51b9b"
      },
      "execution_count": 353,
      "outputs": [
        {
          "output_type": "execute_result",
          "data": {
            "text/plain": [
              "'a'"
            ],
            "application/vnd.google.colaboratory.intrinsic+json": {
              "type": "string"
            }
          },
          "metadata": {},
          "execution_count": 353
        }
      ]
    },
    {
      "cell_type": "code",
      "execution_count": null,
      "metadata": {
        "id": "6-Zp11ct0A62"
      },
      "outputs": [],
      "source": [
        "sample_image = loadImage('./america.png')\n",
        "#loaded_image = np.array(negative_pad_image(img, ch, cw))\n",
        "#loaded_image = loaded_image / 255\n",
        "\n",
        "yhat2 = prediction_model.predict(sample_image.reshape(1,ch,cw,1))\n",
        "\n",
        "r = ''\n",
        "for i in range(15):\n",
        "  r += alph_num[yhat2[0][i].argmax()]\n",
        "\n",
        "r"
      ]
    },
    {
      "cell_type": "code",
      "execution_count": null,
      "metadata": {
        "id": "QZ3WPrlJEASE"
      },
      "outputs": [],
      "source": [
        "# View sample image and predicted label together\n",
        "\n",
        "sample_image = loadImage('./results/images/0/0.jpg')\n",
        "# Image.fromarray(np.uint8(sample_image*255)).convert('RGB')\n",
        "img = sample_image.astype(np.uint8) \n",
        "#img = np.array(negative_pad_image(img, ch, cw))\n",
        "\n",
        "plt.imshow(sample_image)\n",
        "\n",
        "yhat = prediction_model.predict(img.reshape(1, ch, cw, 3))\n",
        "yhat.shape\n",
        "\n",
        "print(yhat.shape)\n",
        "print(yhat)\n",
        "print(yhat[0][3].argmax())"
      ]
    },
    {
      "cell_type": "code",
      "execution_count": null,
      "metadata": {
        "id": "aFAhnBC0QFQu"
      },
      "outputs": [],
      "source": [
        "x = img.astype(np.uint8)\n",
        "plt.imshow(x)"
      ]
    }
  ],
  "metadata": {
    "colab": {
      "collapsed_sections": [
        "rfWFyMf_91Fn"
      ],
      "machine_shape": "hm",
      "name": "keras-ocr-bignumber-generator.ipynb",
      "provenance": [],
      "authorship_tag": "ABX9TyM0v4QYT8dp/Vy3MIBNX3WB",
      "include_colab_link": true
    },
    "gpuClass": "standard",
    "kernelspec": {
      "display_name": "Python 3",
      "name": "python3"
    },
    "language_info": {
      "name": "python"
    }
  },
  "nbformat": 4,
  "nbformat_minor": 0
}