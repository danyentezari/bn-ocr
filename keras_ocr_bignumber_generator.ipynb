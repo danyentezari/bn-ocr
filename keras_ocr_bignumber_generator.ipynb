{
  "cells": [
    {
      "cell_type": "markdown",
      "metadata": {
        "id": "view-in-github",
        "colab_type": "text"
      },
      "source": [
        "<a href=\"https://colab.research.google.com/github/danyentezari/bn-ocr/blob/main/keras_ocr_bignumber_generator.ipynb\" target=\"_parent\"><img src=\"https://colab.research.google.com/assets/colab-badge.svg\" alt=\"Open In Colab\"/></a>"
      ]
    },
    {
      "cell_type": "code",
      "execution_count": null,
      "metadata": {
        "id": "obI7x309JZl7"
      },
      "outputs": [],
      "source": [
        "!pip install keras==2.2.5\n",
        "!pip install tensorflow==1.13.1\n",
        "# !unzip kaggle.json.zip\n",
        "# !mkdir ~/.kaggle \n",
        "# !cp kaggle.json ~/.kaggle/\n",
        "# !chmod 600 ~/.kaggle/kaggle.json\n",
        "# !kaggle datasets download scolianni/mnistasjpg\n",
        "# !unzip mnistasjpg.zip\n",
        "!pip install 'h5py==2.10.0' --force-reinstall\n",
        "!pip install cairocffi\n",
        "!pip install gdown\n",
        "!pip install synthtiger"
      ]
    },
    {
      "cell_type": "code",
      "source": [
        "!git clone https://github.com/clovaai/synthtiger.git\n",
        "!cp -r synthtiger/* .\n",
        "!synthtiger -o results -w 4 -c 2000 -v examples/synthtiger/template.py SynthTiger examples/synthtiger/config_horizontal.yaml"
      ],
      "metadata": {
        "colab": {
          "base_uri": "https://localhost:8080/"
        },
        "id": "ySjCR1kKQyuw",
        "outputId": "9a68065e-fc5f-42ac-9a11-28a7e2e567f6"
      },
      "execution_count": 1,
      "outputs": [
        {
          "output_type": "stream",
          "name": "stdout",
          "text": [
            "fatal: destination path 'synthtiger' already exists and is not an empty directory.\n"
          ]
        }
      ]
    },
    {
      "cell_type": "code",
      "execution_count": 1,
      "metadata": {
        "id": "dq_h85uJ60oR",
        "colab": {
          "base_uri": "https://localhost:8080/"
        },
        "outputId": "b6a49fc5-37bc-4b4b-e636-bdbe7c210edc"
      },
      "outputs": [
        {
          "output_type": "stream",
          "name": "stderr",
          "text": [
            "/usr/local/lib/python3.7/dist-packages/tensorflow/python/framework/dtypes.py:526: FutureWarning: Passing (type, 1) or '1type' as a synonym of type is deprecated; in a future version of numpy, it will be understood as (type, (1,)) / '(1,)type'.\n",
            "  _np_qint8 = np.dtype([(\"qint8\", np.int8, 1)])\n",
            "/usr/local/lib/python3.7/dist-packages/tensorflow/python/framework/dtypes.py:527: FutureWarning: Passing (type, 1) or '1type' as a synonym of type is deprecated; in a future version of numpy, it will be understood as (type, (1,)) / '(1,)type'.\n",
            "  _np_quint8 = np.dtype([(\"quint8\", np.uint8, 1)])\n",
            "/usr/local/lib/python3.7/dist-packages/tensorflow/python/framework/dtypes.py:528: FutureWarning: Passing (type, 1) or '1type' as a synonym of type is deprecated; in a future version of numpy, it will be understood as (type, (1,)) / '(1,)type'.\n",
            "  _np_qint16 = np.dtype([(\"qint16\", np.int16, 1)])\n",
            "/usr/local/lib/python3.7/dist-packages/tensorflow/python/framework/dtypes.py:529: FutureWarning: Passing (type, 1) or '1type' as a synonym of type is deprecated; in a future version of numpy, it will be understood as (type, (1,)) / '(1,)type'.\n",
            "  _np_quint16 = np.dtype([(\"quint16\", np.uint16, 1)])\n",
            "/usr/local/lib/python3.7/dist-packages/tensorflow/python/framework/dtypes.py:530: FutureWarning: Passing (type, 1) or '1type' as a synonym of type is deprecated; in a future version of numpy, it will be understood as (type, (1,)) / '(1,)type'.\n",
            "  _np_qint32 = np.dtype([(\"qint32\", np.int32, 1)])\n",
            "/usr/local/lib/python3.7/dist-packages/tensorflow/python/framework/dtypes.py:535: FutureWarning: Passing (type, 1) or '1type' as a synonym of type is deprecated; in a future version of numpy, it will be understood as (type, (1,)) / '(1,)type'.\n",
            "  np_resource = np.dtype([(\"resource\", np.ubyte, 1)])\n",
            "Using TensorFlow backend.\n"
          ]
        }
      ],
      "source": [
        "import matplotlib.pyplot as plt\n",
        "import numpy as np\n",
        "from os import listdir\n",
        "from os.path import isfile, join\n",
        "import re\n",
        "from scipy.sparse import csr_matrix\n",
        "import cv2\n",
        "import string\n",
        "from PIL import Image\n",
        "\n",
        "import itertools\n",
        "from sklearn.model_selection import train_test_split\n",
        "from sklearn.feature_extraction.text import HashingVectorizer\n",
        "\n",
        "import tensorflow as tf\n",
        "from tensorflow.keras import datasets, layers, models\n",
        "\n",
        "import keras\n",
        "from keras.utils.np_utils import to_categorical\n",
        "from keras.preprocessing.image import ImageDataGenerator\n",
        "from keras.models import Sequential\n",
        "from keras.layers import * #Conv2D, Lambda, MaxPooling2D # convolution layers\n",
        "#from keras.layers import Dense, Dropout, Flatten # core layers\n",
        "# from keras.layers.normalization import BatchNormalization\n",
        "from keras.preprocessing.image import load_img\n",
        "from keras.preprocessing.image import img_to_array\n",
        "\n",
        "\n",
        "from keras import backend as K\n",
        "from keras.layers.convolutional import Conv2D, MaxPooling2D\n",
        "# from keras.layers import Input, Dense, Activation, Add\n",
        "# from keras.layers import Reshape, Lambda\n",
        "from keras.layers.merge import add, concatenate\n",
        "from keras.models import Model\n",
        "from keras.layers.recurrent import GRU\n",
        "from keras.utils.data_utils import get_file\n",
        "from keras.preprocessing import image\n",
        "import keras.callbacks\n",
        "#from keras.metrics import Metric\n",
        "from tensorflow.python.keras.metrics import Metric\n",
        "\n",
        "import matplotlib.pyplot as plt\n",
        "%matplotlib inline\n"
      ]
    },
    {
      "cell_type": "code",
      "execution_count": 2,
      "metadata": {
        "id": "x1HL-lIrl_3J"
      },
      "outputs": [],
      "source": [
        "def loadImage(filepath):\n",
        "  img = load_img(filepath)\n",
        "  img = img_to_array(img)\n",
        "  #img = img.reshape(1, 42, 42, 3)\n",
        "  # img = img.reshape(64, 192, 3)\n",
        "  img = img.astype('float32')\n",
        "  # img = img / 255.0\n",
        "  return img"
      ]
    },
    {
      "cell_type": "markdown",
      "metadata": {
        "id": "jXCR8ROH7ep6"
      },
      "source": [
        "### Features and Labels"
      ]
    },
    {
      "cell_type": "code",
      "source": [
        "t1 = [[1, 2, 3], [4, 5, 6]]\n",
        "t2 = [[7, 8, 9], [10, 11, 12]]\n",
        "x = tf.concat([t1, t2], 0)\n",
        "x.eval(session=tf.compat.v1.Session())"
      ],
      "metadata": {
        "colab": {
          "base_uri": "https://localhost:8080/"
        },
        "id": "XHEX6GYfOJvY",
        "outputId": "b42b2e50-0533-4ccb-9d5b-b96c4643ee75"
      },
      "execution_count": 3,
      "outputs": [
        {
          "output_type": "execute_result",
          "data": {
            "text/plain": [
              "array([[ 1,  2,  3],\n",
              "       [ 4,  5,  6],\n",
              "       [ 7,  8,  9],\n",
              "       [10, 11, 12]], dtype=int32)"
            ]
          },
          "metadata": {},
          "execution_count": 3
        }
      ]
    },
    {
      "cell_type": "code",
      "source": [
        "cw = 200\n",
        "ch = 80"
      ],
      "metadata": {
        "id": "FDwUvArMSHeP"
      },
      "execution_count": 4,
      "outputs": []
    },
    {
      "cell_type": "code",
      "source": [
        "def scale_resize_image(image):\n",
        "    image = tf.image.convert_image_dtype(image, tf.float32) # equivalent to dividing image pixels by 255\n",
        "    image = tf.image.resize(image, (ch, cw))\n",
        "    return image\n",
        "\n",
        "\n",
        "someimg = load_img('./america.png')\n",
        "\n",
        "someimg = scale_resize_image( someimg )\n",
        "# someimg = someimg.astype('float32')\n",
        "\n",
        "plt.imshow( someimg.eval(session=tf.compat.v1.Session()) )"
      ],
      "metadata": {
        "colab": {
          "base_uri": "https://localhost:8080/",
          "height": 203
        },
        "id": "I_86M97mSFgI",
        "outputId": "c2585170-4f2d-45b8-8f80-4345b8467825"
      },
      "execution_count": 5,
      "outputs": [
        {
          "output_type": "execute_result",
          "data": {
            "text/plain": [
              "<matplotlib.image.AxesImage at 0x7f091fa57e90>"
            ]
          },
          "metadata": {},
          "execution_count": 5
        },
        {
          "output_type": "display_data",
          "data": {
            "text/plain": [
              "<Figure size 432x288 with 1 Axes>"
            ],
            "image/png": "[encoded data removed]"
          },
          "metadata": {
            "needs_background": "light"
          }
        }
      ]
    },
    {
      "cell_type": "code",
      "source": [
        "def create_canvas(canvas_h=300, canvas_w=300):\n",
        "  # Create canvas\n",
        "  canvas_color = 255\n",
        "\n",
        "  pixel_rows = []\n",
        "  row = [canvas_color for x in range(0,canvas_w)]\n",
        "  for i in range(0,canvas_h):\n",
        "    pixel_rows.append(row)\n",
        "  r = pixel_rows\n",
        "  g = pixel_rows\n",
        "  b = pixel_rows\n",
        "\n",
        "  canvas = np.dstack((r,g,b))\n",
        "  return canvas\n",
        "\n",
        "# cw = 950\n",
        "# ch = 200\n",
        "canvas = create_canvas(ch, cw)\n",
        "\n",
        "def center_pad_image(img, canvas_h=300, canvas_w=300):\n",
        "  # Image positions\n",
        "  img2_width = img.shape[1]\n",
        "  img2_height = img.shape[0]\n",
        "  black_row = np.array([[0 for x in range(0,img2_width)]])\n",
        "  img2 = np.dstack((black_row,black_row,black_row))\n",
        "\n",
        "\n",
        "  startx = int((canvas_w-img2_width)/2)\n",
        "  starty = int((canvas_h-img2_height)/2)\n",
        "  endx = startx + img2_width\n",
        "  endy = starty + img2_height\n",
        "\n",
        "  # Superimpose image\n",
        "  to_superimpose = Image.fromarray(np.uint8(img)).convert('RGB')\n",
        "  # Reset global canvas\n",
        "  canvas[:, :] = 255\n",
        "  canvas[starty:endy, startx:endx] = to_superimpose\n",
        "\n",
        "\n",
        "  return Image.fromarray(np.uint8(canvas)).convert('RGB')\n",
        "\n",
        "\n",
        "# center_pad_image(sample_image, ch, cw)"
      ],
      "metadata": {
        "id": "oY3bH7oEpKH9"
      },
      "execution_count": 6,
      "outputs": []
    },
    {
      "cell_type": "code",
      "source": [
        "def create_canvas(canvas_h=300, canvas_w=300):\n",
        "  # Create canvas\n",
        "  canvas_color = 0\n",
        "\n",
        "  pixel_rows = []\n",
        "  row = [canvas_color for x in range(0,canvas_w)]\n",
        "  for i in range(0,canvas_h):\n",
        "    pixel_rows.append(row)\n",
        "  r = pixel_rows\n",
        "  g = pixel_rows\n",
        "  b = pixel_rows\n",
        "\n",
        "  canvas = np.dstack((r,g,b))\n",
        "  return canvas\n",
        "\n",
        "# cw = 300\n",
        "# ch = 100\n",
        "canvas = create_canvas(ch, cw)\n",
        "\n",
        "def negative_pad_image(img, canvas_h=300, canvas_w=300):\n",
        "  # Image positions\n",
        "  img2_width = img.shape[1]\n",
        "  img2_height = img.shape[0]\n",
        "  black_row = np.array([[0 for x in range(0,img2_width)]])\n",
        "  img2 = np.dstack((black_row,black_row,black_row))\n",
        "\n",
        "\n",
        "  startx = 0#int((canvas_w-img2_width)/2)\n",
        "  starty = 0#int((canvas_h-img2_height)/2)\n",
        "  endx = startx + img2_width\n",
        "  endy = starty + img2_height\n",
        "\n",
        "  # Superimpose image\n",
        "  to_superimpose = img # Image.fromarray(np.uint8(img)).convert('RGB')\n",
        "  # Reset global canvas\n",
        "  canvas[:, :] = 0 #255\n",
        "  canvas[starty:endy, startx:endx] = to_superimpose\n",
        "\n",
        "\n",
        "  return canvas #Image.fromarray(np.uint8(canvas)).convert('RGB')"
      ],
      "metadata": {
        "id": "0JPKc9lt3YwD"
      },
      "execution_count": 7,
      "outputs": []
    },
    {
      "cell_type": "code",
      "source": [
        "a = tf.constant([[[0], [0], [0]]])\n",
        "b = tf.constant([[[0], [0], [0]]])\n",
        "\n",
        "x = tf.concat([a, b], 0)\n",
        "print(x.eval(session=tf.compat.v1.Session()))\n",
        "print(x.shape)"
      ],
      "metadata": {
        "colab": {
          "base_uri": "https://localhost:8080/"
        },
        "id": "F4w5uyHePfl5",
        "outputId": "e54bfe3c-aaa1-4558-cad6-173d764f7d4d"
      },
      "execution_count": 8,
      "outputs": [
        {
          "output_type": "stream",
          "name": "stdout",
          "text": [
            "[[[0]\n",
            "  [0]\n",
            "  [0]]\n",
            "\n",
            " [[0]\n",
            "  [0]\n",
            "  [0]]]\n",
            "(2, 3, 1)\n"
          ]
        }
      ]
    },
    {
      "cell_type": "code",
      "source": [
        "a = tf.constant( np.empty((1, ch, cw, 3)), dtype='float32')\n",
        "b = tf.constant([[0, 0, 0]])\n",
        "c = tf.constant( np.empty((1, ch, cw, 3)), dtype='float32')\n",
        "\n",
        "\n",
        "x = tf.concat([a, c], 0)\n",
        "# print(x.eval(session=tf.compat.v1.Session()))\n",
        "print(x.shape)"
      ],
      "metadata": {
        "colab": {
          "base_uri": "https://localhost:8080/"
        },
        "id": "D4lpiHflPvVy",
        "outputId": "c1351342-b753-4113-fca2-5e631c2f91f5"
      },
      "execution_count": 9,
      "outputs": [
        {
          "output_type": "stream",
          "name": "stdout",
          "text": [
            "(2, 80, 200, 3)\n"
          ]
        }
      ]
    },
    {
      "cell_type": "code",
      "source": [
        "import re\n",
        "file1 = open('./results/gt.txt', 'r')\n",
        "Lines = file1.readlines()\n",
        "\n",
        "n = 500 #len(Lines)\n",
        "\n",
        "data_F =  tf.constant( np.zeros([1, ch, cw, 3]), dtype='float32') #tf.constant([[0, 0, 0]]) # np.array([])#np.empty((n, ch, cw, 3))\n",
        "data_L = [] # tf.constant( np.zeros((1)) ) \n",
        "\n",
        "\n",
        "count = 0\n",
        "# Strips the newline character\n",
        "for i,line in enumerate(Lines[0:500]):\n",
        "    d = re.split('\\t', line)\n",
        "    d[1] = d[1].replace('\\n','')\n",
        "    \n",
        "    img = load_img(f'results/{d[0]}')\n",
        "    loaded_image = scale_resize_image(img)\n",
        "    loaded_image = tf.expand_dims(loaded_image, axis=0)\n",
        "\n",
        "    # print(loaded_image)\n",
        "    # print(data_F)\n",
        "\n",
        "    data_F = tf.concat([data_F, loaded_image], 0)\n",
        "    # data_L = tf.concat([data_L, tf.constant(d[1])], 0)\n",
        "    data_L.append(d[1])\n",
        "\n",
        "\n",
        "# data_F = np.array(data_F)\n",
        "data_L = np.array(data_L)\n",
        "print(data_F.shape)\n",
        "print(data_L.shape)\n",
        "# plt.imshow( data_F[1].eval(session=tf.compat.v1.Session()) )"
      ],
      "metadata": {
        "id": "N-nD7bwuS6XM",
        "colab": {
          "base_uri": "https://localhost:8080/"
        },
        "outputId": "fbad058a-48ab-4a92-b751-c9fde4274141"
      },
      "execution_count": 10,
      "outputs": [
        {
          "output_type": "stream",
          "name": "stdout",
          "text": [
            "(501, 80, 200, 3)\n",
            "(500,)\n"
          ]
        }
      ]
    },
    {
      "cell_type": "code",
      "source": [
        "# data_F[0].eval(session=tf.compat.v1.Session())\n",
        "print(data_F.shape)\n",
        "print(n)\n",
        "print(len(Lines))"
      ],
      "metadata": {
        "colab": {
          "base_uri": "https://localhost:8080/"
        },
        "id": "-8BUkDmHsVhx",
        "outputId": "eb3adca8-0c9f-4720-d3c1-a45f42dcc690"
      },
      "execution_count": 11,
      "outputs": [
        {
          "output_type": "stream",
          "name": "stdout",
          "text": [
            "(501, 80, 200, 3)\n",
            "500\n",
            "2000\n"
          ]
        }
      ]
    },
    {
      "cell_type": "code",
      "source": [
        "# plt.imshow(data_F[0])\n",
        "\n",
        "# # print(data_F[10])\n",
        "# print(data_L[10])\n",
        "# print(x.shape)\n",
        "# print(img.shape)"
      ],
      "metadata": {
        "id": "EiSWPt8rgYBT"
      },
      "execution_count": 12,
      "outputs": []
    },
    {
      "cell_type": "code",
      "source": [
        "alphabet = 'abcdefghijklmnopqrstuvwxyzABCDEFGHIJKLMNOPQRSTUVWXYZ./:;,\\'\"-_1234567890?!)(][}{><=*@#$%^&|~+`'\n",
        "alph_num = re.split('', alphabet)\n",
        "alph_dict = dict({})\n",
        "\n",
        "# alph_num.pop(0)\n",
        "for j, c in enumerate(alph_num):\n",
        "  alph_dict[c] = j"
      ],
      "metadata": {
        "id": "jF7IUwQ4tq5e"
      },
      "execution_count": 13,
      "outputs": []
    },
    {
      "cell_type": "code",
      "source": [
        "s = 'Better'\n",
        "alph_dict\n",
        "_id = list(map(lambda c: alph_dict[c], s))\n",
        "_id\n",
        "# data_L_dist = to_categorical(data_L[0])"
      ],
      "metadata": {
        "colab": {
          "base_uri": "https://localhost:8080/"
        },
        "id": "7-zdBwXRvZCX",
        "outputId": "c646cb68-a22c-41cb-ed0b-2c3baf3a9129"
      },
      "execution_count": 14,
      "outputs": [
        {
          "output_type": "execute_result",
          "data": {
            "text/plain": [
              "[28, 5, 20, 20, 5, 18]"
            ]
          },
          "metadata": {},
          "execution_count": 14
        }
      ]
    },
    {
      "cell_type": "code",
      "source": [
        "m = lambda x: [alph_dict[c] for c in x]\n",
        "\n",
        "data_L_id = np.zeros((n,75))\n",
        "for k,data in enumerate(data_L):\n",
        "  # data = data.lower()\n",
        "  ids = m(data)\n",
        "  # data_L_id = np.append(data_L_id, [ids], axis=0)\n",
        "  data_L_id[k][0:len(ids)] = ids[:]\n",
        "  # data_L_id = np.append(data_L_id, m(data), axis=0)"
      ],
      "metadata": {
        "id": "pUNOAafDwDRa"
      },
      "execution_count": 15,
      "outputs": []
    },
    {
      "cell_type": "code",
      "source": [
        "data_L_dist = to_categorical(data_L_id)"
      ],
      "metadata": {
        "id": "buO-b82007pM"
      },
      "execution_count": 16,
      "outputs": []
    },
    {
      "cell_type": "code",
      "source": [
        "data_L_dist.shape"
      ],
      "metadata": {
        "colab": {
          "base_uri": "https://localhost:8080/"
        },
        "id": "pO_Z5df91C5U",
        "outputId": "43f2f0d2-e738-4c60-9df3-f288bf195653"
      },
      "execution_count": 17,
      "outputs": [
        {
          "output_type": "execute_result",
          "data": {
            "text/plain": [
              "(500, 75, 86)"
            ]
          },
          "metadata": {},
          "execution_count": 17
        }
      ]
    },
    {
      "cell_type": "code",
      "source": [
        "data_F.shape"
      ],
      "metadata": {
        "colab": {
          "base_uri": "https://localhost:8080/"
        },
        "id": "DoQzXJsSoHmP",
        "outputId": "5a6b463c-151a-4616-9a37-427aaacdc92a"
      },
      "execution_count": 18,
      "outputs": [
        {
          "output_type": "execute_result",
          "data": {
            "text/plain": [
              "TensorShape([Dimension(501), Dimension(80), Dimension(200), Dimension(3)])"
            ]
          },
          "metadata": {},
          "execution_count": 18
        }
      ]
    },
    {
      "cell_type": "code",
      "source": [
        "len(alphabet)"
      ],
      "metadata": {
        "colab": {
          "base_uri": "https://localhost:8080/"
        },
        "id": "mvu24rQg1G2a",
        "outputId": "3c6f22f3-1cfd-4a05-c178-5130e407b136"
      },
      "execution_count": 19,
      "outputs": [
        {
          "output_type": "execute_result",
          "data": {
            "text/plain": [
              "93"
            ]
          },
          "metadata": {},
          "execution_count": 19
        }
      ]
    },
    {
      "cell_type": "markdown",
      "metadata": {
        "id": "y3mlAF8Q7ocC"
      },
      "source": [
        "### Model"
      ]
    },
    {
      "cell_type": "code",
      "execution_count": 20,
      "metadata": {
        "id": "KfOMTtB1hcdF",
        "colab": {
          "base_uri": "https://localhost:8080/",
          "height": 452
        },
        "outputId": "1190fba8-752d-41fa-8c3b-5cb9fb199a5f"
      },
      "outputs": [
        {
          "output_type": "error",
          "ename": "TypeError",
          "evalue": "ignored",
          "traceback": [
            "\u001b[0;31m---------------------------------------------------------------------------\u001b[0m",
            "\u001b[0;31mTypeError\u001b[0m                                 Traceback (most recent call last)",
            "\u001b[0;32m/usr/local/lib/python3.7/dist-packages/sklearn/utils/validation.py\u001b[0m in \u001b[0;36m_num_samples\u001b[0;34m(x)\u001b[0m\n\u001b[1;32m    277\u001b[0m     \u001b[0;32mtry\u001b[0m\u001b[0;34m:\u001b[0m\u001b[0;34m\u001b[0m\u001b[0;34m\u001b[0m\u001b[0m\n\u001b[0;32m--> 278\u001b[0;31m         \u001b[0;32mreturn\u001b[0m \u001b[0mlen\u001b[0m\u001b[0;34m(\u001b[0m\u001b[0mx\u001b[0m\u001b[0;34m)\u001b[0m\u001b[0;34m\u001b[0m\u001b[0;34m\u001b[0m\u001b[0m\n\u001b[0m\u001b[1;32m    279\u001b[0m     \u001b[0;32mexcept\u001b[0m \u001b[0mTypeError\u001b[0m \u001b[0;32mas\u001b[0m \u001b[0mtype_error\u001b[0m\u001b[0;34m:\u001b[0m\u001b[0;34m\u001b[0m\u001b[0;34m\u001b[0m\u001b[0m\n",
            "\u001b[0;31mTypeError\u001b[0m: object of type 'Tensor' has no len()",
            "\nThe above exception was the direct cause of the following exception:\n",
            "\u001b[0;31mTypeError\u001b[0m                                 Traceback (most recent call last)",
            "\u001b[0;32m<ipython-input-20-7763bffe447e>\u001b[0m in \u001b[0;36m<module>\u001b[0;34m()\u001b[0m\n\u001b[0;32m----> 1\u001b[0;31m \u001b[0mtrain_F\u001b[0m\u001b[0;34m,\u001b[0m \u001b[0mtest_F\u001b[0m\u001b[0;34m,\u001b[0m \u001b[0mtrain_L_dist\u001b[0m\u001b[0;34m,\u001b[0m \u001b[0mtest_L_dist\u001b[0m \u001b[0;34m=\u001b[0m \u001b[0mtrain_test_split\u001b[0m\u001b[0;34m(\u001b[0m\u001b[0mdata_F\u001b[0m\u001b[0;34m,\u001b[0m \u001b[0mdata_L_dist\u001b[0m\u001b[0;34m,\u001b[0m \u001b[0mtest_size\u001b[0m\u001b[0;34m=\u001b[0m\u001b[0;36m0.3\u001b[0m\u001b[0;34m,\u001b[0m \u001b[0mrandom_state\u001b[0m\u001b[0;34m=\u001b[0m\u001b[0;36m0\u001b[0m\u001b[0;34m)\u001b[0m\u001b[0;34m\u001b[0m\u001b[0;34m\u001b[0m\u001b[0m\n\u001b[0m",
            "\u001b[0;32m/usr/local/lib/python3.7/dist-packages/sklearn/model_selection/_split.py\u001b[0m in \u001b[0;36mtrain_test_split\u001b[0;34m(test_size, train_size, random_state, shuffle, stratify, *arrays)\u001b[0m\n\u001b[1;32m   2415\u001b[0m         \u001b[0;32mraise\u001b[0m \u001b[0mValueError\u001b[0m\u001b[0;34m(\u001b[0m\u001b[0;34m\"At least one array required as input\"\u001b[0m\u001b[0;34m)\u001b[0m\u001b[0;34m\u001b[0m\u001b[0;34m\u001b[0m\u001b[0m\n\u001b[1;32m   2416\u001b[0m \u001b[0;34m\u001b[0m\u001b[0m\n\u001b[0;32m-> 2417\u001b[0;31m     \u001b[0marrays\u001b[0m \u001b[0;34m=\u001b[0m \u001b[0mindexable\u001b[0m\u001b[0;34m(\u001b[0m\u001b[0;34m*\u001b[0m\u001b[0marrays\u001b[0m\u001b[0;34m)\u001b[0m\u001b[0;34m\u001b[0m\u001b[0;34m\u001b[0m\u001b[0m\n\u001b[0m\u001b[1;32m   2418\u001b[0m \u001b[0;34m\u001b[0m\u001b[0m\n\u001b[1;32m   2419\u001b[0m     \u001b[0mn_samples\u001b[0m \u001b[0;34m=\u001b[0m \u001b[0m_num_samples\u001b[0m\u001b[0;34m(\u001b[0m\u001b[0marrays\u001b[0m\u001b[0;34m[\u001b[0m\u001b[0;36m0\u001b[0m\u001b[0;34m]\u001b[0m\u001b[0;34m)\u001b[0m\u001b[0;34m\u001b[0m\u001b[0;34m\u001b[0m\u001b[0m\n",
            "\u001b[0;32m/usr/local/lib/python3.7/dist-packages/sklearn/utils/validation.py\u001b[0m in \u001b[0;36mindexable\u001b[0;34m(*iterables)\u001b[0m\n\u001b[1;32m    376\u001b[0m \u001b[0;34m\u001b[0m\u001b[0m\n\u001b[1;32m    377\u001b[0m     \u001b[0mresult\u001b[0m \u001b[0;34m=\u001b[0m \u001b[0;34m[\u001b[0m\u001b[0m_make_indexable\u001b[0m\u001b[0;34m(\u001b[0m\u001b[0mX\u001b[0m\u001b[0;34m)\u001b[0m \u001b[0;32mfor\u001b[0m \u001b[0mX\u001b[0m \u001b[0;32min\u001b[0m \u001b[0miterables\u001b[0m\u001b[0;34m]\u001b[0m\u001b[0;34m\u001b[0m\u001b[0;34m\u001b[0m\u001b[0m\n\u001b[0;32m--> 378\u001b[0;31m     \u001b[0mcheck_consistent_length\u001b[0m\u001b[0;34m(\u001b[0m\u001b[0;34m*\u001b[0m\u001b[0mresult\u001b[0m\u001b[0;34m)\u001b[0m\u001b[0;34m\u001b[0m\u001b[0;34m\u001b[0m\u001b[0m\n\u001b[0m\u001b[1;32m    379\u001b[0m     \u001b[0;32mreturn\u001b[0m \u001b[0mresult\u001b[0m\u001b[0;34m\u001b[0m\u001b[0;34m\u001b[0m\u001b[0m\n\u001b[1;32m    380\u001b[0m \u001b[0;34m\u001b[0m\u001b[0m\n",
            "\u001b[0;32m/usr/local/lib/python3.7/dist-packages/sklearn/utils/validation.py\u001b[0m in \u001b[0;36mcheck_consistent_length\u001b[0;34m(*arrays)\u001b[0m\n\u001b[1;32m    327\u001b[0m     \"\"\"\n\u001b[1;32m    328\u001b[0m \u001b[0;34m\u001b[0m\u001b[0m\n\u001b[0;32m--> 329\u001b[0;31m     \u001b[0mlengths\u001b[0m \u001b[0;34m=\u001b[0m \u001b[0;34m[\u001b[0m\u001b[0m_num_samples\u001b[0m\u001b[0;34m(\u001b[0m\u001b[0mX\u001b[0m\u001b[0;34m)\u001b[0m \u001b[0;32mfor\u001b[0m \u001b[0mX\u001b[0m \u001b[0;32min\u001b[0m \u001b[0marrays\u001b[0m \u001b[0;32mif\u001b[0m \u001b[0mX\u001b[0m \u001b[0;32mis\u001b[0m \u001b[0;32mnot\u001b[0m \u001b[0;32mNone\u001b[0m\u001b[0;34m]\u001b[0m\u001b[0;34m\u001b[0m\u001b[0;34m\u001b[0m\u001b[0m\n\u001b[0m\u001b[1;32m    330\u001b[0m     \u001b[0muniques\u001b[0m \u001b[0;34m=\u001b[0m \u001b[0mnp\u001b[0m\u001b[0;34m.\u001b[0m\u001b[0munique\u001b[0m\u001b[0;34m(\u001b[0m\u001b[0mlengths\u001b[0m\u001b[0;34m)\u001b[0m\u001b[0;34m\u001b[0m\u001b[0;34m\u001b[0m\u001b[0m\n\u001b[1;32m    331\u001b[0m     \u001b[0;32mif\u001b[0m \u001b[0mlen\u001b[0m\u001b[0;34m(\u001b[0m\u001b[0muniques\u001b[0m\u001b[0;34m)\u001b[0m \u001b[0;34m>\u001b[0m \u001b[0;36m1\u001b[0m\u001b[0;34m:\u001b[0m\u001b[0;34m\u001b[0m\u001b[0;34m\u001b[0m\u001b[0m\n",
            "\u001b[0;32m/usr/local/lib/python3.7/dist-packages/sklearn/utils/validation.py\u001b[0m in \u001b[0;36m<listcomp>\u001b[0;34m(.0)\u001b[0m\n\u001b[1;32m    327\u001b[0m     \"\"\"\n\u001b[1;32m    328\u001b[0m \u001b[0;34m\u001b[0m\u001b[0m\n\u001b[0;32m--> 329\u001b[0;31m     \u001b[0mlengths\u001b[0m \u001b[0;34m=\u001b[0m \u001b[0;34m[\u001b[0m\u001b[0m_num_samples\u001b[0m\u001b[0;34m(\u001b[0m\u001b[0mX\u001b[0m\u001b[0;34m)\u001b[0m \u001b[0;32mfor\u001b[0m \u001b[0mX\u001b[0m \u001b[0;32min\u001b[0m \u001b[0marrays\u001b[0m \u001b[0;32mif\u001b[0m \u001b[0mX\u001b[0m \u001b[0;32mis\u001b[0m \u001b[0;32mnot\u001b[0m \u001b[0;32mNone\u001b[0m\u001b[0;34m]\u001b[0m\u001b[0;34m\u001b[0m\u001b[0;34m\u001b[0m\u001b[0m\n\u001b[0m\u001b[1;32m    330\u001b[0m     \u001b[0muniques\u001b[0m \u001b[0;34m=\u001b[0m \u001b[0mnp\u001b[0m\u001b[0;34m.\u001b[0m\u001b[0munique\u001b[0m\u001b[0;34m(\u001b[0m\u001b[0mlengths\u001b[0m\u001b[0;34m)\u001b[0m\u001b[0;34m\u001b[0m\u001b[0;34m\u001b[0m\u001b[0m\n\u001b[1;32m    331\u001b[0m     \u001b[0;32mif\u001b[0m \u001b[0mlen\u001b[0m\u001b[0;34m(\u001b[0m\u001b[0muniques\u001b[0m\u001b[0;34m)\u001b[0m \u001b[0;34m>\u001b[0m \u001b[0;36m1\u001b[0m\u001b[0;34m:\u001b[0m\u001b[0;34m\u001b[0m\u001b[0;34m\u001b[0m\u001b[0m\n",
            "\u001b[0;32m/usr/local/lib/python3.7/dist-packages/sklearn/utils/validation.py\u001b[0m in \u001b[0;36m_num_samples\u001b[0;34m(x)\u001b[0m\n\u001b[1;32m    278\u001b[0m         \u001b[0;32mreturn\u001b[0m \u001b[0mlen\u001b[0m\u001b[0;34m(\u001b[0m\u001b[0mx\u001b[0m\u001b[0;34m)\u001b[0m\u001b[0;34m\u001b[0m\u001b[0;34m\u001b[0m\u001b[0m\n\u001b[1;32m    279\u001b[0m     \u001b[0;32mexcept\u001b[0m \u001b[0mTypeError\u001b[0m \u001b[0;32mas\u001b[0m \u001b[0mtype_error\u001b[0m\u001b[0;34m:\u001b[0m\u001b[0;34m\u001b[0m\u001b[0;34m\u001b[0m\u001b[0m\n\u001b[0;32m--> 280\u001b[0;31m         \u001b[0;32mraise\u001b[0m \u001b[0mTypeError\u001b[0m\u001b[0;34m(\u001b[0m\u001b[0mmessage\u001b[0m\u001b[0;34m)\u001b[0m \u001b[0;32mfrom\u001b[0m \u001b[0mtype_error\u001b[0m\u001b[0;34m\u001b[0m\u001b[0;34m\u001b[0m\u001b[0m\n\u001b[0m\u001b[1;32m    281\u001b[0m \u001b[0;34m\u001b[0m\u001b[0m\n\u001b[1;32m    282\u001b[0m \u001b[0;34m\u001b[0m\u001b[0m\n",
            "\u001b[0;31mTypeError\u001b[0m: Expected sequence or array-like, got <class 'tensorflow.python.framework.ops.Tensor'>"
          ]
        }
      ],
      "source": [
        "train_F, test_F, train_L_dist, test_L_dist = train_test_split(data_F, data_L_dist, test_size=0.3, random_state=0)"
      ]
    },
    {
      "cell_type": "code",
      "execution_count": null,
      "metadata": {
        "id": "17RoiGw_hsWY"
      },
      "outputs": [],
      "source": [
        "train_F.shape, test_F.shape, train_L_dist.shape, test_L_dist.shape"
      ]
    },
    {
      "cell_type": "code",
      "execution_count": null,
      "metadata": {
        "id": "uSttdlwhg4Nx"
      },
      "outputs": [],
      "source": [
        "# With data augmentation to prevent overfitting\n",
        "\n",
        "datagen = ImageDataGenerator(\n",
        "        featurewise_center=False,  # set input mean to 0 over the dataset\n",
        "        samplewise_center=False,  # set each sample mean to 0\n",
        "        featurewise_std_normalization=False,  # divide inputs by std of the dataset\n",
        "        samplewise_std_normalization=False,  # divide each input by its std\n",
        "        zca_whitening=False,  # apply ZCA whitening\n",
        "        rotation_range=5,  # randomly rotate images in the range (degrees, 0 to 180)\n",
        "        zoom_range = 0.01, # Randomly zoom image \n",
        "        width_shift_range=0.1,  # randomly shift images horizontally (fraction of total width)\n",
        "        height_shift_range=0.1,  # randomly shift images vertically (fraction of total height)\n",
        "        horizontal_flip=False,  # randomly flip images\n",
        "        vertical_flip=False)  # randomly flip images\n",
        "\n",
        "\n",
        "#datagen.fit(X_train)\n",
        "train_gen = datagen.flow(train_F, train_L_dist, batch_size=10)\n",
        "test_gen = datagen.flow(test_F, test_L_dist, batch_size=10)"
      ]
    },
    {
      "cell_type": "code",
      "execution_count": null,
      "metadata": {
        "id": "map673iJhIgl"
      },
      "outputs": [],
      "source": [
        "epochs = 7\n",
        "batch_size = 10\n",
        "train_steps = train_F.shape[0] // batch_size\n",
        "valid_steps = test_F.shape[0] // batch_size\n",
        "\n",
        "es = keras.callbacks.EarlyStopping(\n",
        "        monitor=\"val_acc\", # metrics to monitor\n",
        "        patience=10, # how many epochs before stop\n",
        "        verbose=1,\n",
        "        mode=\"max\", # we need the maximum accuracy.\n",
        "        restore_best_weights=True, # \n",
        "     )\n",
        "\n",
        "rp = keras.callbacks.ReduceLROnPlateau(\n",
        "        monitor=\"val_acc\",\n",
        "        factor=0.2,\n",
        "        patience=3,\n",
        "        verbose=1,\n",
        "        mode=\"max\",\n",
        "        min_lr=0.00001,\n",
        "     )"
      ]
    },
    {
      "cell_type": "code",
      "execution_count": null,
      "metadata": {
        "id": "qmORo5YJdqLH"
      },
      "outputs": [],
      "source": [
        "img_w = 300\n",
        "img_h = 100\n",
        "words_per_epoch = 100\n",
        "val_split = 0.3\n",
        "val_words = int(words_per_epoch * (val_split))\n",
        "\n",
        "# Network parameters\n",
        "conv_filters = 16\n",
        "kernel_size = (3, 3)\n",
        "pool_size = 2\n",
        "time_dense_size = 32\n",
        "rnn_size = 512\n",
        "minibatch_size = 10\n",
        "\n",
        "\n",
        "input_shape = (ch, cw, 3)\n",
        "\n",
        "act = 'relu'\n",
        "input_data = Input(name='the_input', shape=input_shape, dtype='float32')\n",
        "inner = Conv2D(conv_filters, kernel_size, padding='same',\n",
        "                activation=act, kernel_initializer='he_normal',\n",
        "                name='conv1')(input_data)\n",
        "inner = MaxPooling2D(pool_size=(pool_size, pool_size), name='max1')(inner)\n",
        "inner = Conv2D(conv_filters, kernel_size, padding='same',\n",
        "                activation=act, kernel_initializer='he_normal',\n",
        "                name='conv2')(inner)\n",
        "inner = MaxPooling2D(pool_size=(pool_size, pool_size), name='max2')(inner)\n",
        "\n",
        "conv_to_rnn_dims = (img_w // (pool_size ** 2),\n",
        "                    (img_h // (pool_size ** 2)) * conv_filters)\n",
        "inner = Reshape(target_shape=conv_to_rnn_dims, name='reshape')(inner)\n",
        "\n",
        "# cuts down input size going into RNN:\n",
        "inner = Dense(time_dense_size, activation=act, name='dense1')(inner)\n",
        "\n",
        "# Two layers of bidirectional GRUs\n",
        "# GRU seems to work as well, if not better than LSTM:\n",
        "gru_1 = GRU(rnn_size, return_sequences=True,\n",
        "            kernel_initializer='he_normal', name='gru1')(inner)\n",
        "gru_1b = GRU(rnn_size, return_sequences=True,\n",
        "              go_backwards=True, kernel_initializer='he_normal',\n",
        "              name='gru1_b')(inner)\n",
        "gru1_merged = add([gru_1, gru_1b])\n",
        "gru_2 = GRU(rnn_size, return_sequences=True,\n",
        "            kernel_initializer='he_normal', name='gru2')(gru1_merged)\n",
        "gru_2b = GRU(rnn_size, return_sequences=True, go_backwards=True,\n",
        "              kernel_initializer='he_normal', name='gru2_b')(gru1_merged)\n",
        "\n",
        "# transforms RNN output to character activations:\n",
        "inner = Dense(\n",
        "              93, \n",
        "              kernel_initializer='he_normal',\n",
        "              name='dense2')(concatenate([gru_2, gru_2b])\n",
        "            )\n",
        "y_pred = Activation('softmax', name='softmax')(inner)\n",
        "\n",
        "prediction_model = Model(inputs=input_data, outputs=y_pred)\n",
        "prediction_model.compile(loss=\"categorical_crossentropy\", optimizer=\"adam\", metrics=[\"accuracy\"])\n",
        "\n",
        "prediction_model.summary()"
      ]
    },
    {
      "cell_type": "code",
      "source": [
        "# Fit the model\n",
        "metrics1 = prediction_model.fit_generator(train_gen, \n",
        "                              epochs = epochs, \n",
        "                              steps_per_epoch = train_steps,\n",
        "                              validation_data = test_gen,\n",
        "                              validation_steps = valid_steps, \n",
        "                              callbacks=[es, rp]\n",
        "                              )"
      ],
      "metadata": {
        "id": "tKYW4qqlI6yt"
      },
      "execution_count": null,
      "outputs": []
    },
    {
      "cell_type": "code",
      "source": [
        "print(len(alphabet))\n",
        "print(train_L_dist.shape)"
      ],
      "metadata": {
        "id": "3T6UPFtS2r5T"
      },
      "execution_count": null,
      "outputs": []
    },
    {
      "cell_type": "markdown",
      "metadata": {
        "id": "h6Zu6CyARjYj"
      },
      "source": [
        "### Predict"
      ]
    },
    {
      "cell_type": "code",
      "source": [
        "plt.imshow(data_F[12])\n",
        "\n",
        "yhat2 = prediction_model.predict(data_F[12].reshape(1,ch,cw,3))\n",
        "\n",
        "r = ''\n",
        "for i in range(15):\n",
        "  r += alph_num[yhat2[0][i].argmax()]\n",
        "\n",
        "r"
      ],
      "metadata": {
        "id": "5eYHh5xT6Ot8"
      },
      "execution_count": null,
      "outputs": []
    },
    {
      "cell_type": "code",
      "source": [
        "sample_image = loadImage('./america.png')\n",
        "loaded_image = np.array(negative_pad_image(img, ch, cw))\n",
        "loaded_image = loaded_image / 255\n",
        "\n",
        "yhat2 = prediction_model.predict(loaded_image.reshape(1,ch,cw,3))\n",
        "\n",
        "r = ''\n",
        "for i in range(15):\n",
        "  r += alph_num[yhat2[0][i].argmax()]\n",
        "\n",
        "r"
      ],
      "metadata": {
        "id": "6-Zp11ct0A62"
      },
      "execution_count": null,
      "outputs": []
    },
    {
      "cell_type": "code",
      "source": [
        "# View sample image and predicted label together\n",
        "\n",
        "sample_image = loadImage('./results/images/0/0.jpg')\n",
        "# Image.fromarray(np.uint8(sample_image*255)).convert('RGB')\n",
        "img = sample_image.astype(np.uint8) \n",
        "img = np.array(negative_pad_image(img, ch, cw))\n",
        "\n",
        "plt.imshow(img)\n",
        "\n",
        "yhat = prediction_model.predict(img.reshape(1, ch, cw, 3))\n",
        "yhat.shape\n",
        "\n",
        "print(yhat.shape)\n",
        "print(yhat)\n",
        "print(yhat[0][3].argmax())"
      ],
      "metadata": {
        "id": "QZ3WPrlJEASE"
      },
      "execution_count": null,
      "outputs": []
    },
    {
      "cell_type": "code",
      "source": [
        "x = img.astype(np.uint8)\n",
        "plt.imshow(x)"
      ],
      "metadata": {
        "id": "aFAhnBC0QFQu"
      },
      "execution_count": null,
      "outputs": []
    }
  ],
  "metadata": {
    "colab": {
      "collapsed_sections": [],
      "name": "keras-ocr-bignumber-generator.ipynb",
      "provenance": [],
      "machine_shape": "hm",
      "authorship_tag": "ABX9TyOzkXCdZTKm00x0oluhrVXB",
      "include_colab_link": true
    },
    "kernelspec": {
      "display_name": "Python 3",
      "name": "python3"
    },
    "language_info": {
      "name": "python"
    },
    "gpuClass": "standard"
  },
  "nbformat": 4,
  "nbformat_minor": 0
}