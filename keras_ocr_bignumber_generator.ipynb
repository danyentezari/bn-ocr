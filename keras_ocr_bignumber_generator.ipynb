{
  "cells": [
    {
      "cell_type": "markdown",
      "metadata": {
        "id": "view-in-github",
        "colab_type": "text"
      },
      "source": [
        "<a href=\"https://colab.research.google.com/github/danyentezari/bn-ocr/blob/main/keras_ocr_bignumber_generator.ipynb\" target=\"_parent\"><img src=\"https://colab.research.google.com/assets/colab-badge.svg\" alt=\"Open In Colab\"/></a>"
      ]
    },
    {
      "cell_type": "code",
      "execution_count": null,
      "metadata": {
        "id": "obI7x309JZl7"
      },
      "outputs": [],
      "source": [
        "!pip install keras==2.2.5\n",
        "!pip install tensorflow==1.13.1\n",
        "# !unzip kaggle.json.zip\n",
        "# !mkdir ~/.kaggle \n",
        "# !cp kaggle.json ~/.kaggle/\n",
        "# !chmod 600 ~/.kaggle/kaggle.json\n",
        "# !kaggle datasets download scolianni/mnistasjpg\n",
        "# !unzip mnistasjpg.zip\n",
        "!pip install 'h5py==2.10.0' --force-reinstall\n",
        "!pip install cairocffi\n",
        "!pip install gdown\n",
        "!pip install synthtiger"
      ]
    },
    {
      "cell_type": "code",
      "source": [
        "!rm -r ./out"
      ],
      "metadata": {
        "id": "btLVq2qNlfpk"
      },
      "execution_count": 10,
      "outputs": []
    },
    {
      "cell_type": "code",
      "source": [
        "!pip install trdg"
      ],
      "metadata": {
        "id": "9yC7VJrSjAUP"
      },
      "execution_count": null,
      "outputs": []
    },
    {
      "cell_type": "code",
      "source": [
        "!trdg -c 40000 -w 5 -f 64 --length 1"
      ],
      "metadata": {
        "id": "W_DQHVIMlHKR"
      },
      "execution_count": null,
      "outputs": []
    },
    {
      "cell_type": "code",
      "execution_count": 14,
      "metadata": {
        "id": "ySjCR1kKQyuw"
      },
      "outputs": [],
      "source": [
        "!pip install synthtiger\n",
        "!git clone https://github.com/clovaai/synthtiger.git\n",
        "!cp -r synthtiger/* .\n",
        "!synthtiger -o results -w 4 -c 500 -v examples/synthtiger/template.py SynthTiger examples/synthtiger/config_horizontal.yaml"
      ]
    },
    {
      "cell_type": "code",
      "execution_count": 2,
      "metadata": {
        "id": "jsIR42VJ8Rfr"
      },
      "outputs": [],
      "source": [
        "# !curl https://thor.robots.ox.ac.uk/~vgg/data/text/mjsynth.tar.gz --output mjsynth.tar.gz\n",
        "# !tar -xvf ./mjsynth.tar.gz"
      ]
    },
    {
      "cell_type": "code",
      "execution_count": 3,
      "metadata": {
        "colab": {
          "base_uri": "https://localhost:8080/"
        },
        "id": "dq_h85uJ60oR",
        "outputId": "8e7d64fb-5674-442b-8bf2-c546a37a350a"
      },
      "outputs": [
        {
          "output_type": "stream",
          "name": "stderr",
          "text": [
            "/usr/local/lib/python3.7/dist-packages/tensorflow/python/framework/dtypes.py:526: FutureWarning: Passing (type, 1) or '1type' as a synonym of type is deprecated; in a future version of numpy, it will be understood as (type, (1,)) / '(1,)type'.\n",
            "  _np_qint8 = np.dtype([(\"qint8\", np.int8, 1)])\n",
            "/usr/local/lib/python3.7/dist-packages/tensorflow/python/framework/dtypes.py:527: FutureWarning: Passing (type, 1) or '1type' as a synonym of type is deprecated; in a future version of numpy, it will be understood as (type, (1,)) / '(1,)type'.\n",
            "  _np_quint8 = np.dtype([(\"quint8\", np.uint8, 1)])\n",
            "/usr/local/lib/python3.7/dist-packages/tensorflow/python/framework/dtypes.py:528: FutureWarning: Passing (type, 1) or '1type' as a synonym of type is deprecated; in a future version of numpy, it will be understood as (type, (1,)) / '(1,)type'.\n",
            "  _np_qint16 = np.dtype([(\"qint16\", np.int16, 1)])\n",
            "/usr/local/lib/python3.7/dist-packages/tensorflow/python/framework/dtypes.py:529: FutureWarning: Passing (type, 1) or '1type' as a synonym of type is deprecated; in a future version of numpy, it will be understood as (type, (1,)) / '(1,)type'.\n",
            "  _np_quint16 = np.dtype([(\"quint16\", np.uint16, 1)])\n",
            "/usr/local/lib/python3.7/dist-packages/tensorflow/python/framework/dtypes.py:530: FutureWarning: Passing (type, 1) or '1type' as a synonym of type is deprecated; in a future version of numpy, it will be understood as (type, (1,)) / '(1,)type'.\n",
            "  _np_qint32 = np.dtype([(\"qint32\", np.int32, 1)])\n",
            "/usr/local/lib/python3.7/dist-packages/tensorflow/python/framework/dtypes.py:535: FutureWarning: Passing (type, 1) or '1type' as a synonym of type is deprecated; in a future version of numpy, it will be understood as (type, (1,)) / '(1,)type'.\n",
            "  np_resource = np.dtype([(\"resource\", np.ubyte, 1)])\n",
            "Using TensorFlow backend.\n"
          ]
        }
      ],
      "source": [
        "import matplotlib.pyplot as plt\n",
        "import numpy as np\n",
        "from os import listdir\n",
        "from os.path import isfile, join\n",
        "import re\n",
        "from scipy.sparse import csr_matrix\n",
        "import cv2\n",
        "import string\n",
        "from PIL import Image\n",
        "\n",
        "import itertools\n",
        "from sklearn.model_selection import train_test_split\n",
        "from sklearn.feature_extraction.text import HashingVectorizer\n",
        "\n",
        "import tensorflow as tf\n",
        "from tensorflow.keras import datasets, layers, models\n",
        "\n",
        "import keras\n",
        "from keras.utils.np_utils import to_categorical\n",
        "from keras.preprocessing.image import ImageDataGenerator\n",
        "from keras.models import Sequential\n",
        "from keras.layers import * #Conv2D, Lambda, MaxPooling2D # convolution layers\n",
        "#from keras.layers import Dense, Dropout, Flatten # core layers\n",
        "# from keras.layers.normalization import BatchNormalization\n",
        "from keras.preprocessing.image import load_img\n",
        "from keras.preprocessing.image import img_to_array\n",
        "\n",
        "\n",
        "from keras import backend as K\n",
        "from keras.layers.convolutional import Conv2D, MaxPooling2D\n",
        "# from keras.layers import Input, Dense, Activation, Add\n",
        "# from keras.layers import Reshape, Lambda\n",
        "from keras.layers.merge import add, concatenate\n",
        "from keras.models import Model\n",
        "from keras.layers.recurrent import GRU\n",
        "from keras.utils.data_utils import get_file\n",
        "from keras.preprocessing import image\n",
        "import keras.callbacks\n",
        "#from keras.metrics import Metric\n",
        "from tensorflow.python.keras.metrics import Metric\n",
        "\n",
        "import matplotlib.pyplot as plt\n",
        "%matplotlib inline\n"
      ]
    },
    {
      "cell_type": "markdown",
      "metadata": {
        "id": "jXCR8ROH7ep6"
      },
      "source": [
        "### Features and Labels"
      ]
    },
    {
      "cell_type": "code",
      "execution_count": 4,
      "metadata": {
        "colab": {
          "base_uri": "https://localhost:8080/"
        },
        "id": "XHEX6GYfOJvY",
        "outputId": "62d4be86-8621-46b6-b7f7-fa90f988766a"
      },
      "outputs": [
        {
          "output_type": "execute_result",
          "data": {
            "text/plain": [
              "array([[ 1,  2,  3],\n",
              "       [ 4,  5,  6],\n",
              "       [ 7,  8,  9],\n",
              "       [10, 11, 12]], dtype=int32)"
            ]
          },
          "metadata": {},
          "execution_count": 4
        }
      ],
      "source": [
        "t1 = [[1, 2, 3], [4, 5, 6]]\n",
        "t2 = [[7, 8, 9], [10, 11, 12]]\n",
        "x = tf.concat([t1, t2], 0)\n",
        "x.eval(session=tf.compat.v1.Session())"
      ]
    },
    {
      "cell_type": "code",
      "execution_count": 13,
      "metadata": {
        "id": "FDwUvArMSHeP"
      },
      "outputs": [],
      "source": [
        "cw = 100\n",
        "ch = 40"
      ]
    },
    {
      "cell_type": "code",
      "execution_count": 14,
      "metadata": {
        "colab": {
          "base_uri": "https://localhost:8080/",
          "height": 202
        },
        "id": "LYdzLKEPcsyV",
        "outputId": "6ec289b2-9f37-4b46-ecba-f86dc976a153"
      },
      "outputs": [
        {
          "output_type": "execute_result",
          "data": {
            "text/plain": [
              "<matplotlib.image.AxesImage at 0x7f37becee450>"
            ]
          },
          "metadata": {},
          "execution_count": 14
        },
        {
          "output_type": "display_data",
          "data": {
            "text/plain": [
              "<Figure size 432x288 with 1 Axes>"
            ],
            "image/png": "[encoded data removed]"
          },
          "metadata": {
            "needs_background": "light"
          }
        }
      ],
      "source": [
        "def loadImage(filepath):\n",
        "  img = load_img(filepath, target_size=(ch, cw))\n",
        "  img = img_to_array(img)\n",
        "  #img = img.reshape(1, 42, 42, 3)\n",
        "  img = img.reshape(ch, cw, 3)\n",
        "  img = img.astype('float32')\n",
        "  img = img / 255.0\n",
        "  return img\n",
        "\n",
        "plt.imshow(loadImage('./america.png'))"
      ]
    },
    {
      "cell_type": "code",
      "execution_count": 7,
      "metadata": {
        "colab": {
          "base_uri": "https://localhost:8080/",
          "height": 203
        },
        "id": "I_86M97mSFgI",
        "outputId": "763a15b9-ac30-4da9-e05a-9f49033d709c"
      },
      "outputs": [
        {
          "output_type": "execute_result",
          "data": {
            "text/plain": [
              "<matplotlib.image.AxesImage at 0x7f37bf3564d0>"
            ]
          },
          "metadata": {},
          "execution_count": 7
        },
        {
          "output_type": "display_data",
          "data": {
            "text/plain": [
              "<Figure size 432x288 with 1 Axes>"
            ],
            "image/png": "[encoded data removed]"
          },
          "metadata": {
            "needs_background": "light"
          }
        }
      ],
      "source": [
        "# def scale_resize_image(image):\n",
        "#     image = tf.image.convert_image_dtype(image, tf.float32) # equivalent to dividing image pixels by 255\n",
        "#     image = tf.image.resize(image, (ch, cw))\n",
        "#     return image\n",
        "\n",
        "\n",
        "# someimg = load_img('./america.png')\n",
        "\n",
        "# someimg = scale_resize_image( someimg )\n",
        "# # someimg = someimg.astype('float32')\n",
        "\n",
        "# plt.imshow( someimg.eval(session=tf.compat.v1.Session()) )"
      ]
    },
    {
      "cell_type": "code",
      "execution_count": 8,
      "metadata": {
        "id": "oY3bH7oEpKH9"
      },
      "outputs": [],
      "source": [
        "# def create_canvas(canvas_h=300, canvas_w=300):\n",
        "#   # Create canvas\n",
        "#   canvas_color = 255\n",
        "\n",
        "#   pixel_rows = []\n",
        "#   row = [canvas_color for x in range(0,canvas_w)]\n",
        "#   for i in range(0,canvas_h):\n",
        "#     pixel_rows.append(row)\n",
        "#   r = pixel_rows\n",
        "#   g = pixel_rows\n",
        "#   b = pixel_rows\n",
        "\n",
        "#   canvas = np.dstack((r,g,b))\n",
        "#   return canvas\n",
        "\n",
        "# # cw = 950\n",
        "# # ch = 200\n",
        "# canvas = create_canvas(ch, cw)\n",
        "\n",
        "# def center_pad_image(img, canvas_h=300, canvas_w=300):\n",
        "#   # Image positions\n",
        "#   img2_width = img.shape[1]\n",
        "#   img2_height = img.shape[0]\n",
        "#   black_row = np.array([[0 for x in range(0,img2_width)]])\n",
        "#   img2 = np.dstack((black_row,black_row,black_row))\n",
        "\n",
        "\n",
        "#   startx = int((canvas_w-img2_width)/2)\n",
        "#   starty = int((canvas_h-img2_height)/2)\n",
        "#   endx = startx + img2_width\n",
        "#   endy = starty + img2_height\n",
        "\n",
        "#   # Superimpose image\n",
        "#   to_superimpose = Image.fromarray(np.uint8(img)).convert('RGB')\n",
        "#   # Reset global canvas\n",
        "#   canvas[:, :] = 255\n",
        "#   canvas[starty:endy, startx:endx] = to_superimpose\n",
        "\n",
        "\n",
        "#   return Image.fromarray(np.uint8(canvas)).convert('RGB')\n",
        "\n",
        "\n",
        "# # center_pad_image(sample_image, ch, cw)"
      ]
    },
    {
      "cell_type": "code",
      "execution_count": 9,
      "metadata": {
        "id": "0JPKc9lt3YwD"
      },
      "outputs": [],
      "source": [
        "# def create_canvas(canvas_h=300, canvas_w=300):\n",
        "#   # Create canvas\n",
        "#   canvas_color = 0\n",
        "\n",
        "#   pixel_rows = []\n",
        "#   row = [canvas_color for x in range(0,canvas_w)]\n",
        "#   for i in range(0,canvas_h):\n",
        "#     pixel_rows.append(row)\n",
        "#   r = pixel_rows\n",
        "#   g = pixel_rows\n",
        "#   b = pixel_rows\n",
        "\n",
        "#   canvas = np.dstack((r,g,b))\n",
        "#   return canvas\n",
        "\n",
        "# # cw = 300\n",
        "# # ch = 100\n",
        "# canvas = create_canvas(ch, cw)\n",
        "\n",
        "# def negative_pad_image(img, canvas_h=300, canvas_w=300):\n",
        "#   # Image positions\n",
        "#   img2_width = img.shape[1]\n",
        "#   img2_height = img.shape[0]\n",
        "#   black_row = np.array([[0 for x in range(0,img2_width)]])\n",
        "#   img2 = np.dstack((black_row,black_row,black_row))\n",
        "\n",
        "\n",
        "#   startx = 0#int((canvas_w-img2_width)/2)\n",
        "#   starty = 0#int((canvas_h-img2_height)/2)\n",
        "#   endx = startx + img2_width\n",
        "#   endy = starty + img2_height\n",
        "\n",
        "#   # Superimpose image\n",
        "#   to_superimpose = img # Image.fromarray(np.uint8(img)).convert('RGB')\n",
        "#   # Reset global canvas\n",
        "#   canvas[:, :] = 0 #255\n",
        "#   canvas[starty:endy, startx:endx] = to_superimpose\n",
        "\n",
        "\n",
        "#   return canvas #Image.fromarray(np.uint8(canvas)).convert('RGB')"
      ]
    },
    {
      "cell_type": "code",
      "execution_count": 10,
      "metadata": {
        "id": "F4w5uyHePfl5",
        "colab": {
          "base_uri": "https://localhost:8080/"
        },
        "outputId": "776a8211-1754-439a-cdeb-62de4e2fc1a5"
      },
      "outputs": [
        {
          "output_type": "stream",
          "name": "stdout",
          "text": [
            "[[[0]\n",
            "  [0]\n",
            "  [0]]\n",
            "\n",
            " [[0]\n",
            "  [0]\n",
            "  [0]]]\n",
            "(2, 3, 1)\n"
          ]
        }
      ],
      "source": [
        "# a = tf.constant([[[0], [0], [0]]])\n",
        "# b = tf.constant([[[0], [0], [0]]])\n",
        "\n",
        "# x = tf.concat([a, b], 0)\n",
        "# print(x.eval(session=tf.compat.v1.Session()))\n",
        "# print(x.shape)"
      ]
    },
    {
      "cell_type": "code",
      "execution_count": 11,
      "metadata": {
        "colab": {
          "base_uri": "https://localhost:8080/"
        },
        "id": "D4lpiHflPvVy",
        "outputId": "55a22280-d853-4f8b-86e5-afa796125703"
      },
      "outputs": [
        {
          "output_type": "stream",
          "name": "stdout",
          "text": [
            "(2, 80, 200, 3)\n"
          ]
        }
      ],
      "source": [
        "# a = tf.constant( np.empty((1, ch, cw, 3)), dtype='float32')\n",
        "# b = tf.constant([[0, 0, 0]])\n",
        "# c = tf.constant( np.empty((1, ch, cw, 3)), dtype='float32')\n",
        "\n",
        "\n",
        "# x = tf.concat([a, c], 0)\n",
        "# # print(x.eval(session=tf.compat.v1.Session()))\n",
        "# print(x.shape)"
      ]
    },
    {
      "cell_type": "code",
      "execution_count": null,
      "metadata": {
        "id": "N-nD7bwuS6XM"
      },
      "outputs": [],
      "source": [
        "# import re\n",
        "# file1 = open('./results/gt.txt', 'r')\n",
        "# Lines = file1.readlines()\n",
        "\n",
        "\n",
        "# data_F = [] # np.array([])#np.empty((n, ch, cw, 3))\n",
        "# data_L = [] # np.array([])\n",
        "\n",
        "# n = 0\n",
        "# count = 0\n",
        "# # Strips the newline character\n",
        "# for i,line in enumerate(Lines[0:2000]):\n",
        "#     d = re.split('\\t', line)\n",
        "#     d[1] = d[1].replace('\\n','')\n",
        "\n",
        "#     img = loadImage(f'results/{d[0]}')\n",
        "#     #img = load_img(f'results/{d[0]}')\n",
        "\n",
        "#     # if( img.shape[0] <= ch and img.shape[0] >= 20 and img.shape[1] <= cw and img.shape[1] >= 80):\n",
        "\n",
        "#     n += 1\n",
        "#     # loaded_image = img.astype(np.uint8)\n",
        "#     # loaded_image = np.array(negative_pad_image(img, ch, cw))\n",
        "\n",
        "#     # data_F[i] = loaded_image\n",
        "#     # data_L = np.append(data_L, d[1])\n",
        "\n",
        "#     # loaded_image = scale_resize_image(img)\n",
        "#     # loaded_image = loaded_image / 255\n",
        "#     data_F.append(img)\n",
        "#     data_L.append(d[1])\n",
        "\n",
        "\n",
        "# data_F = np.array(data_F)\n",
        "# data_L = np.array(data_L)\n",
        "# data_F.reshape(2000, 80, 200, 3)\n",
        "# print(data_F.shape)\n",
        "# # Image.fromarray(np.uint8(data_F[0])).convert('RGB')\n",
        "# #plt.imshow( data_F[0].eval(session=tf.compat.v1.Session()) )\n",
        "\n",
        "\n",
        "# # img = sample_image.astype(np.uint8) \n",
        "# # img = np.array(negative_pad_image(img, ch, cw))\n",
        "# # plt.imshow(img)\n",
        "\n",
        "# plt.imshow(data_F[0])"
      ]
    },
    {
      "cell_type": "code",
      "source": [
        "import os\n",
        "\n",
        "\n",
        "data_F = []\n",
        "data_L = []\n",
        "\n",
        "n_images = len( os.listdir(\"./out\"))\n",
        "n_images = 30000\n",
        "\n",
        "for fi in os.listdir(\"./out\")[0:n_images]:\n",
        "    d = re.split('_', fi)\n",
        "\n",
        "    img = loadImage(f'./out/{fi}')\n",
        "\n",
        "    data_F.append(img)\n",
        "    data_L.append(d[1])\n",
        "\n",
        "data_F = np.array(data_F)\n",
        "data_L = np.array(data_L)\n",
        "data_F.reshape(n_images, ch, cw, 3)\n",
        "print(data_F.shape)\n",
        "plt.imshow(data_F[0])"
      ],
      "metadata": {
        "colab": {
          "base_uri": "https://localhost:8080/",
          "height": 221
        },
        "id": "pchX48ZamnDR",
        "outputId": "9c12b30a-a9f9-453f-dc3c-c59bd6562df6"
      },
      "execution_count": 16,
      "outputs": [
        {
          "output_type": "stream",
          "name": "stdout",
          "text": [
            "(30000, 40, 100, 3)\n"
          ]
        },
        {
          "output_type": "execute_result",
          "data": {
            "text/plain": [
              "<matplotlib.image.AxesImage at 0x7f37be9dde50>"
            ]
          },
          "metadata": {},
          "execution_count": 16
        },
        {
          "output_type": "display_data",
          "data": {
            "text/plain": [
              "<Figure size 432x288 with 1 Axes>"
            ],
            "image/png": "[encoded data removed]"
          },
          "metadata": {
            "needs_background": "light"
          }
        }
      ]
    },
    {
      "cell_type": "code",
      "source": [
        "n = n_images"
      ],
      "metadata": {
        "id": "oQvANXqhn91u"
      },
      "execution_count": 17,
      "outputs": []
    },
    {
      "cell_type": "code",
      "execution_count": null,
      "metadata": {
        "id": "-8BUkDmHsVhx"
      },
      "outputs": [],
      "source": [
        "# # data_F[0].eval(session=tf.compat.v1.Session())\n",
        "# print(data_F.shape)\n",
        "# print(n)\n",
        "# print(len(Lines))"
      ]
    },
    {
      "cell_type": "code",
      "execution_count": 71,
      "metadata": {
        "id": "EiSWPt8rgYBT"
      },
      "outputs": [],
      "source": [
        "# plt.imshow(data_F[0])\n",
        "\n",
        "# # print(data_F[10])\n",
        "# print(data_L[10])\n",
        "# print(x.shape)\n",
        "# print(img.shape)"
      ]
    },
    {
      "cell_type": "code",
      "execution_count": 37,
      "metadata": {
        "id": "jF7IUwQ4tq5e"
      },
      "outputs": [],
      "source": [
        "#alphabet = 'abcdefghijklmnopqrstuvwxyzABCDEFGHIJKLMNOPQRSTUVWXYZ./:;,\\'\"-_1234567890?!)(][}{><=*@#$%^&|~+`'\n",
        "alphabet = 'abcdefghijklmnopqrstuvwxyzABCDEFGHIJKLMNOPQRSTUVWXYZ_-1234567890.'\n",
        "alph_num = re.split('', alphabet)\n",
        "alph_dict = dict({})\n",
        "\n",
        "# alph_num.pop(0)\n",
        "for j, c in enumerate(alph_num):\n",
        "  alph_dict[c] = j"
      ]
    },
    {
      "cell_type": "code",
      "execution_count": 38,
      "metadata": {
        "colab": {
          "base_uri": "https://localhost:8080/"
        },
        "id": "7-zdBwXRvZCX",
        "outputId": "06802be4-0f2e-4524-e44a-dd2532b79d7b"
      },
      "outputs": [
        {
          "output_type": "execute_result",
          "data": {
            "text/plain": [
              "[28, 5, 20, 20, 5, 18]"
            ]
          },
          "metadata": {},
          "execution_count": 38
        }
      ],
      "source": [
        "s = 'Better'\n",
        "alph_dict\n",
        "_id = list(map(lambda c: alph_dict[c], s))\n",
        "_id\n",
        "# data_L_dist = to_categorical(data_L[0])"
      ]
    },
    {
      "cell_type": "code",
      "execution_count": 39,
      "metadata": {
        "colab": {
          "base_uri": "https://localhost:8080/"
        },
        "id": "wtqgbz_zeYd1",
        "outputId": "f557b1fa-e7d3-47c9-a895-b62620c38421"
      },
      "outputs": [
        {
          "output_type": "execute_result",
          "data": {
            "text/plain": [
              "66"
            ]
          },
          "metadata": {},
          "execution_count": 39
        }
      ],
      "source": [
        "len(alph_dict)"
      ]
    },
    {
      "cell_type": "code",
      "execution_count": 40,
      "metadata": {
        "id": "pUNOAafDwDRa"
      },
      "outputs": [],
      "source": [
        "m = lambda x: [alph_dict[c] for c in x]\n",
        "\n",
        "data_L_id = np.zeros((n,25))\n",
        "for k,data in enumerate(data_L):\n",
        "  # data = data.lower()\n",
        "  ids = m(data)\n",
        "  # data_L_id = np.append(data_L_id, [ids], axis=0)\n",
        "  data_L_id[k][0:len(ids)] = ids[:]\n",
        "  # data_L_id = np.append(data_L_id, m(data), axis=0)"
      ]
    },
    {
      "cell_type": "code",
      "execution_count": 41,
      "metadata": {
        "id": "buO-b82007pM"
      },
      "outputs": [],
      "source": [
        "data_L_dist = to_categorical(data_L_id)"
      ]
    },
    {
      "cell_type": "code",
      "execution_count": 42,
      "metadata": {
        "colab": {
          "base_uri": "https://localhost:8080/"
        },
        "id": "pO_Z5df91C5U",
        "outputId": "52715ec4-92b1-4e0e-ab44-5550f490eea3"
      },
      "outputs": [
        {
          "output_type": "execute_result",
          "data": {
            "text/plain": [
              "(30000, 25, 66)"
            ]
          },
          "metadata": {},
          "execution_count": 42
        }
      ],
      "source": [
        "data_L_dist.shape"
      ]
    },
    {
      "cell_type": "code",
      "execution_count": 43,
      "metadata": {
        "colab": {
          "base_uri": "https://localhost:8080/"
        },
        "id": "DoQzXJsSoHmP",
        "outputId": "055d875c-e192-43b8-88ed-53ceaf549f53"
      },
      "outputs": [
        {
          "output_type": "execute_result",
          "data": {
            "text/plain": [
              "(30000, 40, 100, 3)"
            ]
          },
          "metadata": {},
          "execution_count": 43
        }
      ],
      "source": [
        "data_F.shape"
      ]
    },
    {
      "cell_type": "code",
      "execution_count": 44,
      "metadata": {
        "colab": {
          "base_uri": "https://localhost:8080/"
        },
        "id": "mvu24rQg1G2a",
        "outputId": "8a9ae0b3-2fa1-428e-f78c-02bad4f323c2"
      },
      "outputs": [
        {
          "output_type": "execute_result",
          "data": {
            "text/plain": [
              "65"
            ]
          },
          "metadata": {},
          "execution_count": 44
        }
      ],
      "source": [
        "len(alphabet)"
      ]
    },
    {
      "cell_type": "code",
      "source": [
        "# from sklearn.preprocessing import StandardScaler\n",
        "# scaler = StandardScaler()\n",
        "# data_F_scaled = data_F.reshape(n_images, 40 * 100 * 3)\n",
        "# data_F_scaled = scaler.transform(data_F_scaled)"
      ],
      "metadata": {
        "id": "yfiHx71GnlsM"
      },
      "execution_count": null,
      "outputs": []
    },
    {
      "cell_type": "code",
      "source": [
        "data_F_scaled = data_F_scaled.reshape(n_images, 40, 100, 3)"
      ],
      "metadata": {
        "id": "AJLsX8cOogRm"
      },
      "execution_count": 75,
      "outputs": []
    },
    {
      "cell_type": "markdown",
      "metadata": {
        "id": "y3mlAF8Q7ocC"
      },
      "source": [
        "### Model"
      ]
    },
    {
      "cell_type": "code",
      "execution_count": 89,
      "metadata": {
        "id": "KfOMTtB1hcdF"
      },
      "outputs": [],
      "source": [
        "train_F, test_F, train_L_dist, test_L_dist = train_test_split(data_F, data_L_dist, test_size=0.2, random_state=0)"
      ]
    },
    {
      "cell_type": "code",
      "source": [
        "# train_F, test_F, train_L_dist, test_L_dist = train_test_split(data_F_scaled, data_L_dist, test_size=0.2, random_state=0)"
      ],
      "metadata": {
        "id": "TDIZ-yGjor5V"
      },
      "execution_count": 77,
      "outputs": []
    },
    {
      "cell_type": "markdown",
      "source": [
        ""
      ],
      "metadata": {
        "id": "f_-s_UKlos3t"
      }
    },
    {
      "cell_type": "code",
      "execution_count": 78,
      "metadata": {
        "colab": {
          "base_uri": "https://localhost:8080/"
        },
        "id": "17RoiGw_hsWY",
        "outputId": "89eebf85-6d47-4d0f-c606-743f22509c86"
      },
      "outputs": [
        {
          "output_type": "execute_result",
          "data": {
            "text/plain": [
              "((24000, 40, 100, 3), (6000, 40, 100, 3), (24000, 25, 66), (6000, 25, 66))"
            ]
          },
          "metadata": {},
          "execution_count": 78
        }
      ],
      "source": [
        "train_F.shape, test_F.shape, train_L_dist.shape, test_L_dist.shape"
      ]
    },
    {
      "cell_type": "code",
      "execution_count": 79,
      "metadata": {
        "id": "uSttdlwhg4Nx"
      },
      "outputs": [],
      "source": [
        "# With data augmentation to prevent overfitting\n",
        "\n",
        "datagen = ImageDataGenerator(\n",
        "        # featurewise_center=False,  # set input mean to 0 over the dataset\n",
        "        # samplewise_center=False,  # set each sample mean to 0\n",
        "        # featurewise_std_normalization=False,  # divide inputs by std of the dataset\n",
        "        # samplewise_std_normalization=False,  # divide each input by its std\n",
        "        # zca_whitening=False,  # apply ZCA whitening\n",
        "        # rotation_range=0,  # randomly rotate images in the range (degrees, 0 to 180)\n",
        "        # zoom_range = 0.01, # Randomly zoom image \n",
        "        # width_shift_range=0.1,  # randomly shift images horizontally (fraction of total width)\n",
        "        # height_shift_range=0.1,  # randomly shift images vertically (fraction of total height)\n",
        "        horizontal_flip=False,  # randomly flip images\n",
        "        vertical_flip=False)  # randomly flip images\n",
        "\n",
        "\n",
        "#datagen.fit(X_train)\n",
        "train_gen = datagen.flow(train_F, train_L_dist, batch_size=10)\n",
        "test_gen = datagen.flow(test_F, test_L_dist, batch_size=10)"
      ]
    },
    {
      "cell_type": "code",
      "execution_count": 80,
      "metadata": {
        "id": "map673iJhIgl"
      },
      "outputs": [],
      "source": [
        "epochs = 100\n",
        "batch_size = 128\n",
        "train_steps = train_F.shape[0] // batch_size\n",
        "valid_steps = test_F.shape[0] // batch_size\n",
        "\n",
        "es = keras.callbacks.EarlyStopping(\n",
        "        monitor=\"val_acc\", # metrics to monitor\n",
        "        patience=10, # how many epochs before stop\n",
        "        verbose=1,\n",
        "        mode=\"max\", # we need the maximum accuracy.\n",
        "        restore_best_weights=True, # \n",
        "     )\n",
        "\n",
        "rp = keras.callbacks.ReduceLROnPlateau(\n",
        "        monitor=\"val_acc\",\n",
        "        factor=0.2,\n",
        "        patience=3,\n",
        "        verbose=1,\n",
        "        mode=\"max\",\n",
        "        min_lr=0.00001,\n",
        "     )"
      ]
    },
    {
      "cell_type": "code",
      "execution_count": 90,
      "metadata": {
        "colab": {
          "base_uri": "https://localhost:8080/"
        },
        "id": "qmORo5YJdqLH",
        "outputId": "33456206-6938-493f-9f93-299bdebf924c"
      },
      "outputs": [
        {
          "output_type": "stream",
          "name": "stdout",
          "text": [
            "Model: \"model_9\"\n",
            "__________________________________________________________________________________________________\n",
            "Layer (type)                    Output Shape         Param #     Connected to                     \n",
            "==================================================================================================\n",
            "the_input (InputLayer)          (None, 40, 100, 3)   0                                            \n",
            "__________________________________________________________________________________________________\n",
            "conv1 (Conv2D)                  (None, 40, 100, 16)  448         the_input[0][0]                  \n",
            "__________________________________________________________________________________________________\n",
            "max1 (MaxPooling2D)             (None, 20, 50, 16)   0           conv1[0][0]                      \n",
            "__________________________________________________________________________________________________\n",
            "conv2 (Conv2D)                  (None, 20, 50, 16)   2320        max1[0][0]                       \n",
            "__________________________________________________________________________________________________\n",
            "max2 (MaxPooling2D)             (None, 10, 25, 16)   0           conv2[0][0]                      \n",
            "__________________________________________________________________________________________________\n",
            "reshape (Reshape)               (None, 25, 160)      0           max2[0][0]                       \n",
            "__________________________________________________________________________________________________\n",
            "dense1 (Dense)                  (None, 25, 32)       5152        reshape[0][0]                    \n",
            "__________________________________________________________________________________________________\n",
            "gru1 (GRU)                      (None, 25, 512)      837120      dense1[0][0]                     \n",
            "__________________________________________________________________________________________________\n",
            "gru1_b (GRU)                    (None, 25, 512)      837120      dense1[0][0]                     \n",
            "__________________________________________________________________________________________________\n",
            "add_9 (Add)                     (None, 25, 512)      0           gru1[0][0]                       \n",
            "                                                                 gru1_b[0][0]                     \n",
            "__________________________________________________________________________________________________\n",
            "gru2 (GRU)                      (None, 25, 512)      1574400     add_9[0][0]                      \n",
            "__________________________________________________________________________________________________\n",
            "gru2_b (GRU)                    (None, 25, 512)      1574400     add_9[0][0]                      \n",
            "__________________________________________________________________________________________________\n",
            "concatenate_9 (Concatenate)     (None, 25, 1024)     0           gru2[0][0]                       \n",
            "                                                                 gru2_b[0][0]                     \n",
            "__________________________________________________________________________________________________\n",
            "dense2 (Dense)                  (None, 25, 66)       67650       concatenate_9[0][0]              \n",
            "__________________________________________________________________________________________________\n",
            "softmax (Activation)            (None, 25, 66)       0           dense2[0][0]                     \n",
            "==================================================================================================\n",
            "Total params: 4,898,610\n",
            "Trainable params: 4,898,610\n",
            "Non-trainable params: 0\n",
            "__________________________________________________________________________________________________\n"
          ]
        }
      ],
      "source": [
        "img_w = cw\n",
        "img_h = ch\n",
        "words_per_epoch = 16000\n",
        "val_split = 0.2\n",
        "val_words = int(words_per_epoch * (val_split))\n",
        "\n",
        "# Network parameters\n",
        "conv_filters = 16\n",
        "kernel_size = (3, 3)\n",
        "pool_size = 2\n",
        "time_dense_size = 32\n",
        "rnn_size = 512\n",
        "\n",
        "input_shape = (ch, cw, 3)\n",
        "\n",
        "act = 'relu'\n",
        "input_data = Input(name='the_input', shape=input_shape, dtype='float32')\n",
        "inner = Conv2D(conv_filters, kernel_size, padding='same',\n",
        "                activation=act, kernel_initializer='he_normal',\n",
        "                name='conv1')(input_data)\n",
        "inner = MaxPooling2D(pool_size=(pool_size, pool_size), name='max1')(inner)\n",
        "inner = Conv2D(conv_filters, kernel_size, padding='same',\n",
        "                activation=act, kernel_initializer='he_normal',\n",
        "                name='conv2')(inner)\n",
        "inner = MaxPooling2D(pool_size=(pool_size, pool_size), name='max2')(inner)\n",
        "\n",
        "conv_to_rnn_dims = (img_w // (pool_size ** 2),\n",
        "                    (img_h // (pool_size ** 2)) * conv_filters)\n",
        "inner = Reshape(target_shape=conv_to_rnn_dims, name='reshape')(inner)\n",
        "\n",
        "# cuts down input size going into RNN:\n",
        "inner = Dense(time_dense_size, activation=act, name='dense1')(inner)\n",
        "\n",
        "# Two layers of bidirectional GRUs\n",
        "# GRU seems to work as well, if not better than LSTM:\n",
        "gru_1 = GRU(rnn_size, return_sequences=True,\n",
        "            kernel_initializer='he_normal', name='gru1')(inner)\n",
        "gru_1b = GRU(rnn_size, return_sequences=True,\n",
        "              go_backwards=True, kernel_initializer='he_normal',\n",
        "              name='gru1_b')(inner)\n",
        "gru1_merged = add([gru_1, gru_1b])\n",
        "gru_2 = GRU(rnn_size, return_sequences=True,\n",
        "            kernel_initializer='he_normal', name='gru2')(gru1_merged)\n",
        "gru_2b = GRU(rnn_size, return_sequences=True, go_backwards=True,\n",
        "              kernel_initializer='he_normal', name='gru2_b')(gru1_merged)\n",
        "\n",
        "# transforms RNN output to character activations:\n",
        "inner = Dense(\n",
        "              len(alphabet) + 1, \n",
        "              kernel_initializer='he_normal',\n",
        "              name='dense2')(concatenate([gru_2, gru_2b])\n",
        "            )\n",
        "y_pred = Activation('softmax', name='softmax')(inner)\n",
        "\n",
        "prediction_model = Model(inputs=input_data, outputs=y_pred)\n",
        "prediction_model.compile(loss=\"categorical_crossentropy\", optimizer=\"adam\", metrics=[\"accuracy\"])\n",
        "\n",
        "prediction_model.summary()"
      ]
    },
    {
      "cell_type": "code",
      "execution_count": 82,
      "metadata": {
        "id": "Iz8dwy5zsixD"
      },
      "outputs": [],
      "source": [
        "# prediction_model.fit(\n",
        "#     data_F, \n",
        "#     data_L_dist, \n",
        "#     validation_split=0.2,\n",
        "#     shuffle=True,\n",
        "#     epochs=10\n",
        "#   )"
      ]
    },
    {
      "cell_type": "code",
      "execution_count": null,
      "metadata": {
        "colab": {
          "base_uri": "https://localhost:8080/"
        },
        "id": "tKYW4qqlI6yt",
        "outputId": "6e2a2610-d3d3-4ee4-8ca2-4158e587e661"
      },
      "outputs": [
        {
          "output_type": "stream",
          "name": "stdout",
          "text": [
            "Epoch 1/10\n",
            "187/187 [==============================] - 117s 627ms/step - loss: 0.7005 - acc: 0.7532 - val_loss: 0.5735 - val_acc: 0.7856\n",
            "Epoch 2/10\n",
            "187/187 [==============================] - 108s 577ms/step - loss: 0.5769 - acc: 0.7791 - val_loss: 0.5700 - val_acc: 0.7840\n",
            "Epoch 3/10\n",
            "187/187 [==============================] - 108s 580ms/step - loss: 0.5731 - acc: 0.7812 - val_loss: 0.5820 - val_acc: 0.7639\n",
            "Epoch 4/10\n",
            "187/187 [==============================] - 103s 552ms/step - loss: 0.5754 - acc: 0.7786 - val_loss: 0.5714 - val_acc: 0.7816\n",
            "\n",
            "Epoch 00004: ReduceLROnPlateau reducing learning rate to 0.00020000000949949026.\n",
            "Epoch 5/10\n",
            "187/187 [==============================] - 101s 539ms/step - loss: 0.5621 - acc: 0.7831 - val_loss: 0.5564 - val_acc: 0.7849\n",
            "Epoch 6/10\n",
            "187/187 [==============================] - 114s 607ms/step - loss: 0.5573 - acc: 0.7832 - val_loss: 0.5569 - val_acc: 0.7903\n",
            "Epoch 7/10\n",
            " 67/187 [=========>....................] - ETA: 1:03 - loss: 0.5616 - acc: 0.7811"
          ]
        }
      ],
      "source": [
        "# Fit the model\n",
        "metrics1 = prediction_model.fit_generator(train_gen, \n",
        "                              epochs = 10, \n",
        "                              steps_per_epoch = train_steps,\n",
        "                              validation_data = test_gen,\n",
        "                              validation_steps = valid_steps, \n",
        "                              callbacks=[es, rp]\n",
        "                              )"
      ]
    },
    {
      "cell_type": "code",
      "execution_count": 84,
      "metadata": {
        "colab": {
          "base_uri": "https://localhost:8080/"
        },
        "id": "3T6UPFtS2r5T",
        "outputId": "8a7a6039-cd8a-4176-f5e5-97efb93aa382"
      },
      "outputs": [
        {
          "output_type": "stream",
          "name": "stdout",
          "text": [
            "65\n",
            "(24000, 25, 66)\n"
          ]
        }
      ],
      "source": [
        "print(len(alphabet))\n",
        "print(train_L_dist.shape)"
      ]
    },
    {
      "cell_type": "markdown",
      "metadata": {
        "id": "h6Zu6CyARjYj"
      },
      "source": [
        "### Predict"
      ]
    },
    {
      "cell_type": "code",
      "execution_count": 85,
      "metadata": {
        "colab": {
          "base_uri": "https://localhost:8080/",
          "height": 203
        },
        "id": "5eYHh5xT6Ot8",
        "outputId": "8a8b843e-d24b-4034-8001-bfef332e861a"
      },
      "outputs": [
        {
          "output_type": "execute_result",
          "data": {
            "text/plain": [
              "'3000..jpg'"
            ],
            "application/vnd.google.colaboratory.intrinsic+json": {
              "type": "string"
            }
          },
          "metadata": {},
          "execution_count": 85
        },
        {
          "output_type": "display_data",
          "data": {
            "text/plain": [
              "<Figure size 432x288 with 1 Axes>"
            ],
            "image/png": "[encoded data removed]"
          },
          "metadata": {
            "needs_background": "light"
          }
        }
      ],
      "source": [
        "plt.imshow(data_F[0])\n",
        "\n",
        "yhat2 = prediction_model.predict(data_F[0].reshape(1,ch,cw,3))\n",
        "\n",
        "r = ''\n",
        "for i in range(15):\n",
        "  r += alph_num[yhat2[0][i].argmax()]\n",
        "\n",
        "r"
      ]
    },
    {
      "cell_type": "code",
      "execution_count": 86,
      "metadata": {
        "colab": {
          "base_uri": "https://localhost:8080/",
          "height": 36
        },
        "id": "6-Zp11ct0A62",
        "outputId": "8c233276-207c-4623-de4b-187124ac92fe"
      },
      "outputs": [
        {
          "output_type": "execute_result",
          "data": {
            "text/plain": [
              "'3004..jpg'"
            ],
            "application/vnd.google.colaboratory.intrinsic+json": {
              "type": "string"
            }
          },
          "metadata": {},
          "execution_count": 86
        }
      ],
      "source": [
        "sample_image = loadImage('./america.png')\n",
        "#loaded_image = np.array(negative_pad_image(img, ch, cw))\n",
        "#loaded_image = loaded_image / 255\n",
        "\n",
        "yhat2 = prediction_model.predict(sample_image.reshape(1,ch,cw,3))\n",
        "\n",
        "r = ''\n",
        "for i in range(15):\n",
        "  r += alph_num[yhat2[0][i].argmax()]\n",
        "\n",
        "r"
      ]
    },
    {
      "cell_type": "code",
      "execution_count": 87,
      "metadata": {
        "colab": {
          "base_uri": "https://localhost:8080/",
          "height": 460
        },
        "id": "QZ3WPrlJEASE",
        "outputId": "23ed3750-aa33-4f42-fb89-c8ba62d56450"
      },
      "outputs": [
        {
          "output_type": "stream",
          "name": "stdout",
          "text": [
            "(1, 25, 66)\n",
            "[[[2.07917783e-02 1.19349663e-03 4.14843293e-04 ... 5.79777360e-02\n",
            "   2.12349091e-02 3.00604030e-02]\n",
            "  [1.92793369e-01 5.05493139e-04 1.20923076e-04 ... 2.39901971e-02\n",
            "   2.27252003e-02 6.33838847e-02]\n",
            "  [7.90781081e-01 3.30758776e-05 4.92588333e-06 ... 5.84078813e-03\n",
            "   5.14588691e-03 1.02749642e-03]\n",
            "  ...\n",
            "  [9.99996662e-01 1.06663023e-09 1.03830659e-10 ... 8.05090572e-09\n",
            "   9.13382348e-09 7.71371163e-08]\n",
            "  [9.99998093e-01 1.53105040e-09 1.76383130e-10 ... 2.98556002e-09\n",
            "   3.01122105e-09 2.81408514e-08]\n",
            "  [9.99999523e-01 3.83922422e-10 4.56334796e-11 ... 7.48927365e-10\n",
            "   7.65658814e-10 5.39076517e-09]]]\n",
            "0\n"
          ]
        },
        {
          "output_type": "display_data",
          "data": {
            "text/plain": [
              "<Figure size 432x288 with 1 Axes>"
            ],
            "image/png": "[encoded data removed]"
          },
          "metadata": {
            "needs_background": "light"
          }
        }
      ],
      "source": [
        "# View sample image and predicted label together\n",
        "\n",
        "sample_image = loadImage('./results/images/0/0.jpg')\n",
        "# Image.fromarray(np.uint8(sample_image*255)).convert('RGB')\n",
        "img = sample_image.astype(np.uint8) \n",
        "#img = np.array(negative_pad_image(img, ch, cw))\n",
        "\n",
        "plt.imshow(sample_image)\n",
        "\n",
        "yhat = prediction_model.predict(img.reshape(1, ch, cw, 3))\n",
        "yhat.shape\n",
        "\n",
        "print(yhat.shape)\n",
        "print(yhat)\n",
        "print(yhat[0][3].argmax())"
      ]
    },
    {
      "cell_type": "code",
      "execution_count": 88,
      "metadata": {
        "id": "aFAhnBC0QFQu",
        "colab": {
          "base_uri": "https://localhost:8080/",
          "height": 202
        },
        "outputId": "b7c46b92-c754-45b2-eacf-24d43aa9558a"
      },
      "outputs": [
        {
          "output_type": "execute_result",
          "data": {
            "text/plain": [
              "<matplotlib.image.AxesImage at 0x7f37a5335190>"
            ]
          },
          "metadata": {},
          "execution_count": 88
        },
        {
          "output_type": "display_data",
          "data": {
            "text/plain": [
              "<Figure size 432x288 with 1 Axes>"
            ],
            "image/png": "[encoded data removed]"
          },
          "metadata": {
            "needs_background": "light"
          }
        }
      ],
      "source": [
        "x = img.astype(np.uint8)\n",
        "plt.imshow(x)"
      ]
    }
  ],
  "metadata": {
    "colab": {
      "collapsed_sections": [],
      "machine_shape": "hm",
      "name": "keras-ocr-bignumber-generator.ipynb",
      "provenance": [],
      "authorship_tag": "ABX9TyPByLMiikmVaESuNxtJPiFr",
      "include_colab_link": true
    },
    "gpuClass": "standard",
    "kernelspec": {
      "display_name": "Python 3",
      "name": "python3"
    },
    "language_info": {
      "name": "python"
    }
  },
  "nbformat": 4,
  "nbformat_minor": 0
}