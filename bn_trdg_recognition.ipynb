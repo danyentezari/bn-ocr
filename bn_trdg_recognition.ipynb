{
  "cells": [
    {
      "cell_type": "markdown",
      "metadata": {
        "id": "view-in-github",
        "colab_type": "text"
      },
      "source": [
        "<a href=\"https://colab.research.google.com/github/danyentezari/bn-ocr/blob/main/bn_trdg_recognition.ipynb\" target=\"_parent\"><img src=\"https://colab.research.google.com/assets/colab-badge.svg\" alt=\"Open In Colab\"/></a>"
      ]
    },
    {
      "cell_type": "markdown",
      "metadata": {
        "id": "FbeA_rUZ0YyR"
      },
      "source": [
        "# Handwriting recognition\n",
        "\n",
        "**Authors:** [A_K_Nain](https://twitter.com/A_K_Nain), [Sayak Paul](https://twitter.com/RisingSayak)<br>\n",
        "**Date created:** 2021/08/16<br>\n",
        "**Last modified:** 2021/08/16<br>\n",
        "**Description:** Training a handwriting recognition model with variable-length sequences."
      ]
    },
    {
      "cell_type": "markdown",
      "metadata": {
        "id": "JvO7Prla0YyT"
      },
      "source": [
        "## Introduction\n",
        "\n",
        "This example shows how the [Captcha OCR](https://keras.io/examples/vision/captcha_ocr/)\n",
        "example can be extended to the\n",
        "[IAM Dataset](https://fki.tic.heia-fr.ch/databases/iam-handwriting-database),\n",
        "which has variable length ground-truth targets. Each sample in the dataset is an image of some\n",
        "handwritten text, and its corresponding target is the string present in the image.\n",
        "The IAM Dataset is widely used across many OCR benchmarks, so we hope this example can serve as a\n",
        "good starting point for building OCR systems."
      ]
    },
    {
      "cell_type": "markdown",
      "metadata": {
        "id": "dq5XNvtF0YyU"
      },
      "source": [
        "## Data collection"
      ]
    },
    {
      "cell_type": "code",
      "execution_count": null,
      "metadata": {
        "id": "ryveaWlC0YyV"
      },
      "outputs": [],
      "source": [
        "!wget -q https://git.io/J0fjL -O IAM_Words.zip\n",
        "!unzip -qq IAM_Words.zip\n",
        "!\n",
        "!mkdir data\n",
        "!mkdir data/words\n",
        "!tar -xf IAM_Words/words.tgz -C data/words\n",
        "!mv IAM_Words/words.txt data"
      ]
    },
    {
      "cell_type": "code",
      "source": [
        "# !pip install keras==2.2.5\n",
        "# !pip install tensorflow==1.13.1\n",
        "# !pip install 'h5py==2.10.0' --force-reinstall"
      ],
      "metadata": {
        "id": "23uWKTnHd-Uh"
      },
      "execution_count": null,
      "outputs": []
    },
    {
      "cell_type": "code",
      "source": [
        "!pip install cairocffi\n",
        "!pip install gdown\n",
        "!pip install synthtiger"
      ],
      "metadata": {
        "id": "-yV13uJ7iGHV"
      },
      "execution_count": null,
      "outputs": []
    },
    {
      "cell_type": "code",
      "source": [
        "# !rm -r ./out"
      ],
      "metadata": {
        "id": "YPOGaNTJdWyi"
      },
      "execution_count": null,
      "outputs": []
    },
    {
      "cell_type": "code",
      "source": [
        "!pip install trdg"
      ],
      "metadata": {
        "id": "UEMcCdbwcHKv"
      },
      "execution_count": null,
      "outputs": []
    },
    {
      "cell_type": "code",
      "source": [
        "!trdg -c 20000 -w 5 -f 64 --length 1"
      ],
      "metadata": {
        "colab": {
          "base_uri": "https://localhost:8080/"
        },
        "id": "hqhPnvh_csfk",
        "outputId": "54362f56-4ca7-4d34-8bd0-3af872c364f3"
      },
      "execution_count": 88,
      "outputs": [
        {
          "output_type": "stream",
          "name": "stdout",
          "text": [
            "100% 20000/20000 [14:07<00:00, 23.61it/s]\n"
          ]
        }
      ]
    },
    {
      "cell_type": "markdown",
      "metadata": {
        "id": "qHG7r8A60YyY"
      },
      "source": [
        "## Imports"
      ]
    },
    {
      "cell_type": "code",
      "execution_count": null,
      "metadata": {
        "id": "d2XqsF-f0YyY"
      },
      "outputs": [],
      "source": [
        "from tensorflow.keras.layers.experimental.preprocessing import StringLookup\n",
        "from tensorflow import keras\n",
        "\n",
        "import matplotlib.pyplot as plt\n",
        "import tensorflow as tf\n",
        "import numpy as np\n",
        "import os\n",
        "\n",
        "np.random.seed(42)\n",
        "tf.random.set_seed(42)"
      ]
    },
    {
      "cell_type": "markdown",
      "metadata": {
        "id": "r1W0vPvC0YyZ"
      },
      "source": [
        "## Dataset splitting"
      ]
    },
    {
      "cell_type": "code",
      "execution_count": null,
      "metadata": {
        "id": "NuKy0OrX0Yyb"
      },
      "outputs": [],
      "source": [
        "base_path = \"data\"\n",
        "words_list = []\n",
        "\n",
        "words = open(f\"{base_path}/words.txt\", \"r\").readlines()\n",
        "for line in words:\n",
        "    if line[0] == \"#\":\n",
        "        continue\n",
        "    if line.split(\" \")[1] != \"err\":  # We don't need to deal with errored entries.\n",
        "        words_list.append(line)\n",
        "\n",
        "len(words_list)\n",
        "\n",
        "np.random.shuffle(words_list)"
      ]
    },
    {
      "cell_type": "code",
      "source": [
        "words_list[0:5]"
      ],
      "metadata": {
        "colab": {
          "base_uri": "https://localhost:8080/"
        },
        "id": "Hqwdm7YHp2Rm",
        "outputId": "38d91ad1-744b-4ab8-9181-3c9ca8d3f812"
      },
      "execution_count": null,
      "outputs": [
        {
          "output_type": "execute_result",
          "data": {
            "text/plain": [
              "['e04-030-04-08 ok 170 1489 1499 120 39 JJ sure\\n',\n",
              " 'k02-102-05-03 ok 182 836 1623 69 52 PP3A he\\n',\n",
              " 'a01-082u-01-04 ok 172 1582 1043 234 88 IN during\\n',\n",
              " 'm01-000-07-00 ok 196 339 1998 75 107 INO of\\n',\n",
              " 'g01-031-07-06 ok 152 1912 2038 167 59 NN booty\\n']"
            ]
          },
          "metadata": {},
          "execution_count": 11
        }
      ]
    },
    {
      "cell_type": "markdown",
      "metadata": {
        "id": "-HGPu-SX0Yyc"
      },
      "source": [
        "We will split the dataset into three subsets with a 90:5:5 ratio (train:validation:test)."
      ]
    },
    {
      "cell_type": "code",
      "execution_count": null,
      "metadata": {
        "id": "GSYv7cTp0Yyc",
        "outputId": "389ee3d5-f7ee-49e8-a35f-c9b8b9934101",
        "colab": {
          "base_uri": "https://localhost:8080/"
        }
      },
      "outputs": [
        {
          "output_type": "stream",
          "name": "stdout",
          "text": [
            "Total training samples: 86810\n",
            "Total validation samples: 4823\n",
            "Total test samples: 4823\n"
          ]
        }
      ],
      "source": [
        "split_idx = int(0.9 * len(words_list))\n",
        "train_samples = words_list[:split_idx]\n",
        "test_samples = words_list[split_idx:]\n",
        "\n",
        "val_split_idx = int(0.5 * len(test_samples))\n",
        "validation_samples = test_samples[:val_split_idx]\n",
        "test_samples = test_samples[val_split_idx:]\n",
        "\n",
        "assert len(words_list) == len(train_samples) + len(validation_samples) + len(\n",
        "    test_samples\n",
        ")\n",
        "\n",
        "print(f\"Total training samples: {len(train_samples)}\")\n",
        "print(f\"Total validation samples: {len(validation_samples)}\")\n",
        "print(f\"Total test samples: {len(test_samples)}\")"
      ]
    },
    {
      "cell_type": "code",
      "source": [
        "train_samples[0:5]"
      ],
      "metadata": {
        "colab": {
          "base_uri": "https://localhost:8080/"
        },
        "id": "3zhwV5MlqFpO",
        "outputId": "05570186-d171-4ee3-b4b5-bcf598ee04b1"
      },
      "execution_count": null,
      "outputs": [
        {
          "output_type": "execute_result",
          "data": {
            "text/plain": [
              "['e04-030-04-08 ok 170 1489 1499 120 39 JJ sure\\n',\n",
              " 'k02-102-05-03 ok 182 836 1623 69 52 PP3A he\\n',\n",
              " 'a01-082u-01-04 ok 172 1582 1043 234 88 IN during\\n',\n",
              " 'm01-000-07-00 ok 196 339 1998 75 107 INO of\\n',\n",
              " 'g01-031-07-06 ok 152 1912 2038 167 59 NN booty\\n']"
            ]
          },
          "metadata": {},
          "execution_count": 14
        }
      ]
    },
    {
      "cell_type": "markdown",
      "metadata": {
        "id": "L3Q0XFXm0Yyc"
      },
      "source": [
        "## Data input pipeline\n",
        "\n",
        "We start building our data input pipeline by first preparing the image paths."
      ]
    },
    {
      "cell_type": "code",
      "execution_count": null,
      "metadata": {
        "id": "uGAWpUPC0Yye"
      },
      "outputs": [],
      "source": [
        "base_image_path = os.path.join(base_path, \"words\")\n",
        "\n",
        "\n",
        "def get_image_paths_and_labels(samples):\n",
        "    paths = []\n",
        "    corrected_samples = []\n",
        "    for (i, file_line) in enumerate(samples):\n",
        "        line_split = file_line.strip()\n",
        "        line_split = line_split.split(\" \")\n",
        "\n",
        "        # Each line split will have this format for the corresponding image:\n",
        "        # part1/part1-part2/part1-part2-part3.png\n",
        "        image_name = line_split[0]\n",
        "        partI = image_name.split(\"-\")[0]\n",
        "        partII = image_name.split(\"-\")[1]\n",
        "        img_path = os.path.join(\n",
        "            base_image_path, partI, partI + \"-\" + partII, image_name + \".png\"\n",
        "        )\n",
        "        if os.path.getsize(img_path):\n",
        "            paths.append(img_path)\n",
        "            corrected_samples.append(file_line.split(\"\\n\")[0])\n",
        "\n",
        "    return paths, corrected_samples\n",
        "\n",
        "\n",
        "train_img_paths, train_labels = get_image_paths_and_labels(train_samples)\n",
        "validation_img_paths, validation_labels = get_image_paths_and_labels(validation_samples)\n",
        "test_img_paths, test_labels = get_image_paths_and_labels(test_samples)"
      ]
    },
    {
      "cell_type": "markdown",
      "metadata": {
        "id": "mmDhj9Ek0Yye"
      },
      "source": [
        "Then we prepare the ground-truth labels."
      ]
    },
    {
      "cell_type": "code",
      "execution_count": null,
      "metadata": {
        "id": "62uwiQ1z0Yye",
        "outputId": "2dde20de-910a-4b93-ddfd-50a73939a512",
        "colab": {
          "base_uri": "https://localhost:8080/"
        }
      },
      "outputs": [
        {
          "output_type": "stream",
          "name": "stdout",
          "text": [
            "Maximum length:  21\n",
            "Vocab size:  78\n"
          ]
        },
        {
          "output_type": "execute_result",
          "data": {
            "text/plain": [
              "['sure',\n",
              " 'he',\n",
              " 'during',\n",
              " 'of',\n",
              " 'booty',\n",
              " 'gastronomy',\n",
              " 'boy',\n",
              " 'The',\n",
              " 'and',\n",
              " 'in']"
            ]
          },
          "metadata": {},
          "execution_count": 17
        }
      ],
      "source": [
        "# Find maximum length and the size of the vocabulary in the training data.\n",
        "train_labels_cleaned = []\n",
        "characters = set()\n",
        "max_len = 0\n",
        "\n",
        "for label in train_labels:\n",
        "    label = label.split(\" \")[-1].strip()\n",
        "    for char in label:\n",
        "        characters.add(char)\n",
        "\n",
        "    max_len = max(max_len, len(label))\n",
        "    train_labels_cleaned.append(label)\n",
        "\n",
        "characters = sorted(list(characters))\n",
        "\n",
        "print(\"Maximum length: \", max_len)\n",
        "print(\"Vocab size: \", len(characters))\n",
        "\n",
        "# Check some label samples.\n",
        "train_labels_cleaned[:10]"
      ]
    },
    {
      "cell_type": "code",
      "source": [
        "train_img_paths[0:6]"
      ],
      "metadata": {
        "colab": {
          "base_uri": "https://localhost:8080/"
        },
        "id": "_iwF7gFkqjdJ",
        "outputId": "7408233a-fe40-4cc0-dc72-c550d1dcc9ae"
      },
      "execution_count": null,
      "outputs": [
        {
          "output_type": "execute_result",
          "data": {
            "text/plain": [
              "['data/words/e04/e04-030/e04-030-04-08.png',\n",
              " 'data/words/k02/k02-102/k02-102-05-03.png',\n",
              " 'data/words/a01/a01-082u/a01-082u-01-04.png',\n",
              " 'data/words/m01/m01-000/m01-000-07-00.png',\n",
              " 'data/words/g01/g01-031/g01-031-07-06.png',\n",
              " 'data/words/f07/f07-081b/f07-081b-01-06.png']"
            ]
          },
          "metadata": {},
          "execution_count": 18
        }
      ]
    },
    {
      "cell_type": "markdown",
      "metadata": {
        "id": "cMfr0p6I0Yye"
      },
      "source": [
        "Now we clean the validation and the test labels as well."
      ]
    },
    {
      "cell_type": "markdown",
      "source": [
        "## TRDG Data"
      ],
      "metadata": {
        "id": "Uw1CUFOttQ7a"
      }
    },
    {
      "cell_type": "code",
      "source": [
        "import os\n",
        "\n",
        "\n",
        "data_F = []\n",
        "data_L = []\n",
        "\n",
        "n_images = len( os.listdir(\"./out\"))\n",
        "# n_images = 30000\n",
        "\n",
        "max_width = 0\n",
        "\n",
        "for fi in os.listdir(\"./out\")[0:n_images]:\n",
        "    d = re.split('_', fi)\n",
        "    data_F.append(f'out/{fi}')\n",
        "    data_L.append(d[0])"
      ],
      "metadata": {
        "id": "pLUVv7q_tZUg"
      },
      "execution_count": 89,
      "outputs": []
    },
    {
      "cell_type": "code",
      "source": [
        "#alphabet = 'abcdefghijklmnopqrstuvwxyzABCDEFGHIJKLMNOPQRSTUVWXYZ./:;,\\'\"-_1234567890?!)(][}{><=*@#$%^&|~+`'\n",
        "alphabet = 'abcdefghijklmnopqrstuvwxyzABCDEFGHIJKLMNOPQRSTUVWXYZ_-1234567890.'\n",
        "alph_num = re.split('', alphabet)\n",
        "alph_dict = dict({})\n",
        "\n",
        "# alph_num.pop(0)\n",
        "for j, c in enumerate(alph_num):\n",
        "  alph_dict[c] = j"
      ],
      "metadata": {
        "id": "9qUc44wlvHMO"
      },
      "execution_count": 90,
      "outputs": []
    },
    {
      "cell_type": "code",
      "source": [
        "import re\n",
        "num_to_char(char_to_num( re.split(\"\", \"america\"))[1:])"
      ],
      "metadata": {
        "colab": {
          "base_uri": "https://localhost:8080/"
        },
        "id": "MgXvs50RnoBj",
        "outputId": "a4b2ced5-c625-4652-e626-22f58c98c87c"
      },
      "execution_count": 91,
      "outputs": [
        {
          "output_type": "execute_result",
          "data": {
            "text/plain": [
              "<tf.Tensor: shape=(8,), dtype=string, numpy=array([b'a', b'm', b'e', b'r', b'i', b'c', b'a', b'[UNK]'], dtype=object)>"
            ]
          },
          "metadata": {},
          "execution_count": 91
        }
      ]
    },
    {
      "cell_type": "code",
      "source": [
        "characters = set()\n",
        "max_len = 0\n",
        "\n",
        "for label in data_L:\n",
        "    for char in label:\n",
        "        characters.add(char)\n",
        "\n",
        "    max_len = max(max_len, len(label))\n",
        "    train_labels_cleaned.append(label)\n",
        "\n",
        "characters = sorted(list(characters))\n"
      ],
      "metadata": {
        "id": "-KNDsEtgvxu8"
      },
      "execution_count": 92,
      "outputs": []
    },
    {
      "cell_type": "code",
      "execution_count": 93,
      "metadata": {
        "id": "K7gd8YFU0Yyg"
      },
      "outputs": [],
      "source": [
        "\n",
        "# def clean_labels(labels):\n",
        "#     cleaned_labels = []\n",
        "#     for label in labels:\n",
        "#         label = label.split(\" \")[-1].strip()\n",
        "#         cleaned_labels.append(label)\n",
        "#     return cleaned_labels\n",
        "\n",
        "\n",
        "# validation_labels_cleaned = clean_labels(validation_labels)\n",
        "# test_labels_cleaned = clean_labels(test_labels)"
      ]
    },
    {
      "cell_type": "markdown",
      "metadata": {
        "id": "TdLHhtSZ0Yyg"
      },
      "source": [
        "### Building the character vocabulary\n",
        "\n",
        "Keras provides different preprocessing layers to deal with different modalities of data.\n",
        "[This guide](https://keras.io/guides/preprocessing_layers/) provides a comprehensive introduction.\n",
        "Our example involves preprocessing labels at the character\n",
        "level. This means that if there are two labels, e.g. \"cat\" and \"dog\", then our character\n",
        "vocabulary should be {a, c, d, g, o, t} (without any special tokens). We use the\n",
        "[`StringLookup`](https://keras.io/api/layers/preprocessing_layers/categorical/string_lookup/)\n",
        "layer for this purpose."
      ]
    },
    {
      "cell_type": "code",
      "execution_count": 94,
      "metadata": {
        "id": "62pTu4T80Yyg"
      },
      "outputs": [],
      "source": [
        "\n",
        "AUTOTUNE = tf.data.AUTOTUNE\n",
        "\n",
        "# Mapping characters to integers.\n",
        "char_to_num = StringLookup(vocabulary=list(characters), mask_token=None)\n",
        "\n",
        "# Mapping integers back to original characters.\n",
        "num_to_char = StringLookup(\n",
        "    vocabulary=char_to_num.get_vocabulary(), mask_token=None, invert=True\n",
        ")"
      ]
    },
    {
      "cell_type": "markdown",
      "metadata": {
        "id": "aPSy4jsW0Yyg"
      },
      "source": [
        "### Resizing images without distortion\n",
        "\n",
        "Instead of square images, many OCR models work with rectangular images. This will become\n",
        "clearer in a moment when we will visualize a few samples from the dataset. While\n",
        "aspect-unaware resizing square images does not introduce a significant amount of\n",
        "distortion this is not the case for rectangular images. But resizing images to a uniform\n",
        "size is a requirement for mini-batching. So we need to perform our resizing such that\n",
        "the following criteria are met:\n",
        "\n",
        "* Aspect ratio is preserved.\n",
        "* Content of the images is not affected."
      ]
    },
    {
      "cell_type": "code",
      "execution_count": 95,
      "metadata": {
        "id": "En2JnFc80Yyg"
      },
      "outputs": [],
      "source": [
        "\n",
        "def distortion_free_resize(image, img_size):\n",
        "    w, h = img_size\n",
        "    image = tf.image.resize(image, size=(h, w), preserve_aspect_ratio=True)\n",
        "\n",
        "    # Check tha amount of padding needed to be done.\n",
        "    pad_height = h - tf.shape(image)[0]\n",
        "    pad_width = w - tf.shape(image)[1]\n",
        "\n",
        "    # Only necessary if you want to do same amount of padding on both sides.\n",
        "    if pad_height % 2 != 0:\n",
        "        height = pad_height // 2\n",
        "        pad_height_top = height + 1\n",
        "        pad_height_bottom = height\n",
        "    else:\n",
        "        pad_height_top = pad_height_bottom = pad_height // 2\n",
        "\n",
        "    if pad_width % 2 != 0:\n",
        "        width = pad_width // 2\n",
        "        pad_width_left = width + 1\n",
        "        pad_width_right = width\n",
        "    else:\n",
        "        pad_width_left = pad_width_right = pad_width // 2\n",
        "\n",
        "    image = tf.pad(\n",
        "        image,\n",
        "        paddings=[\n",
        "            [pad_height_top, pad_height_bottom],\n",
        "            [pad_width_left, pad_width_right],\n",
        "            [0, 0],\n",
        "        ],\n",
        "    )\n",
        "\n",
        "    image = tf.transpose(image, perm=[1, 0, 2])\n",
        "    image = tf.image.flip_left_right(image)\n",
        "    return image\n"
      ]
    },
    {
      "cell_type": "markdown",
      "metadata": {
        "id": "RmPI_eds0Yyh"
      },
      "source": [
        "### Putting the utilities together"
      ]
    },
    {
      "cell_type": "code",
      "execution_count": 96,
      "metadata": {
        "id": "SR5V2P-_0Yyi"
      },
      "outputs": [],
      "source": [
        "batch_size = 64\n",
        "padding_token = 99\n",
        "image_width = 128\n",
        "image_height = 32\n",
        "\n",
        "\n",
        "def preprocess_image(image_path, img_size=(image_width, image_height)):\n",
        "    image = tf.io.read_file(image_path)\n",
        "    image = tf.image.decode_png(image, 1)\n",
        "    image = distortion_free_resize(image, img_size)\n",
        "    image = tf.cast(image, tf.float32) / 255.0\n",
        "    return image\n",
        "\n",
        "\n",
        "def vectorize_label(label):\n",
        "    label = char_to_num(tf.strings.unicode_split(label, input_encoding=\"UTF-8\"))\n",
        "    length = tf.shape(label)[0]\n",
        "    pad_amount = max_len - length\n",
        "    label = tf.pad(label, paddings=[[0, pad_amount]], constant_values=padding_token)\n",
        "    return label\n",
        "\n",
        "\n",
        "def process_images_labels(image_path, label):\n",
        "    image = preprocess_image(image_path)\n",
        "    label = vectorize_label(label)\n",
        "    return {\"image\": image, \"label\": label}\n",
        "\n",
        "\n",
        "def prepare_dataset(image_paths, labels):\n",
        "    dataset = tf.data.Dataset.from_tensor_slices((image_paths, labels)).map(\n",
        "        process_images_labels, num_parallel_calls=AUTOTUNE\n",
        "    )\n",
        "    return dataset.batch(batch_size).cache().prefetch(AUTOTUNE)\n"
      ]
    },
    {
      "cell_type": "code",
      "source": [
        "from sklearn.model_selection import train_test_split"
      ],
      "metadata": {
        "id": "UAMPb2ZDw_io"
      },
      "execution_count": 97,
      "outputs": []
    },
    {
      "cell_type": "code",
      "source": [
        "train_img_paths, validation_img_paths, train_labels_cleaned, validation_labels_cleaned = train_test_split(data_F, data_L, test_size=0.5, random_state=0)\n",
        "validation_img_paths, test_img_paths, validation_labels_cleaned, test_labels_cleaned = train_test_split(validation_img_paths, validation_labels_cleaned, test_size=0.5, random_state=1)"
      ],
      "metadata": {
        "id": "FJUDpB-Dwsvh"
      },
      "execution_count": 98,
      "outputs": []
    },
    {
      "cell_type": "code",
      "source": [
        "len(train_img_paths), len(validation_img_paths), len(test_img_paths)"
      ],
      "metadata": {
        "colab": {
          "base_uri": "https://localhost:8080/"
        },
        "id": "rBTa4rpdxfk0",
        "outputId": "2b7e3d08-919d-4ab0-c1e5-ff074f04a4ce"
      },
      "execution_count": 99,
      "outputs": [
        {
          "output_type": "execute_result",
          "data": {
            "text/plain": [
              "(10050, 5025, 5025)"
            ]
          },
          "metadata": {},
          "execution_count": 99
        }
      ]
    },
    {
      "cell_type": "markdown",
      "metadata": {
        "id": "oSvlnpJD0Yyi"
      },
      "source": [
        "## Prepare `tf.data.Dataset` objects"
      ]
    },
    {
      "cell_type": "code",
      "execution_count": 100,
      "metadata": {
        "id": "Z_lrYZFr0Yyj"
      },
      "outputs": [],
      "source": [
        "train_ds = prepare_dataset(train_img_paths, train_labels_cleaned)\n",
        "validation_ds = prepare_dataset(validation_img_paths, validation_labels_cleaned)\n",
        "test_ds = prepare_dataset(test_img_paths, test_labels_cleaned)"
      ]
    },
    {
      "cell_type": "code",
      "source": [
        "print(train_img_paths[0:5])\n",
        "print(train_labels_cleaned[0:5])"
      ],
      "metadata": {
        "colab": {
          "base_uri": "https://localhost:8080/"
        },
        "id": "EbtQ45YdrRS1",
        "outputId": "8f6021be-54e0-44ef-fd02-a96125e2d743"
      },
      "execution_count": 101,
      "outputs": [
        {
          "output_type": "stream",
          "name": "stdout",
          "text": [
            "['out/Gelugpa_18863.jpg', 'out/Pattin_9537.jpg', 'out/woman-churching_7832.jpg', 'out/adeems_14213.jpg', 'out/pneumato-_15064.jpg']\n",
            "['Gelugpa', 'Pattin', 'woman-churching', 'adeems', 'pneumato-']\n"
          ]
        }
      ]
    },
    {
      "cell_type": "markdown",
      "metadata": {
        "id": "CL2f6Dle0Yyj"
      },
      "source": [
        "## Visualize a few samples"
      ]
    },
    {
      "cell_type": "code",
      "execution_count": 102,
      "metadata": {
        "id": "67y4IUuH0Yyj",
        "outputId": "7fe96588-2712-4ae3-a8f8-0b5463ab9f40",
        "colab": {
          "base_uri": "https://localhost:8080/",
          "height": 433
        }
      },
      "outputs": [
        {
          "output_type": "display_data",
          "data": {
            "text/plain": [
              "<Figure size 1080x576 with 16 Axes>"
            ],
            "image/png": "[encoded data removed]"
          },
          "metadata": {
            "needs_background": "light"
          }
        }
      ],
      "source": [
        "for data in train_ds.take(1):\n",
        "    images, labels = data[\"image\"], data[\"label\"]\n",
        "\n",
        "    _, ax = plt.subplots(4, 4, figsize=(15, 8))\n",
        "\n",
        "    for i in range(16):\n",
        "        img = images[i]\n",
        "        img = tf.image.flip_left_right(img)\n",
        "        img = tf.transpose(img, perm=[1, 0, 2])\n",
        "        img = (img * 255.0).numpy().clip(0, 255).astype(np.uint8)\n",
        "        img = img[:, :, 0]\n",
        "\n",
        "        # Gather indices where label!= padding_token.\n",
        "        label = labels[i]\n",
        "        indices = tf.gather(label, tf.where(tf.math.not_equal(label, padding_token)))\n",
        "        # Convert to string.\n",
        "        label = tf.strings.reduce_join(num_to_char(indices))\n",
        "        label = label.numpy().decode(\"utf-8\")\n",
        "\n",
        "        ax[i // 4, i % 4].imshow(img, cmap=\"gray\")\n",
        "        ax[i // 4, i % 4].set_title(label)\n",
        "        ax[i // 4, i % 4].axis(\"off\")\n",
        "\n",
        "\n",
        "plt.show()"
      ]
    },
    {
      "cell_type": "markdown",
      "metadata": {
        "id": "doHGo1m00Yyk"
      },
      "source": [
        "You will notice that the content of original image is kept as faithful as possible and has\n",
        "been padded accordingly."
      ]
    },
    {
      "cell_type": "markdown",
      "metadata": {
        "id": "qMSB61HI0Yyk"
      },
      "source": [
        "## Model\n",
        "\n",
        "Our model will use the CTC loss as an endpoint layer. For a detailed understanding of the\n",
        "CTC loss, refer to [this post](https://distill.pub/2017/ctc/)."
      ]
    },
    {
      "cell_type": "code",
      "execution_count": 103,
      "metadata": {
        "id": "Swk0ksa30Yyk",
        "outputId": "c001cdb9-7d51-4a1e-f277-82271f91ed65",
        "colab": {
          "base_uri": "https://localhost:8080/"
        }
      },
      "outputs": [
        {
          "output_type": "stream",
          "name": "stdout",
          "text": [
            "Model: \"handwriting_recognizer\"\n",
            "__________________________________________________________________________________________________\n",
            " Layer (type)                   Output Shape         Param #     Connected to                     \n",
            "==================================================================================================\n",
            " image (InputLayer)             [(None, 128, 32, 1)  0           []                               \n",
            "                                ]                                                                 \n",
            "                                                                                                  \n",
            " Conv1 (Conv2D)                 (None, 128, 32, 32)  320         ['image[0][0]']                  \n",
            "                                                                                                  \n",
            " pool1 (MaxPooling2D)           (None, 64, 16, 32)   0           ['Conv1[0][0]']                  \n",
            "                                                                                                  \n",
            " Conv2 (Conv2D)                 (None, 64, 16, 64)   18496       ['pool1[0][0]']                  \n",
            "                                                                                                  \n",
            " pool2 (MaxPooling2D)           (None, 32, 8, 64)    0           ['Conv2[0][0]']                  \n",
            "                                                                                                  \n",
            " reshape (Reshape)              (None, 32, 512)      0           ['pool2[0][0]']                  \n",
            "                                                                                                  \n",
            " dense1 (Dense)                 (None, 32, 64)       32832       ['reshape[0][0]']                \n",
            "                                                                                                  \n",
            " dropout_2 (Dropout)            (None, 32, 64)       0           ['dense1[0][0]']                 \n",
            "                                                                                                  \n",
            " bidirectional_4 (Bidirectional  (None, 32, 256)     197632      ['dropout_2[0][0]']              \n",
            " )                                                                                                \n",
            "                                                                                                  \n",
            " bidirectional_5 (Bidirectional  (None, 32, 128)     164352      ['bidirectional_4[0][0]']        \n",
            " )                                                                                                \n",
            "                                                                                                  \n",
            " label (InputLayer)             [(None, None)]       0           []                               \n",
            "                                                                                                  \n",
            " dense2 (Dense)                 (None, 32, 63)       8127        ['bidirectional_5[0][0]']        \n",
            "                                                                                                  \n",
            " ctc_loss (CTCLayer)            (None, 32, 63)       0           ['label[0][0]',                  \n",
            "                                                                  'dense2[0][0]']                 \n",
            "                                                                                                  \n",
            "==================================================================================================\n",
            "Total params: 421,759\n",
            "Trainable params: 421,759\n",
            "Non-trainable params: 0\n",
            "__________________________________________________________________________________________________\n"
          ]
        }
      ],
      "source": [
        "\n",
        "class CTCLayer(keras.layers.Layer):\n",
        "    def __init__(self, name=None):\n",
        "        super().__init__(name=name)\n",
        "        self.loss_fn = keras.backend.ctc_batch_cost\n",
        "\n",
        "    def call(self, y_true, y_pred):\n",
        "        batch_len = tf.cast(tf.shape(y_true)[0], dtype=\"int64\")\n",
        "        input_length = tf.cast(tf.shape(y_pred)[1], dtype=\"int64\")\n",
        "        label_length = tf.cast(tf.shape(y_true)[1], dtype=\"int64\")\n",
        "\n",
        "        input_length = input_length * tf.ones(shape=(batch_len, 1), dtype=\"int64\")\n",
        "        label_length = label_length * tf.ones(shape=(batch_len, 1), dtype=\"int64\")\n",
        "        loss = self.loss_fn(y_true, y_pred, input_length, label_length)\n",
        "        self.add_loss(loss)\n",
        "\n",
        "        # At test time, just return the computed predictions.\n",
        "        return y_pred\n",
        "\n",
        "\n",
        "def build_model():\n",
        "    # Inputs to the model\n",
        "    input_img = keras.Input(shape=(image_width, image_height, 1), name=\"image\")\n",
        "    labels = keras.layers.Input(name=\"label\", shape=(None,))\n",
        "\n",
        "    # First conv block.\n",
        "    x = keras.layers.Conv2D(\n",
        "        32,\n",
        "        (3, 3),\n",
        "        activation=\"relu\",\n",
        "        kernel_initializer=\"he_normal\",\n",
        "        padding=\"same\",\n",
        "        name=\"Conv1\",\n",
        "    )(input_img)\n",
        "    x = keras.layers.MaxPooling2D((2, 2), name=\"pool1\")(x)\n",
        "\n",
        "    # Second conv block.\n",
        "    x = keras.layers.Conv2D(\n",
        "        64,\n",
        "        (3, 3),\n",
        "        activation=\"relu\",\n",
        "        kernel_initializer=\"he_normal\",\n",
        "        padding=\"same\",\n",
        "        name=\"Conv2\",\n",
        "    )(x)\n",
        "    x = keras.layers.MaxPooling2D((2, 2), name=\"pool2\")(x)\n",
        "\n",
        "    # We have used two max pool with pool size and strides 2.\n",
        "    # Hence, downsampled feature maps are 4x smaller. The number of\n",
        "    # filters in the last layer is 64. Reshape accordingly before\n",
        "    # passing the output to the RNN part of the model.\n",
        "    new_shape = ((image_width // 4), (image_height // 4) * 64)\n",
        "    x = keras.layers.Reshape(target_shape=new_shape, name=\"reshape\")(x)\n",
        "    x = keras.layers.Dense(64, activation=\"relu\", name=\"dense1\")(x)\n",
        "    x = keras.layers.Dropout(0.2)(x)\n",
        "\n",
        "    # RNNs.\n",
        "    x = keras.layers.Bidirectional(\n",
        "        keras.layers.LSTM(128, return_sequences=True, dropout=0.25)\n",
        "    )(x)\n",
        "    x = keras.layers.Bidirectional(\n",
        "        keras.layers.LSTM(64, return_sequences=True, dropout=0.25)\n",
        "    )(x)\n",
        "\n",
        "    # +2 is to account for the two special tokens introduced by the CTC loss.\n",
        "    # The recommendation comes here: https://git.io/J0eXP.\n",
        "    x = keras.layers.Dense(\n",
        "        len(char_to_num.get_vocabulary()) + 2, activation=\"softmax\", name=\"dense2\"\n",
        "    )(x)\n",
        "\n",
        "    # Add CTC layer for calculating CTC loss at each step.\n",
        "    output = CTCLayer(name=\"ctc_loss\")(labels, x)\n",
        "\n",
        "    # Define the model.\n",
        "    model = keras.models.Model(\n",
        "        inputs=[input_img, labels], outputs=output, name=\"handwriting_recognizer\"\n",
        "    )\n",
        "    # Optimizer.\n",
        "    opt = keras.optimizers.Adam()\n",
        "    # Compile the model and return.\n",
        "    model.compile(optimizer=opt)\n",
        "    return model\n",
        "\n",
        "\n",
        "# Get the model.\n",
        "model = build_model()\n",
        "model.summary()"
      ]
    },
    {
      "cell_type": "markdown",
      "metadata": {
        "id": "uwFkWgjO0Yyl"
      },
      "source": [
        "## Evaluation metric\n",
        "\n",
        "[Edit Distance](https://en.wikipedia.org/wiki/Edit_distance)\n",
        "is the most widely used metric for evaluating OCR models. In this section, we will\n",
        "implement it and use it as a callback to monitor our model."
      ]
    },
    {
      "cell_type": "markdown",
      "metadata": {
        "id": "STh8PCxG0Yyl"
      },
      "source": [
        "We first segregate the validation images and their labels for convenience."
      ]
    },
    {
      "cell_type": "code",
      "execution_count": 104,
      "metadata": {
        "id": "2Wik6VNo0Yym"
      },
      "outputs": [],
      "source": [
        "validation_images = []\n",
        "validation_labels = []\n",
        "\n",
        "for batch in validation_ds:\n",
        "    validation_images.append(batch[\"image\"])\n",
        "    validation_labels.append(batch[\"label\"])"
      ]
    },
    {
      "cell_type": "markdown",
      "metadata": {
        "id": "c_T6oQMW0Yym"
      },
      "source": [
        "Now, we create a callback to monitor the edit distances."
      ]
    },
    {
      "cell_type": "code",
      "execution_count": 105,
      "metadata": {
        "id": "rck2paRb0Yyn"
      },
      "outputs": [],
      "source": [
        "\n",
        "def calculate_edit_distance(labels, predictions):\n",
        "    # Get a single batch and convert its labels to sparse tensors.\n",
        "    saprse_labels = tf.cast(tf.sparse.from_dense(labels), dtype=tf.int64)\n",
        "\n",
        "    # Make predictions and convert them to sparse tensors.\n",
        "    input_len = np.ones(predictions.shape[0]) * predictions.shape[1]\n",
        "    predictions_decoded = keras.backend.ctc_decode(\n",
        "        predictions, input_length=input_len, greedy=True\n",
        "    )[0][0][:, :max_len]\n",
        "    sparse_predictions = tf.cast(\n",
        "        tf.sparse.from_dense(predictions_decoded), dtype=tf.int64\n",
        "    )\n",
        "\n",
        "    # Compute individual edit distances and average them out.\n",
        "    edit_distances = tf.edit_distance(\n",
        "        sparse_predictions, saprse_labels, normalize=False\n",
        "    )\n",
        "    return tf.reduce_mean(edit_distances)\n",
        "\n",
        "\n",
        "class EditDistanceCallback(keras.callbacks.Callback):\n",
        "    def __init__(self, pred_model):\n",
        "        super().__init__()\n",
        "        self.prediction_model = pred_model\n",
        "\n",
        "    def on_epoch_end(self, epoch, logs=None):\n",
        "        edit_distances = []\n",
        "\n",
        "        for i in range(len(validation_images)):\n",
        "            labels = validation_labels[i]\n",
        "            predictions = self.prediction_model.predict(validation_images[i])\n",
        "            edit_distances.append(calculate_edit_distance(labels, predictions).numpy())\n",
        "\n",
        "        print(\n",
        "            f\"Mean edit distance for epoch {epoch + 1}: {np.mean(edit_distances):.4f}\"\n",
        "        )\n"
      ]
    },
    {
      "cell_type": "markdown",
      "metadata": {
        "id": "yzIsujU60Yyn"
      },
      "source": [
        "## Training\n",
        "\n",
        "Now we are ready to kick off model training."
      ]
    },
    {
      "cell_type": "code",
      "execution_count": null,
      "metadata": {
        "id": "Qsuw944R0Yyn",
        "outputId": "941c7f0e-fd82-40eb-e8af-7979ab1e3911",
        "colab": {
          "base_uri": "https://localhost:8080/"
        }
      },
      "outputs": [
        {
          "output_type": "stream",
          "name": "stdout",
          "text": [
            "Epoch 1/10\n",
            "158/158 [==============================] - ETA: 0s - loss: 32.7298"
          ]
        }
      ],
      "source": [
        "epochs = 10  # To get good results this should be at least 50.\n",
        "\n",
        "model = build_model()\n",
        "prediction_model = keras.models.Model(\n",
        "    model.get_layer(name=\"image\").input, model.get_layer(name=\"dense2\").output\n",
        ")\n",
        "edit_distance_callback = EditDistanceCallback(prediction_model)\n",
        "\n",
        "# Train the model.\n",
        "history = model.fit(\n",
        "    train_ds,\n",
        "    validation_data=validation_ds,\n",
        "    epochs=epochs,\n",
        "    callbacks=[edit_distance_callback],\n",
        ")\n"
      ]
    },
    {
      "cell_type": "markdown",
      "metadata": {
        "id": "EYU2_fj00Yyo"
      },
      "source": [
        "## Inference"
      ]
    },
    {
      "cell_type": "code",
      "execution_count": null,
      "metadata": {
        "id": "yjqwRJOm0Yyo"
      },
      "outputs": [],
      "source": [
        "\n",
        "# A utility function to decode the output of the network.\n",
        "def decode_batch_predictions(pred):\n",
        "    input_len = np.ones(pred.shape[0]) * pred.shape[1]\n",
        "    # Use greedy search. For complex tasks, you can use beam search.\n",
        "    results = keras.backend.ctc_decode(pred, input_length=input_len, greedy=True)[0][0][\n",
        "        :, :max_len\n",
        "    ]\n",
        "    # Iterate over the results and get back the text.\n",
        "    output_text = []\n",
        "    for res in results:\n",
        "        res = tf.gather(res, tf.where(tf.math.not_equal(res, -1)))\n",
        "        res = tf.strings.reduce_join(num_to_char(res)).numpy().decode(\"utf-8\")\n",
        "        output_text.append(res)\n",
        "    return output_text\n",
        "\n",
        "\n",
        "#  Let's check results on some test samples.\n",
        "for batch in test_ds.take(1):\n",
        "    batch_images = batch[\"image\"]\n",
        "    _, ax = plt.subplots(4, 4, figsize=(15, 8))\n",
        "\n",
        "    preds = prediction_model.predict(batch_images)\n",
        "    pred_texts = decode_batch_predictions(preds)\n",
        "\n",
        "    for i in range(16):\n",
        "        img = batch_images[i]\n",
        "        img = tf.image.flip_left_right(img)\n",
        "        img = tf.transpose(img, perm=[1, 0, 2])\n",
        "        img = (img * 255.0).numpy().clip(0, 255).astype(np.uint8)\n",
        "        img = img[:, :, 0]\n",
        "\n",
        "        title = f\"Prediction: {pred_texts[i]}\"\n",
        "        ax[i // 4, i % 4].imshow(img, cmap=\"gray\")\n",
        "        ax[i // 4, i % 4].set_title(title)\n",
        "        ax[i // 4, i % 4].axis(\"off\")\n",
        "\n",
        "plt.show()"
      ]
    },
    {
      "cell_type": "markdown",
      "metadata": {
        "id": "cP7RYvor0Yyp"
      },
      "source": [
        "To get better results the model should be trained for at least 50 epochs."
      ]
    },
    {
      "cell_type": "markdown",
      "metadata": {
        "id": "OSclpO7h0Yyp"
      },
      "source": [
        "## Final remarks\n",
        "\n",
        "* The `prediction_model` is fully compatible with TensorFlow Lite. If you are interested,\n",
        "you can use it inside a mobile application. You may find\n",
        "[this notebook](https://github.com/tulasiram58827/ocr_tflite/blob/main/colabs/captcha_ocr_tflite.ipynb)\n",
        "to be useful in this regard.\n",
        "* Not all the training examples are perfectly aligned as observed in this example. This\n",
        "can hurt model performance for complex sequences. To this end, we can leverage\n",
        "Spatial Transformer Networks ([Jaderberg et al.](https://arxiv.org/abs/1506.02025))\n",
        "that can help the model learn affine transformations that maximize its performance."
      ]
    },
    {
      "cell_type": "code",
      "source": [
        "x = preprocess_image('./america.png')"
      ],
      "metadata": {
        "id": "85qacYvJWeps"
      },
      "execution_count": null,
      "outputs": []
    },
    {
      "cell_type": "code",
      "source": [
        "x = tf.expand_dims(x, axis=0)"
      ],
      "metadata": {
        "id": "xGOIPGTYWmiM"
      },
      "execution_count": null,
      "outputs": []
    },
    {
      "cell_type": "code",
      "source": [
        "x.shape"
      ],
      "metadata": {
        "id": "JF1XAxtmXPBI"
      },
      "execution_count": null,
      "outputs": []
    },
    {
      "cell_type": "code",
      "source": [
        "yhat = prediction_model.predict(x)"
      ],
      "metadata": {
        "id": "krE4t5gWWnWc"
      },
      "execution_count": null,
      "outputs": []
    },
    {
      "cell_type": "code",
      "source": [
        "decode_batch_predictions(yhat)"
      ],
      "metadata": {
        "id": "ju5KxZHZWtYe"
      },
      "execution_count": null,
      "outputs": []
    },
    {
      "cell_type": "code",
      "source": [
        ""
      ],
      "metadata": {
        "id": "4clMlMiZXVJn"
      },
      "execution_count": null,
      "outputs": []
    }
  ],
  "metadata": {
    "colab": {
      "collapsed_sections": [
        "r1W0vPvC0YyZ",
        "L3Q0XFXm0Yyc"
      ],
      "name": "bn-trdg_recognition",
      "provenance": [],
      "include_colab_link": true
    },
    "kernelspec": {
      "display_name": "Python 3",
      "language": "python",
      "name": "python3"
    },
    "language_info": {
      "codemirror_mode": {
        "name": "ipython",
        "version": 3
      },
      "file_extension": ".py",
      "mimetype": "text/x-python",
      "name": "python",
      "nbconvert_exporter": "python",
      "pygments_lexer": "ipython3",
      "version": "3.7.0"
    }
  },
  "nbformat": 4,
  "nbformat_minor": 0
}