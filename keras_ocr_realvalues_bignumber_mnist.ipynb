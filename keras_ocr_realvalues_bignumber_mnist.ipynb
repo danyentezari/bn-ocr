{
  "cells": [
    {
      "cell_type": "markdown",
      "metadata": {
        "id": "view-in-github",
        "colab_type": "text"
      },
      "source": [
        "<a href=\"https://colab.research.google.com/github/danyentezari/bn-ocr/blob/main/keras_ocr_realvalues_bignumber_mnist.ipynb\" target=\"_parent\"><img src=\"https://colab.research.google.com/assets/colab-badge.svg\" alt=\"Open In Colab\"/></a>"
      ]
    },
    {
      "cell_type": "code",
      "execution_count": null,
      "metadata": {
        "id": "obI7x309JZl7"
      },
      "outputs": [],
      "source": [
        "!pip install keras==2.2.5\n",
        "!pip install tensorflow==1.13.1\n",
        "!unzip kaggle.json.zip\n",
        "!mkdir ~/.kaggle \n",
        "!cp kaggle.json ~/.kaggle/\n",
        "!chmod 600 ~/.kaggle/kaggle.json\n",
        "!kaggle datasets download scolianni/mnistasjpg\n",
        "!unzip mnistasjpg.zip\n",
        "!pip install keras==2.2.5\n",
        "!pip install tensorflow==1.13.1\n",
        "!pip install 'h5py==2.10.0' --force-reinstall\n",
        "!pip install cairocffi"
      ]
    },
    {
      "cell_type": "code",
      "execution_count": 12,
      "metadata": {
        "id": "dq_h85uJ60oR"
      },
      "outputs": [],
      "source": [
        "import tensorflow as tf\n",
        "import keras\n",
        "from tensorflow.keras import datasets, layers, models\n",
        "import matplotlib.pyplot as plt\n",
        "import numpy as np\n",
        "from os import listdir\n",
        "from os.path import isfile, join\n",
        "import re\n",
        "from scipy.sparse import csr_matrix\n",
        "import cv2\n",
        "\n",
        "from sklearn.feature_extraction.text import HashingVectorizer\n",
        "\n",
        "import string\n",
        "from PIL import Image\n",
        "import numpy as np\n",
        "\n",
        "from keras.preprocessing.image import load_img\n",
        "from keras.preprocessing.image import img_to_array\n",
        "\n",
        "import itertools\n",
        "\n",
        "from sklearn.model_selection import train_test_split\n",
        "from keras.utils.np_utils import to_categorical\n",
        "\n",
        "from keras.preprocessing.image import ImageDataGenerator"
      ]
    },
    {
      "cell_type": "code",
      "execution_count": 13,
      "metadata": {
        "id": "FmvD6G93A82e"
      },
      "outputs": [],
      "source": [
        "alphabet = '0123456789'\n",
        "# def encode_to_labels(txt):\n",
        "#     # encoding each output word into digits\n",
        "#     dig_lst = []\n",
        "#     for index, char in enumerate(txt):\n",
        "#         if char in char_list:\n",
        "#             dig_lst.append(char_list.index(char))\n",
        "#         # else:\n",
        "#         #   print(char)\n",
        "#     return dig_lst"
      ]
    },
    {
      "cell_type": "code",
      "execution_count": 14,
      "metadata": {
        "id": "hpM3L7zO8SnO"
      },
      "outputs": [],
      "source": [
        "def labels_to_text(labels, alphabet):\n",
        "    \"\"\"Reverse translation of numerical classes back to characters.\"\"\"\n",
        "    ret = []\n",
        "    for c in labels:\n",
        "        if c == len(alphabet):  # CTC Blank\n",
        "            ret.append(\"\")\n",
        "        else:\n",
        "            ret.append(alphabet[c])\n",
        "    return \"\".join(ret)\n",
        "\n",
        "\n",
        "def text_to_labels(text, alphabet):\n",
        "    \"\"\" Translation of characters to unique integer values\n",
        "    \"\"\"\n",
        "    ret = []\n",
        "    for char in text:\n",
        "        ret.append(alphabet.find(char))\n",
        "    return ret\n",
        "\n",
        "\n",
        "def decode_batch(test_func, word_batch, alphabet):\n",
        "    \"\"\"\n",
        "    - Greedy search -\n",
        "    For a real OCR application, this should be beam\n",
        "    search with a dictionary and language model.\n",
        "    For this example, best path is sufficient.\n",
        "    \"\"\"\n",
        "    res = []\n",
        "    prob = []\n",
        "    out = test_func([word_batch])[0]\n",
        "    for i in range(out.shape[0]):\n",
        "        out_best = list(np.argmax(out[i, 2:], 1))\n",
        "        out_prob = np.mean(np.max(out[i, 2:], 1))\n",
        "        out_best = [k for k, g in itertools.groupby(out_best)]\n",
        "        outstr = labels_to_text(out_best, alphabet)\n",
        "        res.append(outstr)\n",
        "        prob.append(out_prob)\n",
        "    return res, prob\n"
      ]
    },
    {
      "cell_type": "code",
      "execution_count": 15,
      "metadata": {
        "colab": {
          "base_uri": "https://localhost:8080/"
        },
        "id": "zafSq78C7JS0",
        "outputId": "9d087aca-070f-4e32-dd68-e76cb1ba4f2e"
      },
      "outputs": [
        {
          "output_type": "stream",
          "name": "stdout",
          "text": [
            "Looking in indexes: https://pypi.org/simple, https://us-python.pkg.dev/colab-wheels/public/simple/\n",
            "Requirement already satisfied: gdown in /usr/local/lib/python3.7/dist-packages (4.4.0)\n",
            "Requirement already satisfied: beautifulsoup4 in /usr/local/lib/python3.7/dist-packages (from gdown) (4.6.3)\n",
            "Requirement already satisfied: six in /usr/local/lib/python3.7/dist-packages (from gdown) (1.16.0)\n",
            "Requirement already satisfied: tqdm in /usr/local/lib/python3.7/dist-packages (from gdown) (4.64.0)\n",
            "Requirement already satisfied: requests[socks] in /usr/local/lib/python3.7/dist-packages (from gdown) (2.23.0)\n",
            "Requirement already satisfied: filelock in /usr/local/lib/python3.7/dist-packages (from gdown) (3.7.1)\n",
            "Requirement already satisfied: idna<3,>=2.5 in /usr/local/lib/python3.7/dist-packages (from requests[socks]->gdown) (2.10)\n",
            "Requirement already satisfied: chardet<4,>=3.0.2 in /usr/local/lib/python3.7/dist-packages (from requests[socks]->gdown) (3.0.4)\n",
            "Requirement already satisfied: certifi>=2017.4.17 in /usr/local/lib/python3.7/dist-packages (from requests[socks]->gdown) (2022.6.15)\n",
            "Requirement already satisfied: urllib3!=1.25.0,!=1.25.1,<1.26,>=1.21.1 in /usr/local/lib/python3.7/dist-packages (from requests[socks]->gdown) (1.24.3)\n",
            "Requirement already satisfied: PySocks!=1.5.7,>=1.5.6 in /usr/local/lib/python3.7/dist-packages (from requests[socks]->gdown) (1.7.1)\n"
          ]
        }
      ],
      "source": [
        "!pip install gdown"
      ]
    },
    {
      "cell_type": "code",
      "execution_count": 16,
      "metadata": {
        "id": "Cq3lRg-x7Jie"
      },
      "outputs": [],
      "source": [
        "# # # Get features\n",
        "# !gdown https://drive.google.com/uc?id=176PKaCUDWmTJdQwc-OfkO0y8t4gLsIvQ\n",
        "# !unzip formulae.zip\n",
        "\n",
        "# # # Get labels\n",
        "# !gdown https://drive.google.com/uc?id=1QUjX6PFWPa-HBWdcY-7bA5TRVUnbyS1D"
      ]
    },
    {
      "cell_type": "code",
      "execution_count": 17,
      "metadata": {
        "id": "PO-6EznR7NK7"
      },
      "outputs": [],
      "source": [
        "# alphabet = string.digits + \\\n",
        "#            string.ascii_lowercase + \\\n",
        "#            string.ascii_uppercase + \\\n",
        "#            '\\n' + \\\n",
        "#            '\\t' + \\\n",
        "#            \"\".join([' ', '~', ':', \"'\", '+', '[', '\\\\', '@', '^', '{', '%', '(', '-', '\"', '*', '|', ',', '&', '<', '`', '}', '.', '_', '=', ']', '!', '>', ';', '?', '#', '$', ')', '/'])"
      ]
    },
    {
      "cell_type": "code",
      "execution_count": 18,
      "metadata": {
        "id": "x1HL-lIrl_3J"
      },
      "outputs": [],
      "source": [
        "def loadImage(filepath):\n",
        "  img = load_img(filepath)\n",
        "  img = img_to_array(img)\n",
        "  # img = img.reshape(1, 448, 64, 3)\n",
        "  # img = img.reshape(64, 192, 3)\n",
        "  img = img.astype('float32')\n",
        "  img = img / 255.0\n",
        "  return img"
      ]
    },
    {
      "cell_type": "code",
      "execution_count": 19,
      "metadata": {
        "id": "ZjafOnBskSaP"
      },
      "outputs": [],
      "source": [
        "from os import listdir\n",
        "from os.path import isfile, join\n",
        "\n",
        "ch = 28\n",
        "cw = 28\n",
        "\n",
        "data_F = np.empty((0, ch, cw, 3))\n",
        "data_L = np.empty((0))\n",
        "\n",
        "i = 0\n",
        "for f_label in listdir('./trainingSet/trainingSet'):\n",
        "  for img_name in listdir(f'./trainingSet/trainingSet/{f_label}'):\n",
        "    img = loadImage(f'./trainingSet/trainingSet/{f_label}/{img_name}')\n",
        "\n",
        "    # if i == 1:\n",
        "    #   break\n",
        "\n",
        "    # print(np.array([img]).shape)\n",
        "    # print(data_F.shape)\n",
        "    # i = 1\n",
        "\n",
        "    data_F = np.append(data_F, [img], axis=0)\n",
        "    data_L = np.append(data_L, [f_label], axis=0)"
      ]
    },
    {
      "cell_type": "code",
      "execution_count": 20,
      "metadata": {
        "id": "KdN-6Yc1bZ8u"
      },
      "outputs": [],
      "source": [
        "data_L_dist = to_categorical(data_L)"
      ]
    },
    {
      "cell_type": "code",
      "execution_count": 21,
      "metadata": {
        "colab": {
          "base_uri": "https://localhost:8080/",
          "height": 45
        },
        "id": "85_0abkw7Oxa",
        "outputId": "5288f251-d970-4b8b-ed66-a71ac60e9314"
      },
      "outputs": [
        {
          "output_type": "execute_result",
          "data": {
            "text/plain": [
              "<PIL.Image.Image image mode=RGB size=28x28 at 0x7F06DF94D990>"
            ],
            "image/png": "[encoded data removed]"
          },
          "metadata": {},
          "execution_count": 21
        }
      ],
      "source": [
        "sample_image = loadImage('./trainingSet/trainingSet/0/img_1.jpg')\n",
        "Image.fromarray(np.uint8(sample_image*255)).convert('RGB')"
      ]
    },
    {
      "cell_type": "markdown",
      "metadata": {
        "id": "jXCR8ROH7ep6"
      },
      "source": [
        "### Features and Labels"
      ]
    },
    {
      "cell_type": "code",
      "execution_count": 22,
      "metadata": {
        "colab": {
          "base_uri": "https://localhost:8080/"
        },
        "id": "Y2nWSEqY7lbC",
        "outputId": "66a8a5b0-0b98-4008-90a0-82574bf39a76"
      },
      "outputs": [
        {
          "output_type": "stream",
          "name": "stdout",
          "text": [
            "(42000, 28, 28, 3)\n",
            "(42000,)\n",
            "(42000, 10)\n"
          ]
        }
      ],
      "source": [
        "print(data_F.shape)\n",
        "print(data_L.shape)\n",
        "print(data_L_dist.shape)"
      ]
    },
    {
      "cell_type": "code",
      "execution_count": 23,
      "metadata": {
        "id": "dI90D4d77n60"
      },
      "outputs": [],
      "source": [
        "# train_L_id = np.array([np.zeros(max_word_length_track)])\n",
        "# train_L_t = []\n",
        "\n",
        "# for i,label in enumerate(train_L):\n",
        "#   ids = np.zeros(max_word_length_track)\n",
        "#   new_item = [float(alphabet_t2id[t]) for i,t in enumerate(list(label))]\n",
        "#   ids[0: len(new_item)] = new_item\n",
        "#   train_L_id = np.append(train_L_id, [ids], axis=0)\n",
        "\n",
        "\n",
        "# # train_L_id = np.delete(train_L_id, [0])\n",
        "# train_L_id = train_L_id[1:]\n",
        "# len(train_L_id)"
      ]
    },
    {
      "cell_type": "markdown",
      "metadata": {
        "id": "y3mlAF8Q7ocC"
      },
      "source": [
        "### Model"
      ]
    },
    {
      "cell_type": "code",
      "execution_count": 24,
      "metadata": {
        "colab": {
          "base_uri": "https://localhost:8080/"
        },
        "id": "Jw-VdKyhZaNE",
        "outputId": "f2122ee4-2523-4916-97af-a835889e26af"
      },
      "outputs": [
        {
          "output_type": "stream",
          "name": "stdout",
          "text": [
            "WARNING:tensorflow:From /usr/local/lib/python3.7/dist-packages/tensorflow/python/framework/op_def_library.py:263: colocate_with (from tensorflow.python.framework.ops) is deprecated and will be removed in a future version.\n",
            "Instructions for updating:\n",
            "Colocations handled automatically by placer.\n",
            "Model: \"model_1\"\n",
            "__________________________________________________________________________________________________\n",
            "Layer (type)                    Output Shape         Param #     Connected to                     \n",
            "==================================================================================================\n",
            "the_input (InputLayer)          (None, 28, 28, 3)    0                                            \n",
            "__________________________________________________________________________________________________\n",
            "conv1 (Conv2D)                  (None, 28, 28, 16)   448         the_input[0][0]                  \n",
            "__________________________________________________________________________________________________\n",
            "max1 (MaxPooling2D)             (None, 14, 14, 16)   0           conv1[0][0]                      \n",
            "__________________________________________________________________________________________________\n",
            "conv2 (Conv2D)                  (None, 14, 14, 16)   2320        max1[0][0]                       \n",
            "__________________________________________________________________________________________________\n",
            "max2 (MaxPooling2D)             (None, 7, 7, 16)     0           conv2[0][0]                      \n",
            "__________________________________________________________________________________________________\n",
            "reshape (Reshape)               (None, 7, 112)       0           max2[0][0]                       \n",
            "__________________________________________________________________________________________________\n",
            "dense1 (Dense)                  (None, 7, 32)        3616        reshape[0][0]                    \n",
            "__________________________________________________________________________________________________\n",
            "gru1 (GRU)                      (None, 7, 512)       837120      dense1[0][0]                     \n",
            "__________________________________________________________________________________________________\n",
            "gru1_b (GRU)                    (None, 7, 512)       837120      dense1[0][0]                     \n",
            "__________________________________________________________________________________________________\n",
            "add_1 (Add)                     (None, 7, 512)       0           gru1[0][0]                       \n",
            "                                                                 gru1_b[0][0]                     \n",
            "__________________________________________________________________________________________________\n",
            "gru2 (GRU)                      (None, 7, 512)       1574400     add_1[0][0]                      \n",
            "__________________________________________________________________________________________________\n",
            "gru2_b (GRU)                    (None, 7, 512)       1574400     add_1[0][0]                      \n",
            "__________________________________________________________________________________________________\n",
            "concatenate_1 (Concatenate)     (None, 7, 1024)      0           gru2[0][0]                       \n",
            "                                                                 gru2_b[0][0]                     \n",
            "__________________________________________________________________________________________________\n",
            "dense2 (Dense)                  (None, 7, 10)        10250       concatenate_1[0][0]              \n",
            "__________________________________________________________________________________________________\n",
            "softmax (Activation)            (None, 7, 10)        0           dense2[0][0]                     \n",
            "__________________________________________________________________________________________________\n",
            "the_labels (InputLayer)         (None, 1)            0                                            \n",
            "__________________________________________________________________________________________________\n",
            "input_length (InputLayer)       (None, 1)            0                                            \n",
            "__________________________________________________________________________________________________\n",
            "label_length (InputLayer)       (None, 1)            0                                            \n",
            "__________________________________________________________________________________________________\n",
            "ctc (Lambda)                    (None, 1)            0           softmax[0][0]                    \n",
            "                                                                 the_labels[0][0]                 \n",
            "                                                                 input_length[0][0]               \n",
            "                                                                 label_length[0][0]               \n",
            "==================================================================================================\n",
            "Total params: 4,839,674\n",
            "Trainable params: 4,839,674\n",
            "Non-trainable params: 0\n",
            "__________________________________________________________________________________________________\n"
          ]
        }
      ],
      "source": [
        "import os\n",
        "import itertools\n",
        "import codecs\n",
        "import re\n",
        "import datetime\n",
        "import cairocffi as cairo\n",
        "import editdistance\n",
        "import numpy as np\n",
        "from scipy import ndimage\n",
        "import pylab\n",
        "import tensorflow\n",
        "from keras import backend as K\n",
        "from keras.layers.convolutional import Conv2D, MaxPooling2D\n",
        "from keras.layers import Input, Dense, Activation\n",
        "from keras.layers import Reshape, Lambda\n",
        "from keras.layers.merge import add, concatenate\n",
        "from keras.models import Model\n",
        "from keras.layers.recurrent import GRU\n",
        "from keras.optimizers import SGD\n",
        "from keras.utils.data_utils import get_file\n",
        "from keras.preprocessing import image\n",
        "import keras.callbacks\n",
        "#from keras.metrics import Metric\n",
        "from tensorflow.python.keras.metrics import Metric\n",
        "\n",
        "OUTPUT_DIR = 'image_ocr'\n",
        "\n",
        "\n",
        "def NNModel():\n",
        "  # Input Parameters\n",
        "  img_w = cw\n",
        "  img_h = ch\n",
        "  words_per_epoch = 16000\n",
        "  val_split = 0.2\n",
        "  val_words = int(words_per_epoch * (val_split))\n",
        "\n",
        "  # Network parameters\n",
        "  conv_filters = 16\n",
        "  kernel_size = (3, 3)\n",
        "  pool_size = 2\n",
        "  time_dense_size = 32\n",
        "  rnn_size = 512\n",
        "  minibatch_size = 32\n",
        "\n",
        "\n",
        "  input_shape = (ch, cw, 3)\n",
        "\n",
        "  act = 'relu'\n",
        "  input_data = Input(name='the_input', shape=input_shape, dtype='float32')\n",
        "  inner = Conv2D(conv_filters, kernel_size, padding='same',\n",
        "                  activation=act, kernel_initializer='he_normal',\n",
        "                  name='conv1')(input_data)\n",
        "  inner = MaxPooling2D(pool_size=(pool_size, pool_size), name='max1')(inner)\n",
        "  inner = Conv2D(conv_filters, kernel_size, padding='same',\n",
        "                  activation=act, kernel_initializer='he_normal',\n",
        "                  name='conv2')(inner)\n",
        "  inner = MaxPooling2D(pool_size=(pool_size, pool_size), name='max2')(inner)\n",
        "\n",
        "  conv_to_rnn_dims = (img_w // (pool_size ** 2),\n",
        "                      (img_h // (pool_size ** 2)) * conv_filters)\n",
        "  inner = Reshape(target_shape=conv_to_rnn_dims, name='reshape')(inner)\n",
        "\n",
        "  # cuts down input size going into RNN:\n",
        "  inner = Dense(time_dense_size, activation=act, name='dense1')(inner)\n",
        "\n",
        "  # Two layers of bidirectional GRUs\n",
        "  # GRU seems to work as well, if not better than LSTM:\n",
        "  gru_1 = GRU(rnn_size, return_sequences=True,\n",
        "              kernel_initializer='he_normal', name='gru1')(inner)\n",
        "  gru_1b = GRU(rnn_size, return_sequences=True,\n",
        "                go_backwards=True, kernel_initializer='he_normal',\n",
        "                name='gru1_b')(inner)\n",
        "  gru1_merged = add([gru_1, gru_1b])\n",
        "  gru_2 = GRU(rnn_size, return_sequences=True,\n",
        "              kernel_initializer='he_normal', name='gru2')(gru1_merged)\n",
        "  gru_2b = GRU(rnn_size, return_sequences=True, go_backwards=True,\n",
        "                kernel_initializer='he_normal', name='gru2_b')(gru1_merged)\n",
        "\n",
        "  # transforms RNN output to character activations:\n",
        "  inner = Dense(\n",
        "      len(alphabet), \n",
        "      kernel_initializer='he_normal',\n",
        "      name='dense2')(concatenate([gru_2, gru_2b])\n",
        "    )\n",
        "  y_pred = Activation('softmax', name='softmax')(inner)\n",
        "\n",
        "\n",
        "\n",
        "  labels = Input(name='the_labels', shape=[1], dtype='float32')\n",
        "  input_length = Input(name='input_length', shape=[1], dtype='int64')\n",
        "  label_length = Input(name='label_length', shape=[1], dtype='int64')\n",
        "\n",
        "\n",
        "  # model0 = Model(\n",
        "  #     inputs=[input_data, labels, input_length, label_length],\n",
        "  #     outputs=y_pred\n",
        "  # )\n",
        "\n",
        "\n",
        "  def ctc_lambda_func(args):\n",
        "      y_pred, labels, input_length, label_length = args\n",
        "      # the 2 is critical here since the first couple outputs of the RNN\n",
        "      # tend to be garbage:\n",
        "      y_pred = y_pred[:, 2:, :]\n",
        "      return K.ctc_batch_cost(labels, y_pred, input_length, label_length)\n",
        "\n",
        "  # Keras doesn't currently support loss funcs with extra parameters\n",
        "  # so CTC loss is implemented in a lambda layer\n",
        "  loss_out = Lambda(\n",
        "      ctc_lambda_func, output_shape=(1,),\n",
        "      name='ctc')([y_pred, labels, input_length, label_length])\n",
        "\n",
        "  # clipnorm seems to speeds up convergence\n",
        "  sgd = SGD(lr=0.02, decay=1e-6, momentum=0.9, nesterov=True, clipnorm=5)\n",
        "\n",
        "  model0 = Model(\n",
        "          inputs=[input_data, labels, input_length, label_length],\n",
        "          outputs=loss_out\n",
        "      )\n",
        "\n",
        "  model0.compile(loss={'ctc': lambda y_true, y_pred: y_pred}, optimizer='adam')\n",
        "\n",
        "\n",
        "  model0.summary()\n",
        "  train_model = model0\n",
        "\n",
        "  prediction_model = Model(inputs=input_data, outputs=y_pred)\n",
        "\n",
        "  return train_model, prediction_model\n",
        "\n",
        "\n",
        "model0, _ = NNModel()"
      ]
    },
    {
      "cell_type": "code",
      "execution_count": null,
      "metadata": {
        "id": "YaxECOCK8Zr1"
      },
      "outputs": [],
      "source": [
        "# batch_size = 25 #a divisor of training length\n",
        "# epochs = 5\n",
        "\n",
        "# input_length = np.array([ [10] for i in range(len(train_F)) ])\n",
        "# label_length = np.array([ [10] for i in range(len(train_F)) ])\n",
        "\n",
        "# metrics0 = model0.fit(\n",
        "#           x=[\n",
        "#               train_F, \n",
        "#               train_L_dist, \n",
        "#               input_length,\n",
        "#               label_length,\n",
        "#             ], \n",
        "#           # y = np.zeros(len(train_F)),\n",
        "#           y = train_L_dist,\n",
        "#           # batch_size=batch_size, \n",
        "#           epochs = epochs, \n",
        "#           # validation_data = ([val_img, val_padded_txt, val_input_length, val_label_length], val_padded_txt),\n",
        "#           verbose = 2,\n",
        "#           # callbacks = callbacks_list\n",
        "# )"
      ]
    },
    {
      "cell_type": "code",
      "execution_count": null,
      "metadata": {
        "id": "KhAMGf8UTFgF"
      },
      "outputs": [],
      "source": [
        "# model0.save_weights( './weights1-mnist.h5' )"
      ]
    },
    {
      "cell_type": "markdown",
      "metadata": {
        "id": "dK1qdIDHdyVY"
      },
      "source": [
        "### Alternative Model"
      ]
    },
    {
      "cell_type": "code",
      "execution_count": 26,
      "metadata": {
        "id": "KfOMTtB1hcdF"
      },
      "outputs": [],
      "source": [
        "train_F, test_F, train_L_dist, test_L_dist = train_test_split(data_F, data_L_dist, test_size=0.1, random_state=0)"
      ]
    },
    {
      "cell_type": "code",
      "execution_count": 27,
      "metadata": {
        "id": "17RoiGw_hsWY",
        "colab": {
          "base_uri": "https://localhost:8080/"
        },
        "outputId": "e59183c1-1b12-4fe2-8e8b-44a2ff794a2a"
      },
      "outputs": [
        {
          "output_type": "execute_result",
          "data": {
            "text/plain": [
              "((37800, 28, 28, 3), (4200, 28, 28, 3), (37800, 10), (4200, 10))"
            ]
          },
          "metadata": {},
          "execution_count": 27
        }
      ],
      "source": [
        "train_F.shape, test_F.shape, train_L_dist.shape, test_L_dist.shape"
      ]
    },
    {
      "cell_type": "code",
      "execution_count": 28,
      "metadata": {
        "id": "uSttdlwhg4Nx"
      },
      "outputs": [],
      "source": [
        "# With data augmentation to prevent overfitting\n",
        "\n",
        "datagen = ImageDataGenerator(\n",
        "        featurewise_center=False,  # set input mean to 0 over the dataset\n",
        "        samplewise_center=False,  # set each sample mean to 0\n",
        "        featurewise_std_normalization=False,  # divide inputs by std of the dataset\n",
        "        samplewise_std_normalization=False,  # divide each input by its std\n",
        "        zca_whitening=False,  # apply ZCA whitening\n",
        "        rotation_range=15,  # randomly rotate images in the range (degrees, 0 to 180)\n",
        "        zoom_range = 0.01, # Randomly zoom image \n",
        "        width_shift_range=0.1,  # randomly shift images horizontally (fraction of total width)\n",
        "        height_shift_range=0.1,  # randomly shift images vertically (fraction of total height)\n",
        "        horizontal_flip=False,  # randomly flip images\n",
        "        vertical_flip=False)  # randomly flip images\n",
        "\n",
        "\n",
        "#datagen.fit(X_train)\n",
        "train_gen = datagen.flow(train_F, train_L_dist, batch_size=128)\n",
        "test_gen = datagen.flow(test_F, test_L_dist, batch_size=128)"
      ]
    },
    {
      "cell_type": "code",
      "execution_count": 29,
      "metadata": {
        "id": "map673iJhIgl"
      },
      "outputs": [],
      "source": [
        "epochs = 5\n",
        "batch_size = 128\n",
        "train_steps = train_F.shape[0] // batch_size\n",
        "valid_steps = train_L_dist.shape[0] // batch_size\n",
        "\n",
        "es = keras.callbacks.EarlyStopping(\n",
        "        monitor=\"val_acc\", # metrics to monitor\n",
        "        patience=10, # how many epochs before stop\n",
        "        verbose=1,\n",
        "        mode=\"max\", # we need the maximum accuracy.\n",
        "        restore_best_weights=True, # \n",
        "     )\n",
        "\n",
        "rp = keras.callbacks.ReduceLROnPlateau(\n",
        "        monitor=\"val_acc\",\n",
        "        factor=0.2,\n",
        "        patience=3,\n",
        "        verbose=1,\n",
        "        mode=\"max\",\n",
        "        min_lr=0.00001,\n",
        "     )"
      ]
    },
    {
      "cell_type": "code",
      "execution_count": 30,
      "metadata": {
        "id": "qmORo5YJdqLH"
      },
      "outputs": [],
      "source": [
        "import keras\n",
        "from keras.models import Sequential\n",
        "from keras.layers import Conv2D, Lambda, MaxPooling2D # convolution layers\n",
        "from keras.layers import Dense, Dropout, Flatten # core layers\n",
        "from keras.layers.normalization import BatchNormalization\n",
        "\n",
        "model1=Sequential()\n",
        "\n",
        "#model1.add(Lambda(standardize,input_shape=(28,28,1)))    \n",
        "model1.add(Conv2D(filters=64, kernel_size = (3,3), activation=\"relu\", input_shape=(28,28,3)))\n",
        "model1.add(Conv2D(filters=64, kernel_size = (3,3), activation=\"relu\"))\n",
        "model1.add(MaxPooling2D(pool_size=(2,2)))\n",
        "model1.add(BatchNormalization())\n",
        "\n",
        "model1.add(Conv2D(filters=128, kernel_size = (3,3), activation=\"relu\"))\n",
        "model1.add(Conv2D(filters=128, kernel_size = (3,3), activation=\"relu\"))\n",
        "model1.add(MaxPooling2D(pool_size=(2,2)))\n",
        "model1.add(BatchNormalization())    \n",
        "\n",
        "model1.add(Conv2D(filters=256, kernel_size = (3,3), activation=\"relu\"))\n",
        "model1.add(MaxPooling2D(pool_size=(2,2)))\n",
        "model1.add(BatchNormalization())\n",
        "    \n",
        "model1.add(Flatten())\n",
        "model1.add(Dense(512,activation=\"relu\"))\n",
        "    \n",
        "model1.add(Dense(10,activation=\"softmax\"))\n",
        "    \n",
        "model1.compile(loss=\"categorical_crossentropy\", optimizer=\"adam\", metrics=[\"accuracy\"])"
      ]
    },
    {
      "cell_type": "code",
      "execution_count": 31,
      "metadata": {
        "id": "f3m3usj0eA-I",
        "colab": {
          "base_uri": "https://localhost:8080/"
        },
        "outputId": "5882e3fd-498a-4421-9192-87cf883cd297"
      },
      "outputs": [
        {
          "output_type": "stream",
          "name": "stdout",
          "text": [
            "WARNING:tensorflow:From /usr/local/lib/python3.7/dist-packages/tensorflow/python/ops/math_ops.py:3066: to_int32 (from tensorflow.python.ops.math_ops) is deprecated and will be removed in a future version.\n",
            "Instructions for updating:\n",
            "Use tf.cast instead.\n",
            "Epoch 1/5\n",
            "295/295 [==============================] - 710s 2s/step - loss: 0.1600 - acc: 0.9505 - val_loss: 0.1161 - val_acc: 0.9654\n",
            "Epoch 2/5\n",
            "295/295 [==============================] - 597s 2s/step - loss: 0.0625 - acc: 0.9808 - val_loss: 0.0540 - val_acc: 0.9839\n",
            "Epoch 3/5\n",
            "295/295 [==============================] - 561s 2s/step - loss: 0.0471 - acc: 0.9855 - val_loss: 0.0828 - val_acc: 0.9759\n",
            "Epoch 4/5\n",
            "295/295 [==============================] - 524s 2s/step - loss: 0.0450 - acc: 0.9862 - val_loss: 0.0768 - val_acc: 0.9788\n",
            "Epoch 5/5\n",
            "295/295 [==============================] - 532s 2s/step - loss: 0.0368 - acc: 0.9887 - val_loss: 0.0698 - val_acc: 0.9803\n",
            "\n",
            "Epoch 00005: ReduceLROnPlateau reducing learning rate to 0.00020000000949949026.\n"
          ]
        }
      ],
      "source": [
        "# metrics1 = model1.fit(x=train_F, y=train_L_dist, epochs=20, verbose=1)\n",
        "\n",
        "# Fit the model\n",
        "metrics1 = model1.fit_generator(train_gen, \n",
        "                              epochs = epochs, \n",
        "                              steps_per_epoch = train_steps,\n",
        "                              validation_data = test_gen,\n",
        "                              validation_steps = valid_steps, \n",
        "                              callbacks=[es, rp])"
      ]
    },
    {
      "cell_type": "code",
      "source": [
        "model1.save_weights( './weights2-mnist.h5' )"
      ],
      "metadata": {
        "id": "KWIf6CxXvwS1"
      },
      "execution_count": 36,
      "outputs": []
    },
    {
      "cell_type": "code",
      "source": [
        "yhat = model1.predict(data_F[300].reshape(1, ch, cw, 3))\n",
        "# np.argmax(yhat, axis=1).tolist()\n",
        "yhat.argmax()"
      ],
      "metadata": {
        "colab": {
          "base_uri": "https://localhost:8080/"
        },
        "id": "jQ8dbCOCwCNI",
        "outputId": "06725527-23da-4787-9eee-785b7adedb54"
      },
      "execution_count": 41,
      "outputs": [
        {
          "output_type": "execute_result",
          "data": {
            "text/plain": [
              "3"
            ]
          },
          "metadata": {},
          "execution_count": 41
        }
      ]
    },
    {
      "cell_type": "markdown",
      "metadata": {
        "id": "h6Zu6CyARjYj"
      },
      "source": [
        "### Predict"
      ]
    },
    {
      "cell_type": "code",
      "source": [
        "metrics1"
      ],
      "metadata": {
        "id": "IPyIgnd815ij",
        "colab": {
          "base_uri": "https://localhost:8080/"
        },
        "outputId": "693a1d87-5971-4f05-f490-4cff7593547c"
      },
      "execution_count": 32,
      "outputs": [
        {
          "output_type": "execute_result",
          "data": {
            "text/plain": [
              "<keras.callbacks.History at 0x7f06d32e6950>"
            ]
          },
          "metadata": {},
          "execution_count": 32
        }
      ]
    },
    {
      "cell_type": "code",
      "execution_count": 33,
      "metadata": {
        "id": "ZdzBBfKW6Uzy"
      },
      "outputs": [],
      "source": [
        "# pred = model0.predict(\n",
        "#     [train_F, train_L_id, np.array([1]), np.array([1])]\n",
        "# )"
      ]
    },
    {
      "cell_type": "code",
      "execution_count": 40,
      "metadata": {
        "id": "chh_M6jWPUOh",
        "colab": {
          "base_uri": "https://localhost:8080/",
          "height": 299
        },
        "outputId": "90e982d2-e1a8-448f-9266-3f098bf36573"
      },
      "outputs": [
        {
          "output_type": "execute_result",
          "data": {
            "text/plain": [
              "<matplotlib.image.AxesImage at 0x7f06d3bb6850>"
            ]
          },
          "metadata": {},
          "execution_count": 40
        },
        {
          "output_type": "display_data",
          "data": {
            "text/plain": [
              "<Figure size 432x288 with 1 Axes>"
            ],
            "image/png": "[encoded data removed]"
          },
          "metadata": {
            "needs_background": "light"
          }
        }
      ],
      "source": [
        "import matplotlib.pyplot as plt\n",
        "%matplotlib inline\n",
        "img = data_F[300]\n",
        "img = img.astype(np.uint8) \n",
        "plt.title(data_L[300])\n",
        "plt.imshow(img * 255)"
      ]
    },
    {
      "cell_type": "code",
      "execution_count": null,
      "metadata": {
        "id": "JSpEH8w27ryb"
      },
      "outputs": [],
      "source": [
        "# !git clone https://github.com/danyentezari/model_weights.git"
      ]
    },
    {
      "cell_type": "code",
      "execution_count": null,
      "metadata": {
        "id": "rgkTA-AFTW6w"
      },
      "outputs": [],
      "source": [
        "_, model_infer = NNModel()\n",
        "# model_infer.load_weights(\"./model_weights/weights0-mnist.h5\")\n",
        "model_infer.load_weights(\"./weights1-mnist.h5\")\n"
      ]
    },
    {
      "cell_type": "code",
      "execution_count": null,
      "metadata": {
        "id": "5uUGXWN1QxYN"
      },
      "outputs": [],
      "source": [
        "# sample = train_F[0].reshape(1, 100, 780, 3)\n",
        "yhat = model_infer.predict(train_F[9000].reshape(1, ch, cw, 3))"
      ]
    },
    {
      "cell_type": "code",
      "execution_count": null,
      "metadata": {
        "id": "_VwdmSAp17oE"
      },
      "outputs": [],
      "source": [
        "np.argmax(yhat, axis=1).tolist()"
      ]
    },
    {
      "cell_type": "code",
      "execution_count": null,
      "metadata": {
        "id": "OmGyGKINSRON"
      },
      "outputs": [],
      "source": [
        ""
      ]
    }
  ],
  "metadata": {
    "colab": {
      "collapsed_sections": [],
      "name": "keras-ocr-realvalues-bignumber-mnist.ipynb",
      "provenance": [],
      "authorship_tag": "ABX9TyPoDA4ReuYTQq8NW1u1ZhbU",
      "include_colab_link": true
    },
    "kernelspec": {
      "display_name": "Python 3",
      "name": "python3"
    },
    "language_info": {
      "name": "python"
    }
  },
  "nbformat": 4,
  "nbformat_minor": 0
}