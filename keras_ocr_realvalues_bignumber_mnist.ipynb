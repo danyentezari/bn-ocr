{
  "cells": [
    {
      "cell_type": "markdown",
      "metadata": {
        "id": "view-in-github",
        "colab_type": "text"
      },
      "source": [
        "<a href=\"https://colab.research.google.com/github/danyentezari/bn-ocr/blob/main/keras_ocr_realvalues_bignumber_mnist.ipynb\" target=\"_parent\"><img src=\"https://colab.research.google.com/assets/colab-badge.svg\" alt=\"Open In Colab\"/></a>"
      ]
    },
    {
      "cell_type": "markdown",
      "source": [
        "Instructions\n",
        "1. Upload 'kaggle.json.zip'\n",
        "2. Upload sample image (e.g, '8.jpg')"
      ],
      "metadata": {
        "id": "fsAG5QoUVywE"
      }
    },
    {
      "cell_type": "code",
      "execution_count": null,
      "metadata": {
        "id": "obI7x309JZl7"
      },
      "outputs": [],
      "source": [
        "!pip install keras==2.2.5\n",
        "!pip install tensorflow==1.13.1\n",
        "!unzip kaggle.json.zip\n",
        "!mkdir ~/.kaggle \n",
        "!cp kaggle.json ~/.kaggle/\n",
        "!chmod 600 ~/.kaggle/kaggle.json\n",
        "!kaggle datasets download scolianni/mnistasjpg\n",
        "!unzip mnistasjpg.zip\n",
        "!pip install keras==2.2.5\n",
        "!pip install tensorflow==1.13.1\n",
        "!pip install 'h5py==2.10.0' --force-reinstall\n",
        "!pip install cairocffi\n",
        "!pip install gdown"
      ]
    },
    {
      "cell_type": "code",
      "execution_count": 18,
      "metadata": {
        "id": "dq_h85uJ60oR"
      },
      "outputs": [],
      "source": [
        "import matplotlib.pyplot as plt\n",
        "from os import listdir\n",
        "from os.path import isfile, join\n",
        "import re\n",
        "import cv2\n",
        "import string\n",
        "from PIL import Image\n",
        "import os\n",
        "import itertools\n",
        "import codecs\n",
        "import re\n",
        "import datetime\n",
        "import cairocffi as cairo\n",
        "import editdistance\n",
        "import numpy as np\n",
        "from scipy import ndimage\n",
        "import pylab\n",
        "import keras\n",
        "import tensorflow\n",
        "from keras import backend as K\n",
        "\n",
        "\n",
        "from keras.models import Model\n",
        "from keras.models import Sequential\n",
        "\n",
        "from keras.layers.convolutional import Conv2D, MaxPooling2D\n",
        "from keras.layers import Input, Activation\n",
        "from keras.layers import Reshape, Lambda\n",
        "from keras.layers import Conv2D, Lambda, MaxPooling2D # convolution layers\n",
        "from keras.layers import Dense, Dropout, Flatten # core layers\n",
        "from keras.layers.merge import add, concatenate\n",
        "\n",
        "from keras.layers.recurrent import GRU\n",
        "from keras.optimizers import SGD\n",
        "from keras.utils.data_utils import get_file\n",
        "from keras.preprocessing import image\n",
        "from keras.preprocessing.image import load_img\n",
        "from keras.preprocessing.image import img_to_array\n",
        "import keras.callbacks\n",
        "#from keras.metrics import Metric\n",
        "from tensorflow.python.keras.metrics import Metric\n",
        "from tensorflow.keras import datasets, layers, models\n",
        "from keras.utils.np_utils import to_categorical\n",
        "from keras.preprocessing.image import ImageDataGenerator\n",
        "\n",
        "from sklearn.model_selection import train_test_split\n",
        "\n",
        "from keras.layers.normalization import BatchNormalization"
      ]
    },
    {
      "cell_type": "code",
      "execution_count": 6,
      "metadata": {
        "id": "FmvD6G93A82e"
      },
      "outputs": [],
      "source": [
        "alphabet = '0123456789'"
      ]
    },
    {
      "cell_type": "code",
      "execution_count": 5,
      "metadata": {
        "id": "x1HL-lIrl_3J"
      },
      "outputs": [],
      "source": [
        "def loadImage(filepath):\n",
        "  img = load_img(filepath)\n",
        "  img = img_to_array(img)\n",
        "  # img = img.reshape(1, 448, 64, 3)\n",
        "  # img = img.reshape(64, 192, 3)\n",
        "  img = img.astype('float32')\n",
        "  img = img / 255.0\n",
        "  return img"
      ]
    },
    {
      "cell_type": "code",
      "execution_count": 7,
      "metadata": {
        "id": "ZjafOnBskSaP"
      },
      "outputs": [],
      "source": [
        "from os import listdir\n",
        "from os.path import isfile, join\n",
        "\n",
        "ch = 28\n",
        "cw = 28\n",
        "\n",
        "data_F = np.empty((0, ch, cw, 3))\n",
        "data_L = np.empty((0))\n",
        "\n",
        "i = 0\n",
        "for f_label in listdir('./trainingSet/trainingSet'):\n",
        "  for img_name in listdir(f'./trainingSet/trainingSet/{f_label}'):\n",
        "    img = loadImage(f'./trainingSet/trainingSet/{f_label}/{img_name}')\n",
        "\n",
        "    data_F = np.append(data_F, [img], axis=0)\n",
        "    data_L = np.append(data_L, [f_label], axis=0)"
      ]
    },
    {
      "cell_type": "code",
      "execution_count": 8,
      "metadata": {
        "id": "KdN-6Yc1bZ8u"
      },
      "outputs": [],
      "source": [
        "data_L_dist = to_categorical(data_L)"
      ]
    },
    {
      "cell_type": "code",
      "execution_count": 9,
      "metadata": {
        "colab": {
          "base_uri": "https://localhost:8080/",
          "height": 45
        },
        "id": "85_0abkw7Oxa",
        "outputId": "432c3a4d-cd89-4b06-d9a8-661a5dd188fe"
      },
      "outputs": [
        {
          "output_type": "execute_result",
          "data": {
            "text/plain": [
              "<PIL.Image.Image image mode=RGB size=28x28 at 0x7FB72907EA10>"
            ],
            "image/png": "[encoded data removed]"
          },
          "metadata": {},
          "execution_count": 9
        }
      ],
      "source": [
        "sample_image = loadImage('./trainingSet/trainingSet/0/img_1.jpg')\n",
        "Image.fromarray(np.uint8(sample_image*255)).convert('RGB')"
      ]
    },
    {
      "cell_type": "markdown",
      "metadata": {
        "id": "jXCR8ROH7ep6"
      },
      "source": [
        "### Features and Labels"
      ]
    },
    {
      "cell_type": "code",
      "execution_count": 10,
      "metadata": {
        "colab": {
          "base_uri": "https://localhost:8080/"
        },
        "id": "Y2nWSEqY7lbC",
        "outputId": "fbfc07e2-aec8-4102-afb3-bbd267724a3a"
      },
      "outputs": [
        {
          "output_type": "stream",
          "name": "stdout",
          "text": [
            "(42000, 28, 28, 3)\n",
            "(42000,)\n",
            "(42000, 10)\n"
          ]
        }
      ],
      "source": [
        "print(data_F.shape)\n",
        "print(data_L.shape)\n",
        "print(data_L_dist.shape)"
      ]
    },
    {
      "cell_type": "markdown",
      "metadata": {
        "id": "dK1qdIDHdyVY"
      },
      "source": [
        "### Alternative Model"
      ]
    },
    {
      "cell_type": "code",
      "execution_count": 11,
      "metadata": {
        "id": "KfOMTtB1hcdF"
      },
      "outputs": [],
      "source": [
        "train_F, test_F, train_L_dist, test_L_dist = train_test_split(data_F, data_L_dist, test_size=0.1, random_state=0)"
      ]
    },
    {
      "cell_type": "code",
      "execution_count": 12,
      "metadata": {
        "id": "17RoiGw_hsWY",
        "colab": {
          "base_uri": "https://localhost:8080/"
        },
        "outputId": "8c6e802d-8dfd-4ebd-b725-226de4ba7a15"
      },
      "outputs": [
        {
          "output_type": "execute_result",
          "data": {
            "text/plain": [
              "((37800, 28, 28, 3), (4200, 28, 28, 3), (37800, 10), (4200, 10))"
            ]
          },
          "metadata": {},
          "execution_count": 12
        }
      ],
      "source": [
        "train_F.shape, test_F.shape, train_L_dist.shape, test_L_dist.shape"
      ]
    },
    {
      "cell_type": "code",
      "execution_count": 13,
      "metadata": {
        "id": "uSttdlwhg4Nx"
      },
      "outputs": [],
      "source": [
        "# With data augmentation to prevent overfitting\n",
        "\n",
        "datagen = ImageDataGenerator(\n",
        "        featurewise_center=False,  # set input mean to 0 over the dataset\n",
        "        samplewise_center=False,  # set each sample mean to 0\n",
        "        featurewise_std_normalization=False,  # divide inputs by std of the dataset\n",
        "        samplewise_std_normalization=False,  # divide each input by its std\n",
        "        zca_whitening=False,  # apply ZCA whitening\n",
        "        rotation_range=15,  # randomly rotate images in the range (degrees, 0 to 180)\n",
        "        zoom_range = 0.01, # Randomly zoom image \n",
        "        width_shift_range=0.1,  # randomly shift images horizontally (fraction of total width)\n",
        "        height_shift_range=0.1,  # randomly shift images vertically (fraction of total height)\n",
        "        horizontal_flip=False,  # randomly flip images\n",
        "        vertical_flip=False)  # randomly flip images\n",
        "\n",
        "\n",
        "#datagen.fit(X_train)\n",
        "train_gen = datagen.flow(train_F, train_L_dist, batch_size=128)\n",
        "test_gen = datagen.flow(test_F, test_L_dist, batch_size=128)"
      ]
    },
    {
      "cell_type": "code",
      "execution_count": 14,
      "metadata": {
        "id": "map673iJhIgl"
      },
      "outputs": [],
      "source": [
        "epochs = 5\n",
        "batch_size = 128\n",
        "train_steps = train_F.shape[0] // batch_size\n",
        "valid_steps = train_L_dist.shape[0] // batch_size\n",
        "\n",
        "es = keras.callbacks.EarlyStopping(\n",
        "        monitor=\"val_acc\", # metrics to monitor\n",
        "        patience=10, # how many epochs before stop\n",
        "        verbose=1,\n",
        "        mode=\"max\", # we need the maximum accuracy.\n",
        "        restore_best_weights=True, # \n",
        "     )\n",
        "\n",
        "rp = keras.callbacks.ReduceLROnPlateau(\n",
        "        monitor=\"val_acc\",\n",
        "        factor=0.2,\n",
        "        patience=3,\n",
        "        verbose=1,\n",
        "        mode=\"max\",\n",
        "        min_lr=0.00001,\n",
        "     )"
      ]
    },
    {
      "cell_type": "code",
      "execution_count": 19,
      "metadata": {
        "id": "qmORo5YJdqLH",
        "colab": {
          "base_uri": "https://localhost:8080/"
        },
        "outputId": "2a911ea6-a268-4167-b730-8cd5a5d77e9a"
      },
      "outputs": [
        {
          "output_type": "stream",
          "name": "stderr",
          "text": [
            "WARNING:tensorflow:From /usr/local/lib/python3.7/dist-packages/tensorflow/python/framework/op_def_library.py:263: colocate_with (from tensorflow.python.framework.ops) is deprecated and will be removed in a future version.\n",
            "Instructions for updating:\n",
            "Colocations handled automatically by placer.\n"
          ]
        }
      ],
      "source": [
        "model1=Sequential()\n",
        "\n",
        "#model1.add(Lambda(standardize,input_shape=(28,28,1)))    \n",
        "model1.add(Conv2D(filters=64, kernel_size = (3,3), activation=\"relu\", input_shape=(28,28,3)))\n",
        "model1.add(Conv2D(filters=64, kernel_size = (3,3), activation=\"relu\"))\n",
        "model1.add(MaxPooling2D(pool_size=(2,2)))\n",
        "model1.add(BatchNormalization())\n",
        "\n",
        "model1.add(Conv2D(filters=128, kernel_size = (3,3), activation=\"relu\"))\n",
        "model1.add(Conv2D(filters=128, kernel_size = (3,3), activation=\"relu\"))\n",
        "model1.add(MaxPooling2D(pool_size=(2,2)))\n",
        "model1.add(BatchNormalization())    \n",
        "\n",
        "model1.add(Conv2D(filters=256, kernel_size = (3,3), activation=\"relu\"))\n",
        "model1.add(MaxPooling2D(pool_size=(2,2)))\n",
        "model1.add(BatchNormalization())\n",
        "    \n",
        "model1.add(Flatten())\n",
        "model1.add(Dense(512,activation=\"relu\"))\n",
        "    \n",
        "model1.add(Dense(10,activation=\"softmax\"))\n",
        "    \n",
        "model1.compile(loss=\"categorical_crossentropy\", optimizer=\"adam\", metrics=[\"accuracy\"])"
      ]
    },
    {
      "cell_type": "code",
      "execution_count": 20,
      "metadata": {
        "id": "f3m3usj0eA-I",
        "colab": {
          "base_uri": "https://localhost:8080/"
        },
        "outputId": "36f19ef7-174f-4acc-bb47-ba72869ff3a9"
      },
      "outputs": [
        {
          "output_type": "stream",
          "name": "stderr",
          "text": [
            "WARNING:tensorflow:From /usr/local/lib/python3.7/dist-packages/tensorflow/python/ops/math_ops.py:3066: to_int32 (from tensorflow.python.ops.math_ops) is deprecated and will be removed in a future version.\n",
            "Instructions for updating:\n",
            "Use tf.cast instead.\n"
          ]
        },
        {
          "output_type": "stream",
          "name": "stdout",
          "text": [
            "Epoch 1/5\n",
            "295/295 [==============================] - 598s 2s/step - loss: 0.1599 - acc: 0.9502 - val_loss: 0.0950 - val_acc: 0.9727\n",
            "Epoch 2/5\n",
            "295/295 [==============================] - 517s 2s/step - loss: 0.0626 - acc: 0.9803 - val_loss: 0.0695 - val_acc: 0.9802\n",
            "Epoch 3/5\n",
            "295/295 [==============================] - 524s 2s/step - loss: 0.0492 - acc: 0.9844 - val_loss: 0.0793 - val_acc: 0.9779\n",
            "Epoch 4/5\n",
            "295/295 [==============================] - 540s 2s/step - loss: 0.0414 - acc: 0.9874 - val_loss: 0.0715 - val_acc: 0.9812\n",
            "Epoch 5/5\n",
            "295/295 [==============================] - 530s 2s/step - loss: 0.0404 - acc: 0.9871 - val_loss: 0.0685 - val_acc: 0.9797\n"
          ]
        }
      ],
      "source": [
        "# metrics1 = model1.fit(x=train_F, y=train_L_dist, epochs=20, verbose=1)\n",
        "\n",
        "# Fit the model\n",
        "metrics1 = model1.fit_generator(train_gen, \n",
        "                              epochs = epochs, \n",
        "                              steps_per_epoch = train_steps,\n",
        "                              validation_data = test_gen,\n",
        "                              validation_steps = valid_steps, \n",
        "                              callbacks=[es, rp])"
      ]
    },
    {
      "cell_type": "code",
      "source": [
        "model1.save_weights( './weights2-mnist.h5' )"
      ],
      "metadata": {
        "id": "KWIf6CxXvwS1"
      },
      "execution_count": null,
      "outputs": []
    },
    {
      "cell_type": "code",
      "source": [
        ""
      ],
      "metadata": {
        "id": "jQ8dbCOCwCNI"
      },
      "execution_count": null,
      "outputs": []
    },
    {
      "cell_type": "markdown",
      "metadata": {
        "id": "h6Zu6CyARjYj"
      },
      "source": [
        "### Predict"
      ]
    },
    {
      "cell_type": "code",
      "execution_count": 21,
      "metadata": {
        "id": "chh_M6jWPUOh",
        "colab": {
          "base_uri": "https://localhost:8080/",
          "height": 299
        },
        "outputId": "fe454efa-6b03-48b6-d02d-21f11c14776c"
      },
      "outputs": [
        {
          "output_type": "execute_result",
          "data": {
            "text/plain": [
              "<matplotlib.image.AxesImage at 0x7fb76a207f10>"
            ]
          },
          "metadata": {},
          "execution_count": 21
        },
        {
          "output_type": "display_data",
          "data": {
            "text/plain": [
              "<Figure size 432x288 with 1 Axes>"
            ],
            "image/png": "[encoded data removed]"
          },
          "metadata": {
            "needs_background": "light"
          }
        }
      ],
      "source": [
        "import matplotlib.pyplot as plt\n",
        "%matplotlib inline\n",
        "img = data_F[7300]\n",
        "img = img.astype(np.uint8) \n",
        "plt.title(data_L[7300])\n",
        "plt.imshow(img * 255)"
      ]
    },
    {
      "cell_type": "code",
      "source": [
        "yhat = model1.predict(data_F[7300].reshape(1, ch, cw, 3))\n",
        "# np.argmax(yhat, axis=1).tolist()\n",
        "yhat.argmax()"
      ],
      "metadata": {
        "colab": {
          "base_uri": "https://localhost:8080/"
        },
        "id": "RGeisT2mYNq2",
        "outputId": "12a628a4-e372-499c-ea9d-23b2c4338078"
      },
      "execution_count": 22,
      "outputs": [
        {
          "output_type": "execute_result",
          "data": {
            "text/plain": [
              "7"
            ]
          },
          "metadata": {},
          "execution_count": 22
        }
      ]
    },
    {
      "cell_type": "code",
      "source": [
        "# View sample image and predicted label together\n",
        "\n",
        "sample_image = loadImage('./8.jpg')\n",
        "sample_image = 255 - (sample_image * 255)\n",
        "# Image.fromarray(np.uint8(sample_image*255)).convert('RGB')\n",
        "img = sample_image.astype(np.uint8) \n",
        "plt.imshow(img)\n",
        "\n",
        "yhat = model1.predict(img.reshape(1, ch, cw, 3))\n",
        "yhat.argmax()"
      ],
      "metadata": {
        "colab": {
          "base_uri": "https://localhost:8080/",
          "height": 283
        },
        "id": "YD3mQE4Kel52",
        "outputId": "ca099131-a25c-4040-f2ed-26b216f4da71"
      },
      "execution_count": 24,
      "outputs": [
        {
          "output_type": "execute_result",
          "data": {
            "text/plain": [
              "8"
            ]
          },
          "metadata": {},
          "execution_count": 24
        },
        {
          "output_type": "display_data",
          "data": {
            "text/plain": [
              "<Figure size 432x288 with 1 Axes>"
            ],
            "image/png": "[encoded data removed]"
          },
          "metadata": {
            "needs_background": "light"
          }
        }
      ]
    }
  ],
  "metadata": {
    "colab": {
      "collapsed_sections": [],
      "name": "keras-ocr-realvalues-bignumber-mnist.ipynb",
      "provenance": [],
      "authorship_tag": "ABX9TyPQyvOOJexz3lTP2z4PHub9",
      "include_colab_link": true
    },
    "kernelspec": {
      "display_name": "Python 3",
      "name": "python3"
    },
    "language_info": {
      "name": "python"
    }
  },
  "nbformat": 4,
  "nbformat_minor": 0
}